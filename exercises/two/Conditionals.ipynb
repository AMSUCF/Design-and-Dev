{
 "cells": [
  {
   "cell_type": "code",
   "execution_count": 2,
   "source": [
    "x = 2\r\n",
    "y = 3\r\n",
    "name = \"Fred\"\r\n",
    "age = 35\r\n",
    "print(x == y)\r\n",
    "print(x == 2)\r\n",
    "print(x < y)"
   ],
   "outputs": [
    {
     "output_type": "stream",
     "name": "stdout",
     "text": [
      "False\n",
      "True\n",
      "True\n"
     ]
    }
   ],
   "metadata": {}
  },
  {
   "cell_type": "code",
   "execution_count": 7,
   "source": [
    "flintstones = [\"Fred\",\"Wilma\",\"Pebbles\",\"Dino\"]\r\n",
    "rubbles = [\"Barney\",\"Betty\",\"Bamm-Bamm\",\"Hoppy\"]\r\n",
    "if name == \"Wilma\" and age == 35:\r\n",
    "    print(\"Wilma verified.\")\r\n",
    "\r\n",
    "if name == \"Wilma\" or age == 35:\r\n",
    "    print(\"Possibly Wilma.\")\r\n",
    "\r\n",
    "if name in flintstones:\r\n",
    "    print(\"Found Flintstone.\")\r\n",
    "elif name in rubbles:\r\n",
    "    print(\"Found Rubble.\")\r\n",
    "else:\r\n",
    "    print(\"Not a character.\")"
   ],
   "outputs": [
    {
     "output_type": "stream",
     "name": "stdout",
     "text": [
      "Possibly Wilma.\n",
      "Found Rubble.\n"
     ]
    }
   ],
   "metadata": {}
  },
  {
   "cell_type": "code",
   "execution_count": 9,
   "source": [
    "name = \"Barney\"\r\n",
    "age = 23\r\n",
    "\r\n",
    "rubble = name in rubbles\r\n",
    "print(rubble)\r\n",
    "print(not rubble)"
   ],
   "outputs": [
    {
     "output_type": "stream",
     "name": "stdout",
     "text": [
      "True\n",
      "False\n"
     ]
    }
   ],
   "metadata": {}
  }
 ],
 "metadata": {
  "orig_nbformat": 4,
  "language_info": {
   "name": "python",
   "version": "3.7.8",
   "mimetype": "text/x-python",
   "codemirror_mode": {
    "name": "ipython",
    "version": 3
   },
   "pygments_lexer": "ipython3",
   "nbconvert_exporter": "python",
   "file_extension": ".py"
  },
  "kernelspec": {
   "name": "python3",
   "display_name": "Python 3.7.8 64-bit ('base': conda)"
  },
  "interpreter": {
   "hash": "b3ba2566441a7c06988d0923437866b63cedc61552a5af99d1f4fb67d367b25f"
  }
 },
 "nbformat": 4,
 "nbformat_minor": 2
}