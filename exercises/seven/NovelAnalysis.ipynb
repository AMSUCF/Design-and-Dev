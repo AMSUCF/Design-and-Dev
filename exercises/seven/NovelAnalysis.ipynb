{
 "cells": [
  {
   "cell_type": "code",
   "execution_count": 55,
   "source": [
    "import nltk\r\n",
    "import nltk.tokenize\r\n",
    "\r\n",
    "# download the most recent punkt package\r\n",
    "nltk.download('punkt', quiet=True)\r\n",
    "\r\n",
    "corpus = [\"alice.txt\",\"anne.txt\",\"oz.txt\"]\r\n",
    "titles = [\"Alice in Wonderland\", \"Anne of Green Gables\", \"Wizard of Oz\"]\r\n",
    "documents = []\r\n",
    "for url in corpus:\r\n",
    "    f = open(url, encoding='utf-8')\r\n",
    "    text = f.read()\r\n",
    "    documents.append(text)\r\n",
    "print(documents[1][0:100])"
   ],
   "outputs": [
    {
     "output_type": "stream",
     "name": "stdout",
     "text": [
      "The Project Gutenberg EBook of Anne of Green Gables, by Lucy Maud Montgomery\n",
      "\n",
      "This eBook is for the\n"
     ]
    }
   ],
   "metadata": {}
  },
  {
   "cell_type": "code",
   "execution_count": 45,
   "source": [
    "import re\r\n",
    "\r\n",
    "\r\n",
    "PUNCT_RE = re.compile(r'[^\\w\\s]+$')\r\n",
    "\r\n",
    "\r\n",
    "def is_punct(string):\r\n",
    "    \"\"\"Check if STRING is a punctuation marker or a sequence of\r\n",
    "       punctuation markers.\r\n",
    "    \"\"\"\r\n",
    "    return PUNCT_RE.match(string) is not None"
   ],
   "outputs": [],
   "metadata": {}
  },
  {
   "cell_type": "code",
   "execution_count": 46,
   "source": [
    "def preprocess_text(text, language, lowercase=True):\r\n",
    "    \"\"\"Preprocess a text.\r\n",
    "\r\n",
    "    Perform a text preprocessing procedure, which transforms a string\r\n",
    "    object into a list of word tokens without punctuation markers.\r\n",
    "\r\n",
    "    \"\"\"\r\n",
    "    if lowercase:\r\n",
    "        text = text.lower()\r\n",
    "    tokens = nltk.tokenize.word_tokenize(text, language=language)\r\n",
    "    tokens = [token for token in tokens if not is_punct(token)]\r\n",
    "    return tokens"
   ],
   "outputs": [],
   "metadata": {}
  },
  {
   "cell_type": "code",
   "execution_count": 47,
   "source": [
    "tokenized = []\r\n",
    "for text in documents:\r\n",
    "    tokenized.append(preprocess_text(text, \"english\"))\r\n",
    "\r\n",
    "print(tokenized[0][11])"
   ],
   "outputs": [
    {
     "output_type": "stream",
     "name": "stdout",
     "text": [
      "lewis\n"
     ]
    }
   ],
   "metadata": {}
  },
  {
   "cell_type": "code",
   "execution_count": 48,
   "source": [
    "def extract_vocabulary(tokenized_corpus, min_count=1, max_count=float('inf')):\r\n",
    "    \"\"\"Extract a vocabulary from a tokenized corpus.\r\n",
    "\r\n",
    "    Arguments:\r\n",
    "        tokenized_corpus (list): a tokenized corpus represented, list\r\n",
    "            of lists of strings.\r\n",
    "        min_count (int, optional): the minimum occurrence count of a\r\n",
    "            vocabulary item in the corpus.\r\n",
    "        max_count (int, optional): the maximum occurrence count of a\r\n",
    "            vocabulary item in the corpus. Defaults to inf.\r\n",
    "\r\n",
    "    Returns:\r\n",
    "        list: An alphabetically ordered list of unique words in the\r\n",
    "            corpus, of which the frequencies adhere to the specified\r\n",
    "            minimum and maximum count.\r\n",
    "\r\n",
    "    Examples:\r\n",
    "        >>> corpus = [['the', 'man', 'love', 'man', 'the'],\r\n",
    "                      ['the', 'love', 'book', 'wise', 'drama'],\r\n",
    "                      ['a', 'story', 'book', 'drama']]\r\n",
    "        >>> extract_vocabulary(corpus, min_count=2)\r\n",
    "        ['book', 'drama', 'love', 'man', 'the']\r\n",
    "\r\n",
    "    \"\"\"\r\n",
    "    vocabulary = collections.Counter()\r\n",
    "    for document in tokenized_corpus:\r\n",
    "        vocabulary.update(document)\r\n",
    "    vocabulary = {word for word, count in vocabulary.items()\r\n",
    "                  if count >= min_count and count <= max_count}\r\n",
    "    return sorted(vocabulary)\r\n",
    "import collections\r\n",
    "vocabulary = extract_vocabulary(tokenized, min_count=2)\r\n",
    "print(vocabulary[0:100])"
   ],
   "outputs": [
    {
     "output_type": "stream",
     "name": "stdout",
     "text": [
      "[\"'as-is\", \"'s\", '1', '1.', '1.a', '1.b', '1.c', '1.d', '1.e', '1.e.1', '1.e.2', '1.e.3', '1.e.4', '1.e.5', '1.e.6', '1.e.7', '1.e.8', '1.e.9', '1.f', '1.f.1', '1.f.2', '1.f.3', '1.f.4', '1.f.5', '1.f.6', '1500', '2.', '20', '2001', '2020', '3', '3.', '30', '4', '4.', '5,000', '5.', '50', '501', '596-1887.', '60', '64-6221541.', '801', '809', '84116', '90', '_', '_am_', '_are_', '_at', '_best_', '_can_', '_cannot_', '_could_', '_dead', '_did_', '_don', '_ever_', '_glad_', '_good_', '_have_', '_he_', '_her_', '_i', '_i_', '_imagine_', '_instinctively_', '_is_', '_it_', '_know_', '_me_', '_must_', '_never_', '_not_', '_on', '_one_', '_quite_', '_she_', '_so_', '_such_', '_that', '_that_', '_think_', '_this_', '_un_important', '_very_', '_was_', '_were_', '_what', '_what_', '_will_', '_would_', '_you', '_you_', '_your_', 'a', 'abashed', 'abbey', 'abide', 'able']\n"
     ]
    }
   ],
   "metadata": {}
  },
  {
   "cell_type": "code",
   "execution_count": 49,
   "source": [
    "def corpus2dtm(tokenized_corpus, vocabulary):\r\n",
    "    \"\"\"Transform a tokenized corpus into a document-term matrix.\r\n",
    "\r\n",
    "    Arguments:\r\n",
    "        tokenized_corpus (list): a tokenized corpus as a list of\r\n",
    "        lists of strings. vocabulary (list): An list of unique words.\r\n",
    "\r\n",
    "    Returns:\r\n",
    "        list: A list of lists representing the frequency of each term\r\n",
    "              in `vocabulary` for each document in the corpus.\r\n",
    "\r\n",
    "    Examples:\r\n",
    "        >>> tokenized_corpus = [['the', 'man', 'man', 'smart'],\r\n",
    "                                ['a', 'the', 'man' 'love'],\r\n",
    "                                ['love', 'book', 'journey']]\r\n",
    "        >>> vocab = ['book', 'journey', 'man', 'love']\r\n",
    "        >>> corpus2dtm(tokenized_corpus, vocabulary)\r\n",
    "        [[0, 0, 2, 0], [0, 0, 1, 1], [1, 1, 0, 1]]\r\n",
    "\r\n",
    "    \"\"\"\r\n",
    "    document_term_matrix = []\r\n",
    "    for document in tokenized_corpus:\r\n",
    "        document_counts = collections.Counter(document)\r\n",
    "        row = [document_counts[word] for word in vocabulary]\r\n",
    "        document_term_matrix.append(row)\r\n",
    "    return document_term_matrix\r\n",
    "\r\n",
    "import numpy as np\r\n",
    "\r\n",
    "document_term_matrix = np.array(corpus2dtm(tokenized, vocabulary))\r\n",
    "girl_id = vocabulary.index('girl')\r\n",
    "boy_id = vocabulary.index('boy')\r\n",
    "\r\n",
    "girl_counts = document_term_matrix[:, girl_id]\r\n",
    "boy_counts = document_term_matrix[:, boy_id]\r\n",
    "print(\"Girl: \" + str(girl_counts))\r\n",
    "print(\"Boy: \" + str(boy_counts))\r\n"
   ],
   "outputs": [
    {
     "output_type": "stream",
     "name": "stdout",
     "text": [
      "Girl: [  4 163  93]\n",
      "Boy: [ 2 48  2]\n"
     ]
    }
   ],
   "metadata": {}
  },
  {
   "cell_type": "code",
   "execution_count": 52,
   "source": [
    "import matplotlib.pyplot as plt\r\n",
    "\r\n",
    "x = np.arange(len(titles))\r\n",
    "width = 0.3\r\n",
    "\r\n",
    "fig, ax = plt.subplots()\r\n",
    "rects1 = ax.bar(x - width/2, girl_counts, width, label='Girl')\r\n",
    "rects2 = ax.bar(x + width/2, boy_counts, width, label='Boy')\r\n",
    "\r\n",
    "ax.set_ylabel('Word Count')\r\n",
    "ax.set_title('Gender Binary Word Frequency')\r\n",
    "ax.set_xticks(x)\r\n",
    "ax.set_xticklabels(titles)\r\n",
    "ax.legend()\r\n",
    "\r\n",
    "fig.tight_layout()\r\n",
    "\r\n",
    "plt.show()"
   ],
   "outputs": [
    {
     "output_type": "display_data",
     "data": {
      "image/png": "[encoded data removed]",
      "text/plain": [
       "<Figure size 432x288 with 1 Axes>"
      ]
     },
     "metadata": {
      "needs_background": "light"
     }
    }
   ],
   "metadata": {}
  },
  {
   "cell_type": "code",
   "execution_count": 53,
   "source": [
    "alice = np.array([girl_counts[0], boy_counts[0]])\r\n",
    "anne = np.array([girl_counts[1], boy_counts[1]])\r\n",
    "oz = np.array([girl_counts[2], boy_counts[2]])"
   ],
   "outputs": [],
   "metadata": {}
  },
  {
   "cell_type": "code",
   "execution_count": 57,
   "source": [
    "def euclidean_distance(a, b):\r\n",
    "    \"\"\"Compute the Euclidean distance between two vectors.\r\n",
    "\r\n",
    "    Note: ``numpy.linalg.norm(a - b)`` performs the\r\n",
    "    same calculation using a slightly faster method.\r\n",
    "\r\n",
    "    Arguments:\r\n",
    "        a (numpy.ndarray): a vector of floats or ints.\r\n",
    "        b (numpy.ndarray): a vector of floats or ints.\r\n",
    "\r\n",
    "    Returns:\r\n",
    "        float: The euclidean distance between vector a and b.\r\n",
    "\r\n",
    "    Examples:\r\n",
    "        >>> import numpy as np\r\n",
    "        >>> a = np.array([1, 4, 2, 8])\r\n",
    "        >>> b = np.array([2, 1, 4, 7])\r\n",
    "        >>> round(euclidean_distance(a, b), 2)\r\n",
    "        3.87\r\n",
    "\r\n",
    "    \"\"\"\r\n",
    "    return np.sqrt(np.sum((a - b) ** 2))\r\n",
    "\r\n",
    "aliceanne = euclidean_distance(alice, anne)\r\n",
    "print(f'Alice - Anne: {aliceanne:.2f}')\r\n",
    "\r\n",
    "aliceoz = euclidean_distance(alice, oz)\r\n",
    "print(f'Alice - Oz: {aliceoz:.2f}')\r\n",
    "\r\n",
    "anneoz = euclidean_distance(anne, oz)\r\n",
    "print(f'Anne - Oz: {anneoz:.2f}')"
   ],
   "outputs": [
    {
     "output_type": "stream",
     "name": "stdout",
     "text": [
      "Alice - Anne: 165.52\n",
      "Alice - Oz: 89.00\n",
      "Anne - Oz: 83.76\n"
     ]
    }
   ],
   "metadata": {}
  }
 ],
 "metadata": {
  "orig_nbformat": 4,
  "language_info": {
   "name": "python",
   "version": "3.8.6",
   "mimetype": "text/x-python",
   "codemirror_mode": {
    "name": "ipython",
    "version": 3
   },
   "pygments_lexer": "ipython3",
   "nbconvert_exporter": "python",
   "file_extension": ".py"
  },
  "kernelspec": {
   "name": "python3",
   "display_name": "Python 3.8.6 64-bit ('py38': conda)"
  },
  "interpreter": {
   "hash": "1e5a1de8262f0e9d1487335168cc67bdb3373dee2cd3d5c339b458468358fbed"
  }
 },
 "nbformat": 4,
 "nbformat_minor": 2
}