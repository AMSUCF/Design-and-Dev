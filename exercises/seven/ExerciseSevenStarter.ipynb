{
 "cells": [
  {
   "cell_type": "markdown",
   "source": [
    "# Exercise Seven Starter: Textual Analysis\r\n",
    "\r\n",
    "In this exercise, I will not be providing the subheadings. Work from our code examples and the textbooks to construct a well-documented notebook that provides a model for initial textual analysis of a multi-document corpus.\r\n",
    "\r\n",
    "Your workflow should:\r\n",
    "- Import at least three documents you would like to compare (from text files, or using another format for a challenge.)\r\n",
    "- Preprocess the text and create a tokenized corpus from the text of the imported documents.\r\n",
    "- Create a document term matrix to enable comparative textual analysis across the full set of documents\r\n",
    "- Chart at least one comparison between the documents, using word frequency to map the text\r\n",
    "- Calculate the Euclidean distance between the documents, using two key words as the point of comparison \r\n",
    "\r\n",
    "As a bonus challenge, consider trying one of the other types of distance modeling described in the text."
   ],
   "metadata": {}
  }
 ],
 "metadata": {
  "orig_nbformat": 4,
  "language_info": {
   "name": "python"
  }
 },
 "nbformat": 4,
 "nbformat_minor": 2
}