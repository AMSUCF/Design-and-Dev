{
 "cells": [
  {
   "cell_type": "code",
   "execution_count": 1,
   "source": [
    "# Regular Expressions: https://docs.python.org/3/library/re.html#re.Pattern.match\r\n",
    "\r\n",
    "def preprocess_text(filename):\r\n",
    "    f = open(filename, 'r')\r\n",
    "    text = f.read()\r\n",
    "    f.close()\r\n",
    "    text = text.lower()\r\n",
    "    import re\r\n",
    "    return re.compile(r'\\W+', re.UNICODE).split(text)\r\n",
    "\r\n",
    "word_bag = preprocess_text('dogememe.txt')\r\n",
    "print(word_bag[0:100])"
   ],
   "outputs": [
    {
     "output_type": "stream",
     "name": "stdout",
     "text": [
      "['aboutdoge', 'pronounced', 'xcb', 'x88do', 'xca', 'x8ad', 'xca', 'x92', 'dohj', 'is', 'a', 'slang', 'term', 'for', 'dog', 'that', 'is', 'primarily', 'associated', 'with', 'pictures', 'of', 'shiba', 'inus', 'nicknamed', 'shibe', 'and', 'internal', 'monologue', 'captions', 'on', 'tumblr', 'these', 'photos', 'may', 'be', 'photoshopped', 'to', 'change', 'the', 'dog', 's', 'face', 'or', 'captioned', 'with', 'interior', 'monologues', 'in', 'comic', 'sans', 'font', 'starting', 'in', '2017', 'ironic', 'doge', 'formats', 'gained', 'prevalence', 'over', 'the', 'original', 'wholesome', 'version', 'n', 'n', 'n', 'n', 'n', 'n', 'n', 'n', 'n', 'n', 'n', 'n', 'n', 'n', 'n', 'n', 'n', 'n', 'n', 'noriginthe', 'use', 'of', 'the', 'misspelled', 'word', 'doge', 'to', 'refer', 'to', 'a', 'dog', 'dates', 'back', 'to', 'june']\n"
     ]
    }
   ],
   "metadata": {}
  },
  {
   "cell_type": "code",
   "execution_count": 6,
   "source": [
    "word_freq = []\r\n",
    "for word in word_bag:\r\n",
    "    word_freq.append(word_bag.count(word))\r\n",
    "\r\n",
    "print(\"Frequencies: \" + str(word_freq[0:100]))\r\n",
    "print(\"Pairs: \" + str(list(zip(word_bag[0:100],word_freq[0:100]))))"
   ],
   "outputs": [
    {
     "output_type": "stream",
     "name": "stdout",
     "text": [
      "Frequencies: [1, 1, 1, 1, 2, 1, 2, 1, 1, 14, 45, 1, 3, 9, 10, 8, 14, 1, 1, 14, 1, 45, 9, 2, 1, 2, 30, 2, 3, 2, 23, 8, 2, 7, 3, 3, 2, 36, 1, 95, 10, 11, 1, 4, 5, 14, 2, 1, 27, 2, 2, 1, 1, 27, 3, 1, 34, 1, 2, 2, 4, 95, 4, 2, 2, 359, 359, 359, 359, 359, 359, 359, 359, 359, 359, 359, 359, 359, 359, 359, 359, 359, 359, 359, 1, 6, 45, 95, 1, 3, 34, 36, 2, 36, 45, 10, 1, 1, 36, 5]\n",
      "Pairs: [('aboutdoge', 1), ('pronounced', 1), ('xcb', 1), ('x88do', 1), ('xca', 2), ('x8ad', 1), ('xca', 2), ('x92', 1), ('dohj', 1), ('is', 14), ('a', 45), ('slang', 1), ('term', 3), ('for', 9), ('dog', 10), ('that', 8), ('is', 14), ('primarily', 1), ('associated', 1), ('with', 14), ('pictures', 1), ('of', 45), ('shiba', 9), ('inus', 2), ('nicknamed', 1), ('shibe', 2), ('and', 30), ('internal', 2), ('monologue', 3), ('captions', 2), ('on', 23), ('tumblr', 8), ('these', 2), ('photos', 7), ('may', 3), ('be', 3), ('photoshopped', 2), ('to', 36), ('change', 1), ('the', 95), ('dog', 10), ('s', 11), ('face', 1), ('or', 4), ('captioned', 5), ('with', 14), ('interior', 2), ('monologues', 1), ('in', 27), ('comic', 2), ('sans', 2), ('font', 1), ('starting', 1), ('in', 27), ('2017', 3), ('ironic', 1), ('doge', 34), ('formats', 1), ('gained', 2), ('prevalence', 2), ('over', 4), ('the', 95), ('original', 4), ('wholesome', 2), ('version', 2), ('n', 359), ('n', 359), ('n', 359), ('n', 359), ('n', 359), ('n', 359), ('n', 359), ('n', 359), ('n', 359), ('n', 359), ('n', 359), ('n', 359), ('n', 359), ('n', 359), ('n', 359), ('n', 359), ('n', 359), ('n', 359), ('n', 359), ('noriginthe', 1), ('use', 6), ('of', 45), ('the', 95), ('misspelled', 1), ('word', 3), ('doge', 34), ('to', 36), ('refer', 2), ('to', 36), ('a', 45), ('dog', 10), ('dates', 1), ('back', 1), ('to', 36), ('june', 5)]\n"
     ]
    }
   ],
   "metadata": {}
  }
 ],
 "metadata": {
  "orig_nbformat": 4,
  "language_info": {
   "name": "python",
   "version": "3.7.8",
   "mimetype": "text/x-python",
   "codemirror_mode": {
    "name": "ipython",
    "version": 3
   },
   "pygments_lexer": "ipython3",
   "nbconvert_exporter": "python",
   "file_extension": ".py"
  },
  "kernelspec": {
   "name": "python3",
   "display_name": "Python 3.7.8 64-bit ('base': conda)"
  },
  "interpreter": {
   "hash": "b3ba2566441a7c06988d0923437866b63cedc61552a5af99d1f4fb67d367b25f"
  }
 },
 "nbformat": 4,
 "nbformat_minor": 2
}