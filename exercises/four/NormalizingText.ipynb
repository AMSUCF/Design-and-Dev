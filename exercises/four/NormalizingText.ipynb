{
 "cells": [
  {
   "cell_type": "code",
   "execution_count": 2,
   "source": [
    "# This program assumes you have completed exercise three, and we will be using the text file from that exercise in this demo. In the take home assignment, you will be combining the parts and making use of functions to structure a more complete text processing pipeline. The sample for processing, dogememe.txt, is available in the repository\r\n",
    "\r\n",
    "f = open('dogememe.txt', 'r')\r\n",
    "text = f.read()\r\n",
    "f.close()\r\n",
    "\r\n",
    "word_bag = text.split()\r\n",
    "print(word_bag[0:100])"
   ],
   "outputs": [
    {
     "output_type": "stream",
     "name": "stdout",
     "text": [
      "['AboutDoge', '(pronounced', '/\\\\xcb\\\\x88do\\\\xca\\\\x8ad\\\\xca\\\\x92/', 'DOHJ)', 'is', 'a', 'slang', 'term', 'for', '\"dog\"', 'that', 'is', 'primarily', 'associated', 'with', 'pictures', 'of', 'Shiba', 'Inus', '(nicknamed', '\"Shibe\")', 'and', 'internal', 'monologue', 'captions', 'on', 'Tumblr.', 'These', 'photos', 'may', 'be', 'photoshopped', 'to', 'change', 'the', \"dog\\\\'s\", 'face', 'or', 'captioned', 'with', 'interior', 'monologues', 'in', 'Comic', 'Sans', 'font.', 'Starting', 'in', '2017,', 'Ironic', 'Doge', 'formats', 'gained', 'prevalence', 'over', 'the', 'original', 'wholesome', 'version.\\\\n\\\\n\\\\n\\\\n\\\\n\\\\n\\\\n\\\\n\\\\n\\\\n\\\\n\\\\n\\\\n\\\\n\\\\n\\\\n\\\\n\\\\n\\\\n\\\\nOriginThe', 'use', 'of', 'the', 'misspelled', 'word', '\"doge\"', 'to', 'refer', 'to', 'a', 'dog', 'dates', 'back', 'to', 'June', '24th,', '2005,', 'when', 'it', 'was', 'mentioned', 'in', 'an', 'episode', 'of', 'Homestar', \"Runner\\\\'s\", 'puppet', 'show.', 'In', 'the', 'episode', 'titled', '\"Biz', 'Cas', 'Fri', '1\"[2],', 'Homestar', 'calls', 'Strong', 'Bad']\n"
     ]
    }
   ],
   "metadata": {}
  },
  {
   "cell_type": "code",
   "execution_count": 4,
   "source": [
    "text = text.lower()\r\n",
    "word_bag = text.split()\r\n",
    "print(word_bag[0:100])"
   ],
   "outputs": [
    {
     "output_type": "stream",
     "name": "stdout",
     "text": [
      "['aboutdoge', '(pronounced', '/\\\\xcb\\\\x88do\\\\xca\\\\x8ad\\\\xca\\\\x92/', 'dohj)', 'is', 'a', 'slang', 'term', 'for', '\"dog\"', 'that', 'is', 'primarily', 'associated', 'with', 'pictures', 'of', 'shiba', 'inus', '(nicknamed', '\"shibe\")', 'and', 'internal', 'monologue', 'captions', 'on', 'tumblr.', 'these', 'photos', 'may', 'be', 'photoshopped', 'to', 'change', 'the', \"dog\\\\'s\", 'face', 'or', 'captioned', 'with', 'interior', 'monologues', 'in', 'comic', 'sans', 'font.', 'starting', 'in', '2017,', 'ironic', 'doge', 'formats', 'gained', 'prevalence', 'over', 'the', 'original', 'wholesome', 'version.\\\\n\\\\n\\\\n\\\\n\\\\n\\\\n\\\\n\\\\n\\\\n\\\\n\\\\n\\\\n\\\\n\\\\n\\\\n\\\\n\\\\n\\\\n\\\\n\\\\noriginthe', 'use', 'of', 'the', 'misspelled', 'word', '\"doge\"', 'to', 'refer', 'to', 'a', 'dog', 'dates', 'back', 'to', 'june', '24th,', '2005,', 'when', 'it', 'was', 'mentioned', 'in', 'an', 'episode', 'of', 'homestar', \"runner\\\\'s\", 'puppet', 'show.', 'in', 'the', 'episode', 'titled', '\"biz', 'cas', 'fri', '1\"[2],', 'homestar', 'calls', 'strong', 'bad']\n"
     ]
    }
   ],
   "metadata": {}
  },
  {
   "cell_type": "code",
   "execution_count": 14,
   "source": [
    "f = open('dogememe.txt', 'r')\r\n",
    "text = f.read()\r\n",
    "f.close()\r\n",
    "\r\n",
    "text = text.lower()\r\n",
    "import re\r\n",
    "word_bag = re.compile(r'\\W+', re.UNICODE).split(text)\r\n",
    "print(word_bag[0:100])"
   ],
   "outputs": [
    {
     "output_type": "stream",
     "name": "stdout",
     "text": [
      "['aboutdoge', 'pronounced', 'xcb', 'x88do', 'xca', 'x8ad', 'xca', 'x92', 'dohj', 'is', 'a', 'slang', 'term', 'for', 'dog', 'that', 'is', 'primarily', 'associated', 'with', 'pictures', 'of', 'shiba', 'inus', 'nicknamed', 'shibe', 'and', 'internal', 'monologue', 'captions', 'on', 'tumblr', 'these', 'photos', 'may', 'be', 'photoshopped', 'to', 'change', 'the', 'dog', 's', 'face', 'or', 'captioned', 'with', 'interior', 'monologues', 'in', 'comic', 'sans', 'font', 'starting', 'in', '2017', 'ironic', 'doge', 'formats', 'gained', 'prevalence', 'over', 'the', 'original', 'wholesome', 'version', 'n', 'n', 'n', 'n', 'n', 'n', 'n', 'n', 'n', 'n', 'n', 'n', 'n', 'n', 'n', 'n', 'n', 'n', 'n', 'noriginthe', 'use', 'of', 'the', 'misspelled', 'word', 'doge', 'to', 'refer', 'to', 'a', 'dog', 'dates', 'back', 'to', 'june']\n"
     ]
    }
   ],
   "metadata": {}
  }
 ],
 "metadata": {
  "orig_nbformat": 4,
  "language_info": {
   "name": "python",
   "version": "3.7.8",
   "mimetype": "text/x-python",
   "codemirror_mode": {
    "name": "ipython",
    "version": 3
   },
   "pygments_lexer": "ipython3",
   "nbconvert_exporter": "python",
   "file_extension": ".py"
  },
  "kernelspec": {
   "name": "python3",
   "display_name": "Python 3.7.8 64-bit ('base': conda)"
  },
  "interpreter": {
   "hash": "b3ba2566441a7c06988d0923437866b63cedc61552a5af99d1f4fb67d367b25f"
  }
 },
 "nbformat": 4,
 "nbformat_minor": 2
}