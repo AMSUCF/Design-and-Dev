{
 "cells": [
  {
   "cell_type": "code",
   "execution_count": 1,
   "source": [
    "def hello():\r\n",
    "    print(\"A functional hello.\")\r\n",
    "\r\n",
    "hello()"
   ],
   "outputs": [
    {
     "output_type": "stream",
     "name": "stdout",
     "text": [
      "A functional hello.\n"
     ]
    }
   ],
   "metadata": {}
  },
  {
   "cell_type": "code",
   "execution_count": 2,
   "source": [
    "def greet(name):\r\n",
    "    print(\"Hello \" + name + \"!\")\r\n",
    "\r\n",
    "greet(\"World\")"
   ],
   "outputs": [
    {
     "output_type": "stream",
     "name": "stdout",
     "text": [
      "Hello World!\n"
     ]
    }
   ],
   "metadata": {}
  },
  {
   "cell_type": "code",
   "execution_count": 3,
   "source": [
    "def greet_default(name = \"You\"):\r\n",
    "    print(\"Hello \" + name + \"!\")\r\n",
    "greet_default()\r\n",
    "greet_default(\"Lois\")"
   ],
   "outputs": [
    {
     "output_type": "stream",
     "name": "stdout",
     "text": [
      "Hello You!\n",
      "Hello Lois!\n"
     ]
    }
   ],
   "metadata": {}
  },
  {
   "cell_type": "code",
   "execution_count": 4,
   "source": [
    "def make_greeting(firstName, lastName):\r\n",
    "    return(\"Hello \" + firstName + \" \" + lastName + \"!\")\r\n",
    "print(make_greeting(\"Clark\", \"Kent\"))\r\n"
   ],
   "outputs": [
    {
     "output_type": "stream",
     "name": "stdout",
     "text": [
      "Hello Clark Kent!\n"
     ]
    }
   ],
   "metadata": {}
  },
  {
   "cell_type": "code",
   "execution_count": 6,
   "source": [
    "def local_greeting():\r\n",
    "    name = \"Fred\"\r\n",
    "    print(\"Hi \" + name + \"!\")\r\n",
    "name = \"Barney\"\r\n",
    "local_greeting()\r\n",
    "print(\"Hi \" + name + \"!\")\r\n"
   ],
   "outputs": [
    {
     "output_type": "stream",
     "name": "stdout",
     "text": [
      "Hi Fred!\n",
      "Hi Barney!\n"
     ]
    }
   ],
   "metadata": {}
  }
 ],
 "metadata": {
  "orig_nbformat": 4,
  "language_info": {
   "name": "python",
   "version": "3.7.8",
   "mimetype": "text/x-python",
   "codemirror_mode": {
    "name": "ipython",
    "version": 3
   },
   "pygments_lexer": "ipython3",
   "nbconvert_exporter": "python",
   "file_extension": ".py"
  },
  "kernelspec": {
   "name": "python3",
   "display_name": "Python 3.7.8 64-bit ('base': conda)"
  },
  "interpreter": {
   "hash": "b3ba2566441a7c06988d0923437866b63cedc61552a5af99d1f4fb67d367b25f"
  }
 },
 "nbformat": 4,
 "nbformat_minor": 2
}