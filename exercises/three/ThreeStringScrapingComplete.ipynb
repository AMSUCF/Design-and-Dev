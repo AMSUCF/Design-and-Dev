{
 "cells": [
  {
   "cell_type": "code",
   "execution_count": 1,
   "source": [
    "# Start by setting up your content import. You can use the same target content as you used for exercise two, or set up something new. Read in and store the content from a single URL.\r\n",
    "\r\n",
    "import urllib.request, urllib.error, urllib.parse\r\n",
    "\r\n",
    "url = 'https://www.rottentomatoes.com/tv/the_chair_2021/s01/reviews?type=&sort='\r\n",
    "\r\n",
    "response = urllib.request.urlopen(url)\r\n",
    "webContents = response.read()\r\n",
    "\r\n",
    "print(webContents[0:1000])"
   ],
   "outputs": [
    {
     "output_type": "stream",
     "name": "stdout",
     "text": [
      "b'<!DOCTYPE html>\\n<html lang=\"en\"\\n      dir=\"ltr\"\\n      xmlns:fb=\"http://www.facebook.com/2008/fbml\"\\n      xmlns:og=\"http://opengraphprotocol.org/schema/\">\\n\\n    <head prefix=\"og: http://ogp.me/ns# flixstertomatoes: http://ogp.me/ns/apps/flixstertomatoes#\">\\n        \\n            <script src=\"/assets/pizza-pie/javascripts/bundles/roma/rt-common.js?single\"></script>\\n        \\n        <!-- salt=lay-def-02-juRm -->\\n        <meta http-equiv=\"Content-Type\" content=\"text/html; charset=utf-8\" />\\n        <meta http-equiv=\"x-ua-compatible\" content=\"ie=edge\">\\n        <meta name=\"viewport\" content=\"width=device-width, initial-scale=1\">\\n\\n        <title>The Chair: Season 1 - TV Reviews</title>\\n        <meta name=\"description\" content=\"The Chair follows Dr. Ji-Yoon Kim (Sandra Oh) as she navigates her new role as the Chair of the English department at prestigious Pembroke University. Ji-Yoon is faced with a unique set of challenges as the first woman to chair the department, and as one of the few staff me'\n"
     ]
    }
   ],
   "metadata": {}
  },
  {
   "cell_type": "code",
   "execution_count": 4,
   "source": [
    "# Next, splice the content you've imported to include only the primary text of interest. You'll need to investigate the website you are looking at and choose strategically what tags you look for to define the starting and ending location of your splice. Build on the model in CleaningHTML.ipynb\r\n",
    "\r\n",
    "contents = str(webContents)\r\n",
    "startLoc = contents.find(\"<div class=\\\"review_table\\\">\")\r\n",
    "endLoc = contents.find(\"<div class=\\\"sleaderboard_wrapper hidden-xs mobile-hidden\\\">\")\r\n",
    "\r\n",
    "print(startLoc)\r\n",
    "print(endLoc)\r\n",
    "\r\n",
    "contents = contents[startLoc: endLoc]\r\n",
    "print(contents[0: 500])\r\n"
   ],
   "outputs": [
    {
     "output_type": "stream",
     "name": "stdout",
     "text": [
      "150467\n",
      "193989\n",
      "<div class=\"review_table\">\\n                \\r\\n<div class=\"row review_table_row\" data-qa=\"review-item\">\\r\\n    <div class=\"col-xs-8 critic-info\">\\r\\n        <div class=\"col-sm-7 col-xs-16 critic_img\">\\r\\n            <img class=\"critic_thumb\" src=\"http://resizing.flixster.com/-tt-xqfbTvzOCXb4h6ceRl_4NUg=/128x128/v1.YzszMTI0O2o7MTg5MDA7MjA0ODszMDA7MzAw\" width=\"50px\" height=\"50px\" />\\r\\n        </div>\\r\\n        <div class=\"col-sm-17 col-xs-32 critic_name\">\\r\\n            \\r\\n                \\r\\n \n"
     ]
    }
   ],
   "metadata": {}
  },
  {
   "cell_type": "code",
   "execution_count": 9,
   "source": [
    "# Implement a loop to remove all the HTML tags from your text. Use the model provided in CleaningHTML.ipynb, and make sure to store your cleaned text as a string. Print the string and inspect the results. Save your now  cleaned text as a .txt file with an appropriate name.\r\n",
    "\r\n",
    "inside = 0\r\n",
    "text = ''\r\n",
    "\r\n",
    "for char in contents:\r\n",
    "    if char == '<':\r\n",
    "        inside = 1\r\n",
    "    elif (inside == 1 and char == '>'):\r\n",
    "        inside = 0\r\n",
    "    elif inside== 1:\r\n",
    "        continue\r\n",
    "    else: \r\n",
    "        text += char\r\n",
    "\r\n",
    "text = text.replace(\"\\\\n\",\"\")\r\n",
    "text = text.replace(\"\\\\r\",\"\")\r\n",
    "print(text[0: 500])\r\n",
    "\r\n",
    "f = open('chairreviews.txt','w')\r\n",
    "f.write(text)\r\n",
    "f.close()"
   ],
   "outputs": [
    {
     "output_type": "stream",
     "name": "stdout",
     "text": [
      "                                                                                                        John McDonald                                                                                        Australian Financial Review                                                                                                                                                    September 10, 2021                                                            It may be that students in American univer\n"
     ]
    }
   ],
   "metadata": {}
  },
  {
   "cell_type": "code",
   "execution_count": null,
   "source": [
    "# As your bonus challenge for this week, identify at least one other area of content that needs cleaning from your file: this might be URLs, {} content, special characters, or other \"noise\" you want to cut from your spring. Using a combination of loops, conditionals, and string methods as appropriate, remove those elements from the text.\r\n",
    "\r\n",
    "# See above - I've added it with the text.replace commands. Note the \\\\r to avoid Python interpreting the \\ as an escape character instead of part of the text!\r\n"
   ],
   "outputs": [],
   "metadata": {}
  },
  {
   "cell_type": "code",
   "execution_count": 23,
   "source": [
    "# Now we're ready to analyze our text. This time, try combining the elements we've used so far to handle our text by writing a simple algorithm following this model:\r\n",
    "\r\n",
    "# First, split your string into a \"bag of words\" by cutting at the whitespace into an array.\r\n",
    "text = text.lower()\r\n",
    "wordBag = text.split()\r\n",
    "\r\n",
    "# Next, create a loop that runs through every word in your new array\r\n",
    "# Within the loop, create some conditionals and behaviors to process the words. For instance, you might print out every word that starts with a certain letter, or print out words longer than a set length, etc. Try playing with the loop breaks and continue options to handle different types of words differently.\r\n",
    "\r\n",
    "for word in wordBag:\r\n",
    "    if word == \"pious\":\r\n",
    "        print(\"The reviewer has brought piety into this.\")\r\n",
    "    elif word == \"gender\" or word == \"race\":\r\n",
    "        print(\"The reviewer has acknowledged \" + word)\r\n",
    "    #note that gender doesn't work (in this dataset the punctuation interferes - we'll fix this next week!)\r\n",
    "    elif len(word) > 10:\r\n",
    "        print(word)"
   ],
   "outputs": [
    {
     "output_type": "stream",
     "name": "stdout",
     "text": [
      "universities\n",
      "simplistic,\n",
      "The reviewer has brought piety into this.\n",
      "The reviewer has acknowledged race\n",
      "jackiekcooper.com\n",
      "believable,\n",
      "ultimately,\n",
      "contemporary\n",
      "particular,\n",
      "absurdities\n",
      "(singapore)\n",
      "consequence,\n",
      "characterization\n",
      "performance,\n",
      "well-delivered\n",
      "www.susangranger.com\n",
      "contemporary\n",
      "personality\n",
      "(australia)\n",
      "performance\n",
      "one-liners.\n",
      "performances,\n",
      "thoughtful,\n",
      "six-episode\n",
      "well-trodden\n",
      "vacillation\n",
      "effervescent\n",
      "frustration\n"
     ]
    }
   ],
   "metadata": {}
  }
 ],
 "metadata": {
  "orig_nbformat": 4,
  "language_info": {
   "name": "python",
   "version": "3.7.8",
   "mimetype": "text/x-python",
   "codemirror_mode": {
    "name": "ipython",
    "version": 3
   },
   "pygments_lexer": "ipython3",
   "nbconvert_exporter": "python",
   "file_extension": ".py"
  },
  "kernelspec": {
   "name": "python3",
   "display_name": "Python 3.7.8 64-bit ('base': conda)"
  },
  "interpreter": {
   "hash": "b3ba2566441a7c06988d0923437866b63cedc61552a5af99d1f4fb67d367b25f"
  }
 },
 "nbformat": 4,
 "nbformat_minor": 2
}