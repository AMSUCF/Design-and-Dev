{
 "cells": [
  {
   "cell_type": "code",
   "execution_count": 4,
   "source": [
    "my_string = \"hello\" + \" \" + \"again\" + \".\"\r\n",
    "print(my_string)"
   ],
   "outputs": [
    {
     "output_type": "stream",
     "name": "stdout",
     "text": [
      "hello again.\n"
     ]
    }
   ],
   "metadata": {}
  },
  {
   "cell_type": "code",
   "execution_count": 5,
   "source": [
    "my_string += \" \"\r\n",
    "my_string = my_string * 3\r\n",
    "print(my_string)"
   ],
   "outputs": [
    {
     "output_type": "stream",
     "name": "stdout",
     "text": [
      "hello again. hello again. hello again. \n"
     ]
    }
   ],
   "metadata": {}
  },
  {
   "cell_type": "code",
   "execution_count": 7,
   "source": [
    "print(my_string.find(\"squirrel\"))\r\n",
    "print(my_string.find(\"again\"))"
   ],
   "outputs": [
    {
     "output_type": "stream",
     "name": "stdout",
     "text": [
      "-1\n",
      "6\n"
     ]
    }
   ],
   "metadata": {}
  },
  {
   "cell_type": "code",
   "execution_count": 8,
   "source": [
    "my_string = my_string.replace(\"again\", \"squirrel\")\r\n",
    "print(my_string)"
   ],
   "outputs": [
    {
     "output_type": "stream",
     "name": "stdout",
     "text": [
      "hello squirrel. hello squirrel. hello squirrel. \n"
     ]
    }
   ],
   "metadata": {}
  },
  {
   "cell_type": "code",
   "execution_count": 10,
   "source": [
    "startLoc = 6\r\n",
    "endLoc = 14\r\n",
    "my_sub_string = my_string[startLoc: endLoc]\r\n",
    "print(my_sub_string)"
   ],
   "outputs": [
    {
     "output_type": "stream",
     "name": "stdout",
     "text": [
      "squirrel\n"
     ]
    }
   ],
   "metadata": {}
  },
  {
   "cell_type": "code",
   "execution_count": 14,
   "source": [
    "print(\"\\\"\" + my_string + \"\\\"\")\r\n",
    "print(my_sub_string + \"\\t\" + my_sub_string + \"\\t\" + my_sub_string)"
   ],
   "outputs": [
    {
     "output_type": "stream",
     "name": "stdout",
     "text": [
      "\"hello squirrel. hello squirrel. hello squirrel. \"\n",
      "squirrel\n",
      "\tsquirrel\n",
      "\tsquirrel\n",
      "\n"
     ]
    }
   ],
   "metadata": {}
  },
  {
   "cell_type": "code",
   "execution_count": 15,
   "source": [
    "my_sub_string += \"\\n\"\r\n",
    "print(my_sub_string * 3)"
   ],
   "outputs": [
    {
     "output_type": "stream",
     "name": "stdout",
     "text": [
      "squirrel\n",
      "\n",
      "squirrel\n",
      "\n",
      "squirrel\n",
      "\n",
      "\n"
     ]
    }
   ],
   "metadata": {}
  }
 ],
 "metadata": {
  "orig_nbformat": 4,
  "language_info": {
   "name": "python",
   "version": "3.7.8",
   "mimetype": "text/x-python",
   "codemirror_mode": {
    "name": "ipython",
    "version": 3
   },
   "pygments_lexer": "ipython3",
   "nbconvert_exporter": "python",
   "file_extension": ".py"
  },
  "kernelspec": {
   "name": "python3",
   "display_name": "Python 3.7.8 64-bit ('base': conda)"
  },
  "interpreter": {
   "hash": "b3ba2566441a7c06988d0923437866b63cedc61552a5af99d1f4fb67d367b25f"
  }
 },
 "nbformat": 4,
 "nbformat_minor": 2
}