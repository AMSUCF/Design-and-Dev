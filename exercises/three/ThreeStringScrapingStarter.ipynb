{
 "cells": [
  {
   "cell_type": "code",
   "execution_count": null,
   "source": [
    "# Start by setting up your content import. You can use the same target content as you used for exercise two, or set up something new. Read in and store the content from a single URL."
   ],
   "outputs": [],
   "metadata": {}
  },
  {
   "cell_type": "code",
   "execution_count": null,
   "source": [
    "# Next, splice the content you've imported to include only the primary text of interest. You'll need to investigate the website you are looking at and choose strategically what tags you look for to define the starting and ending location of your splice. Build on the model in CleaningHTML.ipynb\r\n"
   ],
   "outputs": [],
   "metadata": {}
  },
  {
   "cell_type": "code",
   "execution_count": null,
   "source": [
    "# Implement a loop to remove all the HTML tags from your text. Use the model provided in CleaningHTML.ipynb, and make sure to store your cleaned text as a string. Print the string and inspect the results. Save your now  cleaned text as a .txt file with an appropriate name.\r\n"
   ],
   "outputs": [],
   "metadata": {}
  },
  {
   "cell_type": "code",
   "execution_count": null,
   "source": [
    "# As your bonus challenge for this week, identify at least one other area of content that needs cleaning from your file: this might be URLs, {} content, special characters, or other \"noise\" you want to cut from your spring. Using a combination of loops, conditionals, and string methods as appropriate, remove those elements from the text.\r\n",
    "\r\n"
   ],
   "outputs": [],
   "metadata": {}
  },
  {
   "cell_type": "code",
   "execution_count": null,
   "source": [
    "# Now we're ready to analyze our text. This time, try combining the elements we've used so far to handle our text by writing a simple algorithm following this model:\r\n",
    "\r\n",
    "# First, split your string into a \"bag of words\" by cutting at the whitespace into an array.\r\n",
    "\r\n",
    "# Next, create a loop that runs through every word in your new array\r\n",
    "\r\n",
    "# Within the loop, create some conditionals and behaviors to process the words. For instance, you might print out every word that starts with a certain letter, or print out words longer than a set length, etc. Try playing with the loop breaks and continue options to handle different types of words differently.\r\n"
   ],
   "outputs": [],
   "metadata": {}
  }
 ],
 "metadata": {
  "orig_nbformat": 4,
  "language_info": {
   "name": "python",
   "version": "3.7.8",
   "mimetype": "text/x-python",
   "codemirror_mode": {
    "name": "ipython",
    "version": 3
   },
   "pygments_lexer": "ipython3",
   "nbconvert_exporter": "python",
   "file_extension": ".py"
  },
  "kernelspec": {
   "name": "python3",
   "display_name": "Python 3.7.8 64-bit ('base': conda)"
  },
  "interpreter": {
   "hash": "b3ba2566441a7c06988d0923437866b63cedc61552a5af99d1f4fb67d367b25f"
  }
 },
 "nbformat": 4,
 "nbformat_minor": 2
}