{
 "cells": [
  {
   "cell_type": "code",
   "execution_count": 4,
   "source": [
    "# First, import the libraries you need for reading in web content. Use the model in \"WebScraping.ipynb.\" Set the URL to a website of interest for your work: this can be anything, but will work best if it's a static site (not a social media hashtag, etc.)\r\n",
    "\r\n",
    "import urllib.request, urllib.error, urllib.parse\r\n",
    "\r\n",
    "url = 'https://www.rottentomatoes.com/tv/the_chair_2021/s01/reviews?type=&sort='\r\n",
    "\r\n",
    "response = urllib.request.urlopen(url)\r\n",
    "webContent = response.read()\r\n",
    "\r\n",
    "print(webContent[0:1000])"
   ],
   "outputs": [
    {
     "output_type": "stream",
     "name": "stdout",
     "text": [
      "b'<!DOCTYPE html>\\n<html lang=\"en\"\\n      dir=\"ltr\"\\n      xmlns:fb=\"http://www.facebook.com/2008/fbml\"\\n      xmlns:og=\"http://opengraphprotocol.org/schema/\">\\n\\n    <head prefix=\"og: http://ogp.me/ns# flixstertomatoes: http://ogp.me/ns/apps/flixstertomatoes#\">\\n        \\n            <script src=\"/assets/pizza-pie/javascripts/bundles/roma/rt-common.js?single\"></script>\\n        \\n        <!-- salt=lay-def-02-juRm -->\\n        <meta http-equiv=\"Content-Type\" content=\"text/html; charset=utf-8\" />\\n        <meta http-equiv=\"x-ua-compatible\" content=\"ie=edge\">\\n        <meta name=\"viewport\" content=\"width=device-width, initial-scale=1\">\\n\\n        <title>The Chair: Season 1 - TV Reviews</title>\\n        <meta name=\"description\" content=\"The Chair follows Dr. Ji-Yoon Kim (Sandra Oh) as she navigates her new role as the Chair of the English department at prestigious Pembroke University. Ji-Yoon is faced with a unique set of challenges as the first woman to chair the department, and as one of the few staff me'\n"
     ]
    }
   ],
   "metadata": {}
  },
  {
   "cell_type": "code",
   "execution_count": 5,
   "source": [
    "# Second, save the website you are interested in as a file. Name that file appropriately to the content - for instance, something like \"reviewarchive.html\" would make sense if you are pulling reviews of a movie or book. After you run it, check that the file looks like it has the content you need. If it doesn't, try to figure out what went wrong.\r\n",
    "\r\n",
    "f = open('chairreviews.html', 'wb')\r\n",
    "f.write(webContent)\r\n",
    "f.close()"
   ],
   "outputs": [],
   "metadata": {}
  },
  {
   "cell_type": "code",
   "execution_count": 6,
   "source": [
    "# Third, append another page of connected content: you'll need to use a modified version of the previous code, changing the URL, and using \"append binary\" to add to the file.\r\n",
    " \r\n",
    "url = 'https://www.rottentomatoes.com/tv/the_chair_2021/s01/reviews?type=&sort=&page=2'\r\n",
    "\r\n",
    "response = urllib.request.urlopen(url)\r\n",
    "webContent = response.read()\r\n",
    "\r\n",
    "print(webContent[0:1000])\r\n",
    "\r\n",
    "f = open('chairreviews.html', 'ab')\r\n",
    "f.write(webContent)\r\n",
    "f.close()"
   ],
   "outputs": [
    {
     "output_type": "stream",
     "name": "stdout",
     "text": [
      "b'<!DOCTYPE html>\\n<html lang=\"en\"\\n      dir=\"ltr\"\\n      xmlns:fb=\"http://www.facebook.com/2008/fbml\"\\n      xmlns:og=\"http://opengraphprotocol.org/schema/\">\\n\\n    <head prefix=\"og: http://ogp.me/ns# flixstertomatoes: http://ogp.me/ns/apps/flixstertomatoes#\">\\n        \\n            <script src=\"/assets/pizza-pie/javascripts/bundles/roma/rt-common.js?single\"></script>\\n        \\n        <!-- salt=lay-def-02-juRm -->\\n        <meta http-equiv=\"Content-Type\" content=\"text/html; charset=utf-8\" />\\n        <meta http-equiv=\"x-ua-compatible\" content=\"ie=edge\">\\n        <meta name=\"viewport\" content=\"width=device-width, initial-scale=1\">\\n\\n        <title>The Chair: Season 1 - TV Reviews</title>\\n        <meta name=\"description\" content=\"The Chair follows Dr. Ji-Yoon Kim (Sandra Oh) as she navigates her new role as the Chair of the English department at prestigious Pembroke University. Ji-Yoon is faced with a unique set of challenges as the first woman to chair the department, and as one of the few staff me'\n"
     ]
    }
   ],
   "metadata": {}
  },
  {
   "cell_type": "code",
   "execution_count": null,
   "source": [
    "# Bonus Challenge: If you scraped something repetitive (for instance, I used two review pages from Rotten Tomatoes as I was testing my solution), you'll notice you have a lot of redundancy in your file, and probably only a few things you really want. Can you structure your data to only save the part of the webContent pull you are interested in? (If you're new to programming or Python, or stressed for time this week, don't worry about the bonus rounds!)\r\n",
    "\r\n"
   ],
   "outputs": [],
   "metadata": {}
  },
  {
   "cell_type": "code",
   "execution_count": 7,
   "source": [
    "# Next, pull in the contents of the new file (with multiple pages of HTML) using our text file reading example from week one as a model. Store those contents in a new variable, named appropriately to the contents. Print a subset of the output to confirm the import was successful.\r\n",
    "\r\n",
    "f = open(\"chairreviews.html\",\"r\")\r\n",
    "reviews = f.read()\r\n",
    "print(reviews[0:1000])\r\n",
    "f.close()"
   ],
   "outputs": [
    {
     "output_type": "stream",
     "name": "stdout",
     "text": [
      "<!DOCTYPE html>\n",
      "<html lang=\"en\"\n",
      "      dir=\"ltr\"\n",
      "      xmlns:fb=\"http://www.facebook.com/2008/fbml\"\n",
      "      xmlns:og=\"http://opengraphprotocol.org/schema/\">\n",
      "\n",
      "    <head prefix=\"og: http://ogp.me/ns# flixstertomatoes: http://ogp.me/ns/apps/flixstertomatoes#\">\n",
      "        \n",
      "            <script src=\"/assets/pizza-pie/javascripts/bundles/roma/rt-common.js?single\"></script>\n",
      "        \n",
      "        <!-- salt=lay-def-02-juRm -->\n",
      "        <meta http-equiv=\"Content-Type\" content=\"text/html; charset=utf-8\" />\n",
      "        <meta http-equiv=\"x-ua-compatible\" content=\"ie=edge\">\n",
      "        <meta name=\"viewport\" content=\"width=device-width, initial-scale=1\">\n",
      "\n",
      "        <title>The Chair: Season 1 - TV Reviews</title>\n",
      "        <meta name=\"description\" content=\"The Chair follows Dr. Ji-Yoon Kim (Sandra Oh) as she navigates her new role as the Chair of the English department at prestigious Pembroke University. Ji-Yoon is faced with a unique set of challenges as the first woman to chair the department, and as one of the few staff me\n"
     ]
    }
   ],
   "metadata": {}
  },
  {
   "cell_type": "code",
   "execution_count": 8,
   "source": [
    "# Finally, use the examples in \"Conditionals.ipynb\" and \"PlayingWithStrings.ipynb\" to run at least five simple data analyses commands on your content and print the results with an explanatory statement, as in the examples. Here's a few suggestions to try, but feel free to expand on them.\r\n",
    "\r\n",
    "# 1. Count and print the occurences of a key word\r\n",
    "\r\n",
    "print(\"Occurences of woman: \" + str(reviews.count(\"woman\")))\r\n",
    "\r\n",
    "# 2. Split your dataset into strings based on word spacing, and print some of the words to view the set\r\n",
    "\r\n",
    "split_reviews = reviews.split(\" \")\r\n",
    "print(split_reviews[800:803])\r\n",
    "\r\n",
    "# 3. Locate the index of a word of interest, then print the phrase surrounding it\r\n",
    "\r\n",
    "bill = split_reviews.index(\"Bill\")\r\n",
    "print(split_reviews[bill-10:bill+10])\r\n",
    "\r\n",
    "# 4. Compare the number of occurences of two significant words, such as character names, using a conditional statement. The printed statement should be different for each outcome, and handle the case where the numbers are the same (try using if, elif, and else)\r\n",
    "\r\n",
    "bill_count = reviews.count(\"Bill\")\r\n",
    "ji_yoon_count = reviews.count(\"Ji-Yoon\")\r\n",
    "\r\n",
    "if ji_yoon_count > bill_count:\r\n",
    "    print(\"The protagonist is Ji-Yoon\")\r\n",
    "elif bill_count > ji_yoon_count:\r\n",
    "    print(\"Is the protagonist Ji-Yoon?\")\r\n",
    "else:\r\n",
    "    print(\"Apparently there is no protagonist.\")\r\n",
    "\r\n",
    "# 4. Search for a word and use \"in\" to print true if the word is found\r\n",
    "\r\n",
    "boomer = \"boomer\" in reviews\r\n",
    "print(\"Are there boomers? \" + str(boomer))\r\n"
   ],
   "outputs": [
    {
     "output_type": "stream",
     "name": "stdout",
     "text": [
      "Occurences of woman: 9\n",
      "[\"Bill's\", 'course', 'goes']\n",
      "['heels', 'of', 'her', 'dinner', 'meeting', 'with', 'the', 'dean.\",\"datePublished\":\"2021-08-19\"},{\"@type\":\"TVEpisode\",\"episodeNumber\":4,\"url\":\"https://www.rottentomatoes.com/tv/the_chair_2021/s01/e04\",\"name\":\"Don\\'t', 'Kill', 'Bill\",\"description\":\"As', 'Bill', 'faces', 'suspension,', 'Ji-Yoon', 'grapples', 'with', 'the', 'fallout', 'of', 'his']\n",
      "The protagonist is Ji-Yoon\n",
      "Are there boomers? False\n"
     ]
    }
   ],
   "metadata": {}
  }
 ],
 "metadata": {
  "orig_nbformat": 4,
  "language_info": {
   "name": "python",
   "version": "3.7.8",
   "mimetype": "text/x-python",
   "codemirror_mode": {
    "name": "ipython",
    "version": 3
   },
   "pygments_lexer": "ipython3",
   "nbconvert_exporter": "python",
   "file_extension": ".py"
  },
  "kernelspec": {
   "name": "python3",
   "display_name": "Python 3.7.8 64-bit ('base': conda)"
  },
  "interpreter": {
   "hash": "b3ba2566441a7c06988d0923437866b63cedc61552a5af99d1f4fb67d367b25f"
  }
 },
 "nbformat": 4,
 "nbformat_minor": 2
}