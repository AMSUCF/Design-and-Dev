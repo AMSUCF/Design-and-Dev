{
 "cells": [
  {
   "cell_type": "markdown",
   "metadata": {},
   "source": [
    "# Exercise Eight: Cultural Data\n",
    "\n",
    "For this exercise, pick a dataset of current or historical cultural data available in CSV format from one of the suggeted sources, or your own research. This will be easiest if your data includes some element of information over time. You'll be using the \"group by\" methods we discussed this week to make comparisons within the dataset: you might group by geography, party affiliation, age, gender, or other information marked in the dataset.\n",
    "\n",
    "Your annotated code should include headings, and discuss your findings as well as the limitations in what you can visualize using this approach. This exercise should:\n",
    "\n",
    "- Import your selected structured CSV data\n",
    "- Use Pandas to note any preliminary trends in the CSV as a dataframe\n",
    "- Use \"group by\" to break down at least two different subsets of data\n",
    "- Plot a comparison between the grouped data (this will be easiest over time)\n",
    "- Use one additional form of analysis or visualization from any we've tried so far"
   ]
  },
  {
   "cell_type": "markdown",
   "metadata": {},
   "source": [
    "## Stage One. Import Structured CSV Data (bonus: from multiple files)"
   ]
  },
  {
   "cell_type": "code",
   "execution_count": 28,
   "metadata": {},
   "outputs": [
    {
     "name": "stdout",
     "output_type": "stream",
     "text": [
      "2016.csv\n",
      "       Country          Region  Happiness Rank  Score  \\\n",
      "0      Denmark  Western Europe               1  7.526   \n",
      "1  Switzerland  Western Europe               2  7.509   \n",
      "2      Iceland  Western Europe               3  7.501   \n",
      "3       Norway  Western Europe               4  7.498   \n",
      "4      Finland  Western Europe               5  7.413   \n",
      "\n",
      "   Lower Confidence Interval  Upper Confidence Interval  \\\n",
      "0                      7.460                      7.592   \n",
      "1                      7.428                      7.590   \n",
      "2                      7.333                      7.669   \n",
      "3                      7.421                      7.575   \n",
      "4                      7.351                      7.475   \n",
      "\n",
      "   Economy (GDP per Capita)   Family  Health (Life Expectancy)  Freedom  \\\n",
      "0                   1.44178  1.16374                   0.79504  0.57941   \n",
      "1                   1.52733  1.14524                   0.86303  0.58557   \n",
      "2                   1.42666  1.18326                   0.86733  0.56624   \n",
      "3                   1.57744  1.12690                   0.79579  0.59609   \n",
      "4                   1.40598  1.13464                   0.81091  0.57104   \n",
      "\n",
      "   Trust (Government Corruption)  Generosity  Dystopia Residual  \n",
      "0                        0.44453     0.36171            2.73939  \n",
      "1                        0.41203     0.28083            2.69463  \n",
      "2                        0.14975     0.47678            2.83137  \n",
      "3                        0.35776     0.37895            2.66465  \n",
      "4                        0.41004     0.25492            2.82596  \n"
     ]
    }
   ],
   "source": [
    "import pandas as pd\n",
    "import os\n",
    "path = \"happiness/\"\n",
    "years = []\n",
    "df_list = []\n",
    "\n",
    "with os.scandir(path) as entries:\n",
    "    for entry in entries:\n",
    "        years.append(entry.name)\n",
    "        temp_df = pd.read_csv(f'{path}{entry.name}')\n",
    "        df_list.append(temp_df)\n",
    "        \n",
    "print(years[1])\n",
    "print(df_list[1].head())\n",
    "\n"
   ]
  },
  {
   "cell_type": "markdown",
   "metadata": {},
   "source": [
    "## Stage Two: Explore and note differences in headings / datatypes over the years"
   ]
  },
  {
   "cell_type": "code",
   "execution_count": 29,
   "metadata": {},
   "outputs": [
    {
     "name": "stdout",
     "output_type": "stream",
     "text": [
      "Country                           object\n",
      "Region                            object\n",
      "Happiness Rank                     int64\n",
      "Score                            float64\n",
      "Standard Error                   float64\n",
      "Economy (GDP per Capita)         float64\n",
      "Family                           float64\n",
      "Health (Life Expectancy)         float64\n",
      "Freedom                          float64\n",
      "Trust (Government Corruption)    float64\n",
      "Generosity                       float64\n",
      "Dystopia Residual                float64\n",
      "dtype: object\n",
      "Country                           object\n",
      "Region                            object\n",
      "Happiness Rank                     int64\n",
      "Score                            float64\n",
      "Lower Confidence Interval        float64\n",
      "Upper Confidence Interval        float64\n",
      "Economy (GDP per Capita)         float64\n",
      "Family                           float64\n",
      "Health (Life Expectancy)         float64\n",
      "Freedom                          float64\n",
      "Trust (Government Corruption)    float64\n",
      "Generosity                       float64\n",
      "Dystopia Residual                float64\n",
      "dtype: object\n",
      "Country                           object\n",
      "Happiness.Rank                     int64\n",
      "Score                            float64\n",
      "Whisker.high                     float64\n",
      "Whisker.low                      float64\n",
      "Economy..GDP.per.Capita.         float64\n",
      "Family                           float64\n",
      "Health..Life.Expectancy.         float64\n",
      "Freedom                          float64\n",
      "Generosity                       float64\n",
      "Trust..Government.Corruption.    float64\n",
      "Dystopia.Residual                float64\n",
      "dtype: object\n",
      "Overall rank                      int64\n",
      "Country                          object\n",
      "Score                           float64\n",
      "GDP per capita                  float64\n",
      "Social support                  float64\n",
      "Healthy life expectancy         float64\n",
      "Freedom to make life choices    float64\n",
      "Generosity                      float64\n",
      "Perceptions of corruption       float64\n",
      "dtype: object\n",
      "Overall rank                      int64\n",
      "Country                          object\n",
      "Score                           float64\n",
      "GDP per capita                  float64\n",
      "Social support                  float64\n",
      "Healthy life expectancy         float64\n",
      "Freedom to make life choices    float64\n",
      "Generosity                      float64\n",
      "Perceptions of corruption       float64\n",
      "dtype: object\n"
     ]
    },
    {
     "data": {
      "text/plain": [
       "[None, None, None, None, None]"
      ]
     },
     "execution_count": 29,
     "metadata": {},
     "output_type": "execute_result"
    }
   ],
   "source": [
    "[print(df.dtypes) for df in df_list]"
   ]
  },
  {
   "cell_type": "code",
   "execution_count": 33,
   "metadata": {},
   "outputs": [
    {
     "name": "stdout",
     "output_type": "stream",
     "text": [
      "0    Switzerland\n",
      "1        Iceland\n",
      "2        Denmark\n",
      "3         Norway\n",
      "4         Canada\n",
      "Name: Country, dtype: object\n",
      "0        Denmark\n",
      "1    Switzerland\n",
      "2        Iceland\n",
      "3         Norway\n",
      "4        Finland\n",
      "Name: Country, dtype: object\n",
      "0         Norway\n",
      "1        Denmark\n",
      "2        Iceland\n",
      "3    Switzerland\n",
      "4        Finland\n",
      "Name: Country, dtype: object\n",
      "0        Finland\n",
      "1         Norway\n",
      "2        Denmark\n",
      "3        Iceland\n",
      "4    Switzerland\n",
      "Name: Country, dtype: object\n",
      "0        Finland\n",
      "1        Denmark\n",
      "2         Norway\n",
      "3        Iceland\n",
      "4    Netherlands\n",
      "Name: Country, dtype: object\n"
     ]
    },
    {
     "data": {
      "text/plain": [
       "[None, None, None, None, None]"
      ]
     },
     "execution_count": 33,
     "metadata": {},
     "output_type": "execute_result"
    }
   ],
   "source": [
    "[print(df['Country'].head()) for df in df_list]"
   ]
  },
  {
   "cell_type": "markdown",
   "metadata": {},
   "source": [
    "## Stage Three: Use Groupby to Explore (by Region)\n",
    "\n",
    "Note this sample shows only one example, two are required for the exercise itself"
   ]
  },
  {
   "cell_type": "code",
   "execution_count": 41,
   "metadata": {},
   "outputs": [
    {
     "data": {
      "text/html": [
       "<div>\n",
       "<style scoped>\n",
       "    .dataframe tbody tr th:only-of-type {\n",
       "        vertical-align: middle;\n",
       "    }\n",
       "\n",
       "    .dataframe tbody tr th {\n",
       "        vertical-align: top;\n",
       "    }\n",
       "\n",
       "    .dataframe thead th {\n",
       "        text-align: right;\n",
       "    }\n",
       "</style>\n",
       "<table border=\"1\" class=\"dataframe\">\n",
       "  <thead>\n",
       "    <tr style=\"text-align: right;\">\n",
       "      <th></th>\n",
       "      <th>Country</th>\n",
       "      <th>Region</th>\n",
       "      <th>Happiness Rank</th>\n",
       "      <th>Score</th>\n",
       "      <th>Lower Confidence Interval</th>\n",
       "      <th>Upper Confidence Interval</th>\n",
       "      <th>Economy (GDP per Capita)</th>\n",
       "      <th>Family</th>\n",
       "      <th>Health (Life Expectancy)</th>\n",
       "      <th>Freedom</th>\n",
       "      <th>Trust (Government Corruption)</th>\n",
       "      <th>Generosity</th>\n",
       "      <th>Dystopia Residual</th>\n",
       "    </tr>\n",
       "  </thead>\n",
       "  <tbody>\n",
       "    <tr>\n",
       "      <th>0</th>\n",
       "      <td>Denmark</td>\n",
       "      <td>Western Europe</td>\n",
       "      <td>1</td>\n",
       "      <td>7.526</td>\n",
       "      <td>7.460</td>\n",
       "      <td>7.592</td>\n",
       "      <td>1.44178</td>\n",
       "      <td>1.16374</td>\n",
       "      <td>0.79504</td>\n",
       "      <td>0.57941</td>\n",
       "      <td>0.44453</td>\n",
       "      <td>0.36171</td>\n",
       "      <td>2.73939</td>\n",
       "    </tr>\n",
       "    <tr>\n",
       "      <th>1</th>\n",
       "      <td>Switzerland</td>\n",
       "      <td>Western Europe</td>\n",
       "      <td>2</td>\n",
       "      <td>7.509</td>\n",
       "      <td>7.428</td>\n",
       "      <td>7.590</td>\n",
       "      <td>1.52733</td>\n",
       "      <td>1.14524</td>\n",
       "      <td>0.86303</td>\n",
       "      <td>0.58557</td>\n",
       "      <td>0.41203</td>\n",
       "      <td>0.28083</td>\n",
       "      <td>2.69463</td>\n",
       "    </tr>\n",
       "    <tr>\n",
       "      <th>2</th>\n",
       "      <td>Iceland</td>\n",
       "      <td>Western Europe</td>\n",
       "      <td>3</td>\n",
       "      <td>7.501</td>\n",
       "      <td>7.333</td>\n",
       "      <td>7.669</td>\n",
       "      <td>1.42666</td>\n",
       "      <td>1.18326</td>\n",
       "      <td>0.86733</td>\n",
       "      <td>0.56624</td>\n",
       "      <td>0.14975</td>\n",
       "      <td>0.47678</td>\n",
       "      <td>2.83137</td>\n",
       "    </tr>\n",
       "    <tr>\n",
       "      <th>3</th>\n",
       "      <td>Norway</td>\n",
       "      <td>Western Europe</td>\n",
       "      <td>4</td>\n",
       "      <td>7.498</td>\n",
       "      <td>7.421</td>\n",
       "      <td>7.575</td>\n",
       "      <td>1.57744</td>\n",
       "      <td>1.12690</td>\n",
       "      <td>0.79579</td>\n",
       "      <td>0.59609</td>\n",
       "      <td>0.35776</td>\n",
       "      <td>0.37895</td>\n",
       "      <td>2.66465</td>\n",
       "    </tr>\n",
       "    <tr>\n",
       "      <th>4</th>\n",
       "      <td>Finland</td>\n",
       "      <td>Western Europe</td>\n",
       "      <td>5</td>\n",
       "      <td>7.413</td>\n",
       "      <td>7.351</td>\n",
       "      <td>7.475</td>\n",
       "      <td>1.40598</td>\n",
       "      <td>1.13464</td>\n",
       "      <td>0.81091</td>\n",
       "      <td>0.57104</td>\n",
       "      <td>0.41004</td>\n",
       "      <td>0.25492</td>\n",
       "      <td>2.82596</td>\n",
       "    </tr>\n",
       "  </tbody>\n",
       "</table>\n",
       "</div>"
      ],
      "text/plain": [
       "       Country          Region  Happiness Rank  Score  \\\n",
       "0      Denmark  Western Europe               1  7.526   \n",
       "1  Switzerland  Western Europe               2  7.509   \n",
       "2      Iceland  Western Europe               3  7.501   \n",
       "3       Norway  Western Europe               4  7.498   \n",
       "4      Finland  Western Europe               5  7.413   \n",
       "\n",
       "   Lower Confidence Interval  Upper Confidence Interval  \\\n",
       "0                      7.460                      7.592   \n",
       "1                      7.428                      7.590   \n",
       "2                      7.333                      7.669   \n",
       "3                      7.421                      7.575   \n",
       "4                      7.351                      7.475   \n",
       "\n",
       "   Economy (GDP per Capita)   Family  Health (Life Expectancy)  Freedom  \\\n",
       "0                   1.44178  1.16374                   0.79504  0.57941   \n",
       "1                   1.52733  1.14524                   0.86303  0.58557   \n",
       "2                   1.42666  1.18326                   0.86733  0.56624   \n",
       "3                   1.57744  1.12690                   0.79579  0.59609   \n",
       "4                   1.40598  1.13464                   0.81091  0.57104   \n",
       "\n",
       "   Trust (Government Corruption)  Generosity  Dystopia Residual  \n",
       "0                        0.44453     0.36171            2.73939  \n",
       "1                        0.41203     0.28083            2.69463  \n",
       "2                        0.14975     0.47678            2.83137  \n",
       "3                        0.35776     0.37895            2.66465  \n",
       "4                        0.41004     0.25492            2.82596  "
      ]
     },
     "execution_count": 41,
     "metadata": {},
     "output_type": "execute_result"
    }
   ],
   "source": [
    "close_region = df_list[1].groupby('Region')\n",
    "close_region.get_group('Western Europe').head()"
   ]
  },
  {
   "cell_type": "code",
   "execution_count": 47,
   "metadata": {},
   "outputs": [
    {
     "name": "stdout",
     "output_type": "stream",
     "text": [
      "Region\n",
      "Australia and New Zealand          7.323500\n",
      "Central and Eastern Europe         5.370690\n",
      "Eastern Asia                       5.624167\n",
      "Latin America and Caribbean        6.101750\n",
      "Middle East and Northern Africa    5.386053\n",
      "North America                      7.254000\n",
      "Southeastern Asia                  5.338889\n",
      "Southern Asia                      4.563286\n",
      "Sub-Saharan Africa                 4.136421\n",
      "Western Europe                     6.685667\n",
      "Name: Score, dtype: float64\n",
      "Region\n",
      "Australia and New Zealand          0.841080\n",
      "Central and Eastern Europe         0.631592\n",
      "Eastern Asia                       0.806680\n",
      "Latin America and Caribbean        0.612703\n",
      "Middle East and Northern Africa    0.616438\n",
      "North America                      0.803300\n",
      "Southeastern Asia                  0.561369\n",
      "Southern Asia                      0.453670\n",
      "Sub-Saharan Africa                 0.239872\n",
      "Western Europe                     0.825754\n",
      "Name: Health (Life Expectancy), dtype: float64\n"
     ]
    }
   ],
   "source": [
    "print(close_region['Score'].mean())\n",
    "print(close_region['Health (Life Expectancy)'].mean())"
   ]
  },
  {
   "cell_type": "markdown",
   "metadata": {},
   "source": [
    "## Stage Four: Plot Grouped Data"
   ]
  },
  {
   "cell_type": "code",
   "execution_count": 93,
   "metadata": {},
   "outputs": [
    {
     "name": "stdout",
     "output_type": "stream",
     "text": [
      "Central\n",
      "and\n",
      "Eastern\n",
      "Europe\n"
     ]
    },
    {
     "data": {
      "image/png": "[encoded data removed]",
      "text/plain": [
       "<Figure size 432x288 with 1 Axes>"
      ]
     },
     "metadata": {
      "needs_background": "light"
     },
     "output_type": "display_data"
    }
   ],
   "source": [
    "import matplotlib.pyplot as plt\n",
    "import numpy as np\n",
    "plt.rcParams.update({'font.size': 7})\n",
    "\n",
    "regions = close_region['Region'].unique()\n",
    "names = [str(i) for i in regions]\n",
    "names = [name.replace(' ', '\\n') for name in names]\n",
    "names = [name.replace(\"['\",'') for name in names]\n",
    "names = [name.replace(\"']\",'') for name in names]\n",
    "\n",
    "print(names[1])\n",
    "x = np.arange(len(names))\n",
    "width = 1/len(names)\n",
    "fig, ax = plt.subplots()\n",
    "rects1 = ax.bar(x - width, close_region['Score'].mean(), width, label='Happiness')\n",
    "rects2 = ax.bar(x, close_region['Health (Life Expectancy)'].mean()*10, width, label='Life Expectancy')\n",
    "rects3 = ax.bar(x + width, close_region['Freedom'].mean()*10, width, label='Freedom')\n",
    "\n",
    "\n",
    "ax.set_ylabel('Rankings')\n",
    "ax.set_title(years[1])\n",
    "ax.set_xticks(x)\n",
    "ax.set_xticklabels(names)\n",
    "ax.legend()\n",
    "fig.tight_layout()\n",
    "\n",
    "plt.show()"
   ]
  }
 ],
 "metadata": {
  "interpreter": {
   "hash": "1e5a1de8262f0e9d1487335168cc67bdb3373dee2cd3d5c339b458468358fbed"
  },
  "kernelspec": {
   "display_name": "Python 3.8.6 64-bit ('py38': conda)",
   "name": "python3"
  },
  "language_info": {
   "codemirror_mode": {
    "name": "ipython",
    "version": 3
   },
   "file_extension": ".py",
   "mimetype": "text/x-python",
   "name": "python",
   "nbconvert_exporter": "python",
   "pygments_lexer": "ipython3",
   "version": "3.8.6"
  },
  "orig_nbformat": 4
 },
 "nbformat": 4,
 "nbformat_minor": 2
}
