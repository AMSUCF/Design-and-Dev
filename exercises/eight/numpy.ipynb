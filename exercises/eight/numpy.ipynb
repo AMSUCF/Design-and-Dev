{
 "cells": [
  {
   "cell_type": "code",
   "execution_count": 6,
   "metadata": {},
   "outputs": [
    {
     "data": {
      "text/plain": [
       "999999999"
      ]
     },
     "execution_count": 6,
     "metadata": {},
     "output_type": "execute_result"
    }
   ],
   "source": [
    "# documentation: https://opensource.com/article/21/9/python-numpy\n",
    "import numpy as np\n",
    "import time as time\n",
    "\n",
    "my_list = range(1, 1000000000)\n",
    "len(my_list)"
   ]
  },
  {
   "cell_type": "code",
   "execution_count": 7,
   "metadata": {},
   "outputs": [
    {
     "name": "stdout",
     "output_type": "stream",
     "text": [
      "Time elapsed in milliseconds: 71367.77400970459\n"
     ]
    }
   ],
   "source": [
    "start = time.time()\n",
    "min(my_list)\n",
    "\n",
    "print('Time elapsed in milliseconds: ' + str((time.time() - start) * 1000))"
   ]
  },
  {
   "cell_type": "code",
   "execution_count": 8,
   "metadata": {},
   "outputs": [
    {
     "name": "stdout",
     "output_type": "stream",
     "text": [
      "Time elapsed in milliseconds: 2463.4110927581787\n"
     ]
    }
   ],
   "source": [
    "my_list = np.arange(1, 1000000000)\n",
    "start = time.time()\n",
    "my_list.min()\n",
    "\n",
    "print('Time elapsed in milliseconds: ' + str((time.time() - start) * 1000))"
   ]
  },
  {
   "cell_type": "code",
   "execution_count": 9,
   "metadata": {},
   "outputs": [
    {
     "name": "stdout",
     "output_type": "stream",
     "text": [
      "[1 2 3 4 5]\n"
     ]
    },
    {
     "data": {
      "text/plain": [
       "numpy.ndarray"
      ]
     },
     "execution_count": 9,
     "metadata": {},
     "output_type": "execute_result"
    }
   ],
   "source": [
    "my_ndarray = np.array([1, 2, 3, 4, 5])\n",
    "print(my_ndarray)\n",
    "type(my_ndarray)"
   ]
  },
  {
   "cell_type": "code",
   "execution_count": 11,
   "metadata": {},
   "outputs": [
    {
     "data": {
      "text/plain": [
       "(2, 3)"
      ]
     },
     "execution_count": 11,
     "metadata": {},
     "output_type": "execute_result"
    }
   ],
   "source": [
    "np.shape(my_ndarray)\n",
    "\n",
    "my_ndarray2 = np.array([(1, 2, 3), (4, 5, 6)])\n",
    "np.shape(my_ndarray2)"
   ]
  },
  {
   "cell_type": "code",
   "execution_count": 16,
   "metadata": {},
   "outputs": [
    {
     "data": {
      "text/plain": [
       "5"
      ]
     },
     "execution_count": 16,
     "metadata": {},
     "output_type": "execute_result"
    }
   ],
   "source": [
    "my_ndarray.dtype\n",
    "my_ndarray.size"
   ]
  },
  {
   "cell_type": "code",
   "execution_count": 13,
   "metadata": {},
   "outputs": [
    {
     "name": "stdout",
     "output_type": "stream",
     "text": [
      "[1. 2. 3.]\n"
     ]
    },
    {
     "data": {
      "text/plain": [
       "dtype('float64')"
      ]
     },
     "execution_count": 13,
     "metadata": {},
     "output_type": "execute_result"
    }
   ],
   "source": [
    "my_ndarray2 = np.array([1, 2.0, 3])\n",
    "print(my_ndarray2)\n",
    "my_ndarray2.dtype"
   ]
  },
  {
   "cell_type": "code",
   "execution_count": 14,
   "metadata": {},
   "outputs": [
    {
     "name": "stdout",
     "output_type": "stream",
     "text": [
      "['1' '2' '3']\n"
     ]
    },
    {
     "data": {
      "text/plain": [
       "dtype('<U11')"
      ]
     },
     "execution_count": 14,
     "metadata": {},
     "output_type": "execute_result"
    }
   ],
   "source": [
    "my_ndarray2 = np.array([1, '2', 3])\n",
    "print(my_ndarray2)\n",
    "my_ndarray2.dtype"
   ]
  },
  {
   "cell_type": "code",
   "execution_count": 17,
   "metadata": {},
   "outputs": [
    {
     "name": "stdout",
     "output_type": "stream",
     "text": [
      "[[0 0 0]\n",
      " [0 0 0]]\n"
     ]
    }
   ],
   "source": [
    "my_ndarray = np.zeros([2,3], dtype=int)\n",
    "print(my_ndarray)"
   ]
  },
  {
   "cell_type": "code",
   "execution_count": 18,
   "metadata": {},
   "outputs": [
    {
     "name": "stdout",
     "output_type": "stream",
     "text": [
      "[[10 10 10]\n",
      " [10 10 10]]\n"
     ]
    }
   ],
   "source": [
    "my_ndarray = np.full([2,3], 10, dtype=int)\n",
    "print(my_ndarray)"
   ]
  },
  {
   "cell_type": "code",
   "execution_count": 19,
   "metadata": {},
   "outputs": [
    {
     "name": "stdout",
     "output_type": "stream",
     "text": [
      "[[1 0 0]\n",
      " [0 1 0]\n",
      " [0 0 1]]\n"
     ]
    }
   ],
   "source": [
    "my_ndarray = np.eye(3, dtype=int)\n",
    "print(my_ndarray)"
   ]
  },
  {
   "cell_type": "code",
   "execution_count": 21,
   "metadata": {},
   "outputs": [
    {
     "name": "stdout",
     "output_type": "stream",
     "text": [
      "[ 1  4  7 10 13 16 19]\n",
      "[ 7 10]\n"
     ]
    }
   ],
   "source": [
    "my_ndarray = np.arange(1, 20, 3)\n",
    "print(my_ndarray)\n",
    "print(my_ndarray[2:4])"
   ]
  },
  {
   "cell_type": "code",
   "execution_count": 22,
   "metadata": {},
   "outputs": [
    {
     "name": "stdout",
     "output_type": "stream",
     "text": [
      "[  1   4   7  10  13  16 100]\n"
     ]
    }
   ],
   "source": [
    "my_ndarray[-1:] = 100\n",
    "print(my_ndarray)"
   ]
  },
  {
   "cell_type": "code",
   "execution_count": 24,
   "metadata": {},
   "outputs": [
    {
     "name": "stdout",
     "output_type": "stream",
     "text": [
      "[ 7  9 11 13 15]\n",
      "[5 5 5 5 5]\n",
      "[ 6 14 24 36 50]\n"
     ]
    }
   ],
   "source": [
    "my_ndarray = np.array([1, 2, 3, 4, 5])\n",
    "my_ndarray2 = np.array([6, 7, 8, 9, 10])\n",
    "\n",
    "print(my_ndarray2 + my_ndarray)\n",
    "print(my_ndarray2 - my_ndarray)\n",
    "print(my_ndarray2 * my_ndarray)\n"
   ]
  },
  {
   "cell_type": "code",
   "execution_count": 25,
   "metadata": {},
   "outputs": [
    {
     "name": "stdout",
     "output_type": "stream",
     "text": [
      "[1 2 3 4 5]\n"
     ]
    }
   ],
   "source": [
    "my_ndarray = np.array([3, 1, 2, 5, 4])\n",
    "my_ndarray.sort()\n",
    "print(my_ndarray)"
   ]
  },
  {
   "cell_type": "code",
   "execution_count": 26,
   "metadata": {},
   "outputs": [
    {
     "name": "stdout",
     "output_type": "stream",
     "text": [
      "[1 2 3 4 5]\n",
      "[3 1 2 5 4]\n"
     ]
    }
   ],
   "source": [
    "my_ndarray = np.array([3, 1, 2, 5, 4])\n",
    "print(np.sort(my_ndarray))\n",
    "print(my_ndarray)"
   ]
  }
 ],
 "metadata": {
  "interpreter": {
   "hash": "1e5a1de8262f0e9d1487335168cc67bdb3373dee2cd3d5c339b458468358fbed"
  },
  "kernelspec": {
   "display_name": "Python 3.8.6 64-bit ('py38': conda)",
   "name": "python3"
  },
  "language_info": {
   "codemirror_mode": {
    "name": "ipython",
    "version": 3
   },
   "file_extension": ".py",
   "mimetype": "text/x-python",
   "name": "python",
   "nbconvert_exporter": "python",
   "pygments_lexer": "ipython3",
   "version": "3.8.6"
  },
  "orig_nbformat": 4
 },
 "nbformat": 4,
 "nbformat_minor": 2
}
