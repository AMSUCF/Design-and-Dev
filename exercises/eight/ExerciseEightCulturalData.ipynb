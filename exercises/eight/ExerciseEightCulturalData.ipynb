{
 "cells": [
  {
   "cell_type": "markdown",
   "metadata": {},
   "source": [
    "# Exercise Eight: Cultural Data\n",
    "\n",
    "For this exercise, pick a dataset of current or historical cultural data available in CSV format from one of the suggeted sources, or your own research. This will be easiest if your data includes some element of information over time. You'll be using the \"group by\" methods we discussed this week to make comparisons within the dataset: you might group by geography, party affiliation, age, gender, or other information marked in the dataset.\n",
    "\n",
    "Your annotated code should include headings, and discuss your findings as well as the limitations in what you can visualize using this approach. This exercise should:\n",
    "\n",
    "- Import your selected structured CSV data\n",
    "- Use Pandas to note any preliminary trends in the CSV as a dataframe\n",
    "- Use \"group by\" to break down at least two different subsets of data\n",
    "- Plot a comparison between the grouped data (this will be easiest over time)\n",
    "- Use one additional form of analysis or visualization from any we've tried so far"
   ]
  }
 ],
 "metadata": {
  "language_info": {
   "name": "python"
  },
  "orig_nbformat": 4
 },
 "nbformat": 4,
 "nbformat_minor": 2
}
