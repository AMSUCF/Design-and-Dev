{
 "cells": [
  {
   "cell_type": "code",
   "execution_count": 29,
   "metadata": {},
   "outputs": [
    {
     "name": "stdout",
     "output_type": "stream",
     "text": [
      "<bound method NDFrame.head of          id  year age     sex   race          degree   realrinc  \\\n",
      "35284     1  1998  60    male  white     HIGH SCHOOL  31005.000   \n",
      "35285     2  1998  27  female  white  JUNIOR COLLEGE  11196.000   \n",
      "35286     3  1998  36    male  white     HIGH SCHOOL  56842.000   \n",
      "35287     4  1998  21    male  white     HIGH SCHOOL  11196.000   \n",
      "35288     5  1998  35  female  white        bachelor  31005.000   \n",
      "...     ...   ...  ..     ...    ...             ...        ...   \n",
      "43693  2761  2002  22    male  white  LT HIGH SCHOOL  14860.375   \n",
      "43694  2762  2002  46    male  white        bachelor        NaN   \n",
      "43695  2763  2002  85  female  white     HIGH SCHOOL        NaN   \n",
      "43696  2764  2002  75    male  black     HIGH SCHOOL        NaN   \n",
      "43697  2765  2002  46    male  white     HIGH SCHOOL  42234.750   \n",
      "\n",
      "                region readfict               news litread         happy  \n",
      "35284  W. SOU. CENTRAL      yes                NaN     NaN  PRETTY HAPPY  \n",
      "35285  W. SOU. CENTRAL       no  LESS THAN ONCE WK     NaN  PRETTY HAPPY  \n",
      "35286  W. SOU. CENTRAL      yes  LESS THAN ONCE WK     NaN    VERY HAPPY  \n",
      "35287  W. SOU. CENTRAL      yes  LESS THAN ONCE WK     NaN    VERY HAPPY  \n",
      "35288  W. SOU. CENTRAL      NaN                NaN     NaN  PRETTY HAPPY  \n",
      "...                ...      ...                ...     ...           ...  \n",
      "43693      NEW ENGLAND      yes   FEW TIMES A WEEK     NaN  PRETTY HAPPY  \n",
      "43694      NEW ENGLAND      NaN                NaN     NaN           NaN  \n",
      "43695      NEW ENGLAND      NaN                NaN     NaN           NaN  \n",
      "43696   SOUTH ATLANTIC      NaN                NaN     NaN           NaN  \n",
      "43697   SOUTH ATLANTIC      yes                NaN     NaN    VERY HAPPY  \n",
      "\n",
      "[8414 rows x 12 columns]>\n"
     ]
    }
   ],
   "source": [
    "import pandas as pd\n",
    "\n",
    "# we restrict this (very large) dataset to the variables of interest\n",
    "columns = ['id', 'year', 'age', 'sex', 'race', 'degree', 'realrinc', 'region', 'readfict', 'news', 'litread', 'happy']\n",
    "df = pd.read_stata(\"GSS7218_R1.dta\", columns=columns)\n",
    "\n",
    "# further limit dataset to the years we are interested in\n",
    "df = df.loc[df['year'].isin({1998, 2000, 2002})]\n",
    "print(df.head)"
   ]
  },
  {
   "cell_type": "code",
   "execution_count": 30,
   "metadata": {},
   "outputs": [
    {
     "name": "stdout",
     "output_type": "stream",
     "text": [
      "<bound method NDFrame.head of          id  year age     sex   race          degree   realrinc  \\\n",
      "35284     1  1998  60    male  white     HIGH SCHOOL  31005.000   \n",
      "35285     2  1998  27  female  white  JUNIOR COLLEGE  11196.000   \n",
      "35286     3  1998  36    male  white     HIGH SCHOOL  56842.000   \n",
      "35287     4  1998  21    male  white     HIGH SCHOOL  11196.000   \n",
      "35288     5  1998  35  female  white        bachelor  31005.000   \n",
      "...     ...   ...  ..     ...    ...             ...        ...   \n",
      "43690  2758  2002  45    male  white     HIGH SCHOOL   4067.050   \n",
      "43691  2759  2002  22  female  white     HIGH SCHOOL   8603.375   \n",
      "43692  2760  2002  43  female  white     HIGH SCHOOL  13296.125   \n",
      "43693  2761  2002  22    male  white  LT HIGH SCHOOL  14860.375   \n",
      "43697  2765  2002  46    male  white     HIGH SCHOOL  42234.750   \n",
      "\n",
      "                region readfict               news litread         happy  \n",
      "35284  W. SOU. CENTRAL      yes                NaN     NaN  PRETTY HAPPY  \n",
      "35285  W. SOU. CENTRAL       no  LESS THAN ONCE WK     NaN  PRETTY HAPPY  \n",
      "35286  W. SOU. CENTRAL      yes  LESS THAN ONCE WK     NaN    VERY HAPPY  \n",
      "35287  W. SOU. CENTRAL      yes  LESS THAN ONCE WK     NaN    VERY HAPPY  \n",
      "35288  W. SOU. CENTRAL      NaN                NaN     NaN  PRETTY HAPPY  \n",
      "...                ...      ...                ...     ...           ...  \n",
      "43690      NEW ENGLAND      NaN                NaN     NaN           NaN  \n",
      "43691      NEW ENGLAND      NaN                NaN     NaN           NaN  \n",
      "43692      NEW ENGLAND      NaN                NaN     NaN           NaN  \n",
      "43693      NEW ENGLAND      yes   FEW TIMES A WEEK     NaN  PRETTY HAPPY  \n",
      "43697   SOUTH ATLANTIC      yes                NaN     NaN    VERY HAPPY  \n",
      "\n",
      "[5447 rows x 12 columns]>\n"
     ]
    }
   ],
   "source": [
    "# limit dataset to exclude records from individuals who refused\n",
    "# to report their income\n",
    "df = df.loc[df['realrinc'].notnull()]\n",
    "print(df.head)"
   ]
  },
  {
   "cell_type": "code",
   "execution_count": 31,
   "metadata": {},
   "outputs": [
    {
     "name": "stdout",
     "output_type": "stream",
     "text": [
      "<bound method NDFrame.head of          id  year age     sex   race          degree   realrinc  \\\n",
      "35284     1  1998  60    male  white     HIGH SCHOOL  31005.000   \n",
      "35285     2  1998  27  female  white  JUNIOR COLLEGE  11196.000   \n",
      "35286     3  1998  36    male  white     HIGH SCHOOL  56842.000   \n",
      "35287     4  1998  21    male  white     HIGH SCHOOL  11196.000   \n",
      "35288     5  1998  35  female  white        bachelor  31005.000   \n",
      "...     ...   ...  ..     ...    ...             ...        ...   \n",
      "43690  2758  2002  45    male  white     HIGH SCHOOL   4067.050   \n",
      "43691  2759  2002  22  female  white     HIGH SCHOOL   8603.375   \n",
      "43692  2760  2002  43  female  white     HIGH SCHOOL  13296.125   \n",
      "43693  2761  2002  22    male  white  LT HIGH SCHOOL  14860.375   \n",
      "43697  2765  2002  46    male  white     HIGH SCHOOL  42234.750   \n",
      "\n",
      "                region readfict               news litread         happy  \n",
      "35284  W. SOU. CENTRAL      yes                NaN     NaN  PRETTY HAPPY  \n",
      "35285  W. SOU. CENTRAL       no  LESS THAN ONCE WK     NaN  PRETTY HAPPY  \n",
      "35286  W. SOU. CENTRAL      yes  LESS THAN ONCE WK     NaN    VERY HAPPY  \n",
      "35287  W. SOU. CENTRAL      yes  LESS THAN ONCE WK     NaN    VERY HAPPY  \n",
      "35288  W. SOU. CENTRAL      NaN                NaN     NaN  PRETTY HAPPY  \n",
      "...                ...      ...                ...     ...           ...  \n",
      "43690      NEW ENGLAND      NaN                NaN     NaN           NaN  \n",
      "43691      NEW ENGLAND      NaN                NaN     NaN           NaN  \n",
      "43692      NEW ENGLAND      NaN                NaN     NaN           NaN  \n",
      "43693      NEW ENGLAND      yes   FEW TIMES A WEEK     NaN  PRETTY HAPPY  \n",
      "43697   SOUTH ATLANTIC      yes                NaN     NaN    VERY HAPPY  \n",
      "\n",
      "[5447 rows x 12 columns]>\n",
      "<bound method NDFrame.head of          id  year age     sex   race          degree   realrinc  \\\n",
      "35284     1  1998  60    male  white     HIGH SCHOOL  31005.000   \n",
      "35285     2  1998  27  female  white  JUNIOR COLLEGE  11196.000   \n",
      "35286     3  1998  36    male  white     HIGH SCHOOL  56842.000   \n",
      "35287     4  1998  21    male  white     HIGH SCHOOL  11196.000   \n",
      "35288     5  1998  35  female  white        bachelor  31005.000   \n",
      "...     ...   ...  ..     ...    ...             ...        ...   \n",
      "43690  2758  2002  45    male  white     HIGH SCHOOL   4067.050   \n",
      "43691  2759  2002  22  female  white     HIGH SCHOOL   8603.375   \n",
      "43692  2760  2002  43  female  white     HIGH SCHOOL  13296.125   \n",
      "43693  2761  2002  22    male  white  LT HIGH SCHOOL  14860.375   \n",
      "43697  2765  2002  46    male  white     HIGH SCHOOL  42234.750   \n",
      "\n",
      "                region readfict               news litread         happy  \\\n",
      "35284  W. SOU. CENTRAL      yes                NaN     NaN  PRETTY HAPPY   \n",
      "35285  W. SOU. CENTRAL       no  LESS THAN ONCE WK     NaN  PRETTY HAPPY   \n",
      "35286  W. SOU. CENTRAL      yes  LESS THAN ONCE WK     NaN    VERY HAPPY   \n",
      "35287  W. SOU. CENTRAL      yes  LESS THAN ONCE WK     NaN    VERY HAPPY   \n",
      "35288  W. SOU. CENTRAL      NaN                NaN     NaN  PRETTY HAPPY   \n",
      "...                ...      ...                ...     ...           ...   \n",
      "43690      NEW ENGLAND      NaN                NaN     NaN           NaN   \n",
      "43691      NEW ENGLAND      NaN                NaN     NaN           NaN   \n",
      "43692      NEW ENGLAND      NaN                NaN     NaN           NaN   \n",
      "43693      NEW ENGLAND      yes   FEW TIMES A WEEK     NaN  PRETTY HAPPY   \n",
      "43697   SOUTH ATLANTIC      yes                NaN     NaN    VERY HAPPY   \n",
      "\n",
      "        realrinc2015  \n",
      "35284   66960.615876  \n",
      "35285   24179.682482  \n",
      "35286  122760.049270  \n",
      "35287   24179.682482  \n",
      "35288   66960.615876  \n",
      "...              ...  \n",
      "43690    8783.492108  \n",
      "43691   18580.464074  \n",
      "43692   28715.262660  \n",
      "43693   32093.528855  \n",
      "43697   91213.187272  \n",
      "\n",
      "[5447 rows x 13 columns]>\n"
     ]
    }
   ],
   "source": [
    "# REALITY CHECK, using GSS provided values\n",
    "df.loc[df['year'] == 2000, 'realrinc'].astype(float).min() == 333;\n",
    "round(df.loc[df['year'] == 2000, 'realrinc'].astype(float).mean(), 2) == 22110.13;\n",
    "print(df.head)\n",
    "\n",
    "# inflation measured via US Consumer Price Index (CPI), source:\n",
    "# http://www.dlt.ri.gov/lmi/pdf/cpi.pdf\n",
    "cpi2015_vs_1986 = 236.7 / 109.6\n",
    "assert df['realrinc'].astype(float).median() < 24000  # reality check\n",
    "df['realrinc2015'] = cpi2015_vs_1986 * df['realrinc'].astype(float)\n",
    "print(df.head)"
   ]
  },
  {
   "cell_type": "code",
   "execution_count": 32,
   "metadata": {},
   "outputs": [
    {
     "data": {
      "image/png": "[encoded data removed]",
      "text/plain": [
       "<Figure size 432x288 with 1 Axes>"
      ]
     },
     "metadata": {
      "needs_background": "light"
     },
     "output_type": "display_data"
    }
   ],
   "source": [
    "import matplotlib.pyplot as plt\n",
    "df.groupby('race')['realrinc2015'].plot(kind='hist', bins=30)\n",
    "plt.xlabel('Income')\n",
    "plt.legend();"
   ]
  },
  {
   "cell_type": "code",
   "execution_count": 34,
   "metadata": {},
   "outputs": [
    {
     "data": {
      "image/png": "[encoded data removed]",
      "text/plain": [
       "<Figure size 432x288 with 1 Axes>"
      ]
     },
     "metadata": {
      "needs_background": "light"
     },
     "output_type": "display_data"
    }
   ],
   "source": [
    "import matplotlib.pyplot as plt\n",
    "df.groupby('race')['realrinc2015'].plot(kind='hist', bins=30)\n",
    "plt.xlabel('Income')\n",
    "plt.legend();"
   ]
  },
  {
   "cell_type": "code",
   "execution_count": 35,
   "metadata": {},
   "outputs": [
    {
     "data": {
      "image/png": "[encoded data removed]",
      "text/plain": [
       "<Figure size 432x288 with 1 Axes>"
      ]
     },
     "metadata": {
      "needs_background": "light"
     },
     "output_type": "display_data"
    }
   ],
   "source": [
    "import numpy as np\n",
    "\n",
    "df['realrinc2015_log10'] = np.log10(df['realrinc2015'])\n",
    "df.groupby('race')['realrinc2015_log10'].plot(kind='hist', bins=30)\n",
    "plt.xlabel(r'$\\log10(\\mathrm{Income})$')\n",
    "plt.legend();"
   ]
  },
  {
   "cell_type": "code",
   "execution_count": 36,
   "metadata": {},
   "outputs": [
    {
     "name": "stdout",
     "output_type": "stream",
     "text": [
      "749.1342599999999\n",
      "51296.74902490707\n",
      "37160.92814781022\n"
     ]
    }
   ],
   "source": [
    "print(df['realrinc2015'].max() / df['realrinc2015'].min())\n",
    "print(df['realrinc2015'].mean())\n",
    "print(df['realrinc2015'].median())"
   ]
  },
  {
   "cell_type": "code",
   "execution_count": 37,
   "metadata": {},
   "outputs": [
    {
     "data": {
      "text/html": [
       "<div>\n",
       "<style scoped>\n",
       "    .dataframe tbody tr th:only-of-type {\n",
       "        vertical-align: middle;\n",
       "    }\n",
       "\n",
       "    .dataframe tbody tr th {\n",
       "        vertical-align: top;\n",
       "    }\n",
       "\n",
       "    .dataframe thead th {\n",
       "        text-align: right;\n",
       "    }\n",
       "</style>\n",
       "<table border=\"1\" class=\"dataframe\">\n",
       "  <thead>\n",
       "    <tr style=\"text-align: right;\">\n",
       "      <th></th>\n",
       "      <th></th>\n",
       "      <th>size</th>\n",
       "      <th>mean</th>\n",
       "      <th>median</th>\n",
       "    </tr>\n",
       "    <tr>\n",
       "      <th>year</th>\n",
       "      <th>degree</th>\n",
       "      <th></th>\n",
       "      <th></th>\n",
       "      <th></th>\n",
       "    </tr>\n",
       "  </thead>\n",
       "  <tbody>\n",
       "    <tr>\n",
       "      <th>1998</th>\n",
       "      <th>bachelor</th>\n",
       "      <td>363</td>\n",
       "      <td>63805.508302</td>\n",
       "      <td>48359.364964</td>\n",
       "    </tr>\n",
       "    <tr>\n",
       "      <th>2000</th>\n",
       "      <th>bachelor</th>\n",
       "      <td>344</td>\n",
       "      <td>58819.407571</td>\n",
       "      <td>46674.821168</td>\n",
       "    </tr>\n",
       "    <tr>\n",
       "      <th>2002</th>\n",
       "      <th>bachelor</th>\n",
       "      <td>307</td>\n",
       "      <td>85469.227956</td>\n",
       "      <td>50673.992929</td>\n",
       "    </tr>\n",
       "  </tbody>\n",
       "</table>\n",
       "</div>"
      ],
      "text/plain": [
       "               size          mean        median\n",
       "year degree                                    \n",
       "1998 bachelor   363  63805.508302  48359.364964\n",
       "2000 bachelor   344  58819.407571  46674.821168\n",
       "2002 bachelor   307  85469.227956  50673.992929"
      ]
     },
     "execution_count": 37,
     "metadata": {},
     "output_type": "execute_result"
    }
   ],
   "source": [
    "df_bachelor = df[df['degree'] == 'bachelor']\n",
    "# observed=True instructs pandas to ignore categories\n",
    "# without any observations\n",
    "df_bachelor.groupby(['year', 'degree'], observed=True)['realrinc2015'].agg(['size', 'mean', 'median'])"
   ]
  },
  {
   "cell_type": "code",
   "execution_count": 38,
   "metadata": {},
   "outputs": [
    {
     "name": "stdout",
     "output_type": "stream",
     "text": [
      "41687    0\n",
      "36793    1\n",
      "43055    0\n",
      "42535    1\n",
      "36708    1\n",
      "41873    1\n",
      "42415    1\n",
      "42400    0\n",
      "Name: readfict, dtype: int64\n",
      "Mean: 0.625\n",
      "Median: 1.0\n"
     ]
    }
   ],
   "source": [
    "readfict_sample = df.loc[df['readfict'].notnull()].sample(8)['readfict']\n",
    "readfict_sample = readfict_sample.replace(['no', 'yes'], [0, 1])\n",
    "print(readfict_sample)\n",
    "\n",
    "print(\"Mean:\", readfict_sample.mean())\n",
    "print(\"Median:\", readfict_sample.median())"
   ]
  },
  {
   "cell_type": "code",
   "execution_count": 39,
   "metadata": {},
   "outputs": [
    {
     "data": {
      "text/plain": [
       "degree\n",
       "LT HIGH SCHOOL    19551.0\n",
       "HIGH SCHOOL       23568.0\n",
       "JUNIOR COLLEGE    33776.0\n",
       "bachelor          45055.0\n",
       "graduate          77014.0\n",
       "Name: realrinc2015, dtype: float64"
      ]
     },
     "execution_count": 39,
     "metadata": {},
     "output_type": "execute_result"
    }
   ],
   "source": [
    "df.groupby('degree')['realrinc2015'].mad().round()"
   ]
  },
  {
   "cell_type": "code",
   "execution_count": 40,
   "metadata": {},
   "outputs": [
    {
     "data": {
      "text/plain": [
       "degree    readfict\n",
       "bachelor  yes          48908.0\n",
       "          no          119523.0\n",
       "graduate  yes          82613.0\n",
       "          no          133028.0\n",
       "Name: realrinc2015, dtype: float64"
      ]
     },
     "execution_count": 40,
     "metadata": {},
     "output_type": "execute_result"
    }
   ],
   "source": [
    "df_bachelor_or_more = df[df['degree'].isin(['bachelor', 'graduate'])]\n",
    "df_bachelor_or_more.groupby(['degree', 'readfict'], observed=True)['realrinc2015'].mad().round()"
   ]
  },
  {
   "cell_type": "code",
   "execution_count": 41,
   "metadata": {},
   "outputs": [
    {
     "data": {
      "text/plain": [
       "degree    readfict\n",
       "bachelor  yes          71251.0\n",
       "          no          139918.0\n",
       "graduate  yes         113125.0\n",
       "          no          153961.0\n",
       "Name: realrinc2015, dtype: float64"
      ]
     },
     "execution_count": 41,
     "metadata": {},
     "output_type": "execute_result"
    }
   ],
   "source": [
    "df_bachelor_or_more.groupby(['degree', 'readfict'], observed=True)['realrinc2015'].mean().round()"
   ]
  },
  {
   "cell_type": "code",
   "execution_count": 43,
   "metadata": {},
   "outputs": [
    {
     "data": {
      "text/plain": [
       "happy          readfict\n",
       "VERY HAPPY     yes         107718.0\n",
       "               no          159788.0\n",
       "PRETTY HAPPY   yes          73977.0\n",
       "               no          124923.0\n",
       "NOT TOO HAPPY  yes          58916.0\n",
       "               no          206463.0\n",
       "Name: realrinc2015, dtype: float64"
      ]
     },
     "execution_count": 43,
     "metadata": {},
     "output_type": "execute_result"
    }
   ],
   "source": [
    "df_bachelor_or_more.groupby(['happy', 'readfict'], observed=True)['realrinc2015'].mean().round()"
   ]
  },
  {
   "cell_type": "code",
   "execution_count": 51,
   "metadata": {},
   "outputs": [
    {
     "ename": "DataError",
     "evalue": "No numeric types to aggregate",
     "output_type": "error",
     "traceback": [
      "\u001b[1;31m---------------------------------------------------------------------------\u001b[0m",
      "\u001b[1;31mDataError\u001b[0m                                 Traceback (most recent call last)",
      "\u001b[1;32m<ipython-input-51-e4cb4d02ac8c>\u001b[0m in \u001b[0;36m<module>\u001b[1;34m\u001b[0m\n\u001b[1;32m----> 1\u001b[1;33m \u001b[0mdf_bachelor_or_more\u001b[0m\u001b[1;33m.\u001b[0m\u001b[0mgroupby\u001b[0m\u001b[1;33m(\u001b[0m\u001b[1;33m[\u001b[0m\u001b[1;34m'happy'\u001b[0m\u001b[1;33m,\u001b[0m \u001b[1;34m'news'\u001b[0m\u001b[1;33m]\u001b[0m\u001b[1;33m,\u001b[0m \u001b[0mobserved\u001b[0m\u001b[1;33m=\u001b[0m\u001b[1;32mTrue\u001b[0m\u001b[1;33m)\u001b[0m\u001b[1;33m[\u001b[0m\u001b[1;34m'age'\u001b[0m\u001b[1;33m]\u001b[0m\u001b[1;33m.\u001b[0m\u001b[0mmean\u001b[0m\u001b[1;33m(\u001b[0m\u001b[1;33m)\u001b[0m\u001b[1;33m.\u001b[0m\u001b[0mround\u001b[0m\u001b[1;33m(\u001b[0m\u001b[1;33m)\u001b[0m\u001b[1;33m\u001b[0m\u001b[1;33m\u001b[0m\u001b[0m\n\u001b[0m",
      "\u001b[1;32mC:\\ProgramData\\Anaconda3\\envs\\py38\\lib\\site-packages\\pandas\\core\\groupby\\groupby.py\u001b[0m in \u001b[0;36mmean\u001b[1;34m(self, numeric_only)\u001b[0m\n\u001b[0;32m   1393\u001b[0m         \u001b[0mName\u001b[0m\u001b[1;33m:\u001b[0m \u001b[0mB\u001b[0m\u001b[1;33m,\u001b[0m \u001b[0mdtype\u001b[0m\u001b[1;33m:\u001b[0m \u001b[0mfloat64\u001b[0m\u001b[1;33m\u001b[0m\u001b[1;33m\u001b[0m\u001b[0m\n\u001b[0;32m   1394\u001b[0m         \"\"\"\n\u001b[1;32m-> 1395\u001b[1;33m         return self._cython_agg_general(\n\u001b[0m\u001b[0;32m   1396\u001b[0m             \u001b[1;34m\"mean\"\u001b[0m\u001b[1;33m,\u001b[0m\u001b[1;33m\u001b[0m\u001b[1;33m\u001b[0m\u001b[0m\n\u001b[0;32m   1397\u001b[0m             \u001b[0malt\u001b[0m\u001b[1;33m=\u001b[0m\u001b[1;32mlambda\u001b[0m \u001b[0mx\u001b[0m\u001b[1;33m,\u001b[0m \u001b[0maxis\u001b[0m\u001b[1;33m:\u001b[0m \u001b[0mSeries\u001b[0m\u001b[1;33m(\u001b[0m\u001b[0mx\u001b[0m\u001b[1;33m)\u001b[0m\u001b[1;33m.\u001b[0m\u001b[0mmean\u001b[0m\u001b[1;33m(\u001b[0m\u001b[0mnumeric_only\u001b[0m\u001b[1;33m=\u001b[0m\u001b[0mnumeric_only\u001b[0m\u001b[1;33m)\u001b[0m\u001b[1;33m,\u001b[0m\u001b[1;33m\u001b[0m\u001b[1;33m\u001b[0m\u001b[0m\n",
      "\u001b[1;32mC:\\ProgramData\\Anaconda3\\envs\\py38\\lib\\site-packages\\pandas\\core\\groupby\\groupby.py\u001b[0m in \u001b[0;36m_cython_agg_general\u001b[1;34m(self, how, alt, numeric_only, min_count)\u001b[0m\n\u001b[0;32m   1051\u001b[0m \u001b[1;33m\u001b[0m\u001b[0m\n\u001b[0;32m   1052\u001b[0m         \u001b[1;32mif\u001b[0m \u001b[0mlen\u001b[0m\u001b[1;33m(\u001b[0m\u001b[0moutput\u001b[0m\u001b[1;33m)\u001b[0m \u001b[1;33m==\u001b[0m \u001b[1;36m0\u001b[0m\u001b[1;33m:\u001b[0m\u001b[1;33m\u001b[0m\u001b[1;33m\u001b[0m\u001b[0m\n\u001b[1;32m-> 1053\u001b[1;33m             \u001b[1;32mraise\u001b[0m \u001b[0mDataError\u001b[0m\u001b[1;33m(\u001b[0m\u001b[1;34m\"No numeric types to aggregate\"\u001b[0m\u001b[1;33m)\u001b[0m\u001b[1;33m\u001b[0m\u001b[1;33m\u001b[0m\u001b[0m\n\u001b[0m\u001b[0;32m   1054\u001b[0m \u001b[1;33m\u001b[0m\u001b[0m\n\u001b[0;32m   1055\u001b[0m         \u001b[1;32mreturn\u001b[0m \u001b[0mself\u001b[0m\u001b[1;33m.\u001b[0m\u001b[0m_wrap_aggregated_output\u001b[0m\u001b[1;33m(\u001b[0m\u001b[0moutput\u001b[0m\u001b[1;33m,\u001b[0m \u001b[0mindex\u001b[0m\u001b[1;33m=\u001b[0m\u001b[0mself\u001b[0m\u001b[1;33m.\u001b[0m\u001b[0mgrouper\u001b[0m\u001b[1;33m.\u001b[0m\u001b[0mresult_index\u001b[0m\u001b[1;33m)\u001b[0m\u001b[1;33m\u001b[0m\u001b[1;33m\u001b[0m\u001b[0m\n",
      "\u001b[1;31mDataError\u001b[0m: No numeric types to aggregate"
     ]
    }
   ],
   "source": [
    "df_bachelor_or_more.groupby(['happy', 'news'], observed=True)['age'].mean().round()"
   ]
  },
  {
   "cell_type": "code",
   "execution_count": 42,
   "metadata": {},
   "outputs": [
    {
     "name": "stdout",
     "output_type": "stream",
     "text": [
      "[2, 5, 5]\n",
      "[0.25, 0.625, 0.625]\n"
     ]
    }
   ],
   "source": [
    "group1 = ['high school', 'high school', 'high school', 'high school', 'high school',\n",
    "          'high school', 'bachelor', 'bachelor']\n",
    "group2 = ['lt high school', 'lt high school', 'lt high school', 'lt high school',\n",
    "          'high school', 'junior college', 'bachelor', 'graduate']\n",
    "group3 = ['lt high school', 'lt high school', 'high school', 'high school',\n",
    "          'junior college', 'junior college', 'bachelor', 'graduate']\n",
    "\n",
    "# calculate the number of unique values in each group\n",
    "print([len(set(group)) for group in [group1, group2, group3]])\n",
    "# calculate the ratio of observed categories to total observations\n",
    "print([len(set(group)) / len(group) for group in [group1, group2, group3]])"
   ]
  }
 ],
 "metadata": {
  "interpreter": {
   "hash": "1e5a1de8262f0e9d1487335168cc67bdb3373dee2cd3d5c339b458468358fbed"
  },
  "kernelspec": {
   "display_name": "Python 3.8.6 64-bit ('py38': conda)",
   "name": "python3"
  },
  "language_info": {
   "codemirror_mode": {
    "name": "ipython",
    "version": 3
   },
   "file_extension": ".py",
   "mimetype": "text/x-python",
   "name": "python",
   "nbconvert_exporter": "python",
   "pygments_lexer": "ipython3",
   "version": "3.8.6"
  },
  "orig_nbformat": 4
 },
 "nbformat": 4,
 "nbformat_minor": 2
}
