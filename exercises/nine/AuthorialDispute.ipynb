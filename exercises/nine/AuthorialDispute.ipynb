{
 "cells": [
  {
   "cell_type": "code",
   "execution_count": 2,
   "metadata": {},
   "outputs": [
    {
     "data": {
      "text/html": [
       "<div>\n",
       "<style scoped>\n",
       "    .dataframe tbody tr th:only-of-type {\n",
       "        vertical-align: middle;\n",
       "    }\n",
       "\n",
       "    .dataframe tbody tr th {\n",
       "        vertical-align: top;\n",
       "    }\n",
       "\n",
       "    .dataframe thead th {\n",
       "        text-align: right;\n",
       "    }\n",
       "</style>\n",
       "<table border=\"1\" class=\"dataframe\">\n",
       "  <thead>\n",
       "    <tr style=\"text-align: right;\">\n",
       "      <th></th>\n",
       "      <th>whilst</th>\n",
       "      <th>service</th>\n",
       "      <th>upon</th>\n",
       "      <th>the</th>\n",
       "      <th>state</th>\n",
       "      <th>enough</th>\n",
       "      <th>objection</th>\n",
       "    </tr>\n",
       "  </thead>\n",
       "  <tbody>\n",
       "    <tr>\n",
       "      <th>68</th>\n",
       "      <td>0</td>\n",
       "      <td>0</td>\n",
       "      <td>2</td>\n",
       "      <td>142</td>\n",
       "      <td>10</td>\n",
       "      <td>0</td>\n",
       "      <td>1</td>\n",
       "    </tr>\n",
       "    <tr>\n",
       "      <th>36</th>\n",
       "      <td>0</td>\n",
       "      <td>0</td>\n",
       "      <td>6</td>\n",
       "      <td>251</td>\n",
       "      <td>25</td>\n",
       "      <td>0</td>\n",
       "      <td>4</td>\n",
       "    </tr>\n",
       "    <tr>\n",
       "      <th>74</th>\n",
       "      <td>0</td>\n",
       "      <td>1</td>\n",
       "      <td>3</td>\n",
       "      <td>104</td>\n",
       "      <td>2</td>\n",
       "      <td>0</td>\n",
       "      <td>0</td>\n",
       "    </tr>\n",
       "    <tr>\n",
       "      <th>63</th>\n",
       "      <td>1</td>\n",
       "      <td>0</td>\n",
       "      <td>0</td>\n",
       "      <td>290</td>\n",
       "      <td>6</td>\n",
       "      <td>0</td>\n",
       "      <td>0</td>\n",
       "    </tr>\n",
       "    <tr>\n",
       "      <th>40</th>\n",
       "      <td>0</td>\n",
       "      <td>0</td>\n",
       "      <td>0</td>\n",
       "      <td>294</td>\n",
       "      <td>6</td>\n",
       "      <td>0</td>\n",
       "      <td>2</td>\n",
       "    </tr>\n",
       "    <tr>\n",
       "      <th>54</th>\n",
       "      <td>0</td>\n",
       "      <td>0</td>\n",
       "      <td>2</td>\n",
       "      <td>204</td>\n",
       "      <td>16</td>\n",
       "      <td>0</td>\n",
       "      <td>2</td>\n",
       "    </tr>\n",
       "  </tbody>\n",
       "</table>\n",
       "</div>"
      ],
      "text/plain": [
       "    whilst  service  upon  the  state  enough  objection\n",
       "68       0        0     2  142     10       0          1\n",
       "36       0        0     6  251     25       0          4\n",
       "74       0        1     3  104      2       0          0\n",
       "63       1        0     0  290      6       0          0\n",
       "40       0        0     0  294      6       0          2\n",
       "54       0        0     2  204     16       0          2"
      ]
     },
     "execution_count": 2,
     "metadata": {},
     "output_type": "execute_result"
    }
   ],
   "source": [
    "import pandas as pd\n",
    "import numpy as np\n",
    "np.random.seed(1)  # fix a seed for reproducible random sampling\n",
    "\n",
    "# only show counts for these words:\n",
    "words_of_interest = ['whilst','service','upon', 'the', 'state', 'enough', 'objection']\n",
    "df = pd.read_csv('federalist-papers.csv', index_col=0)\n",
    "df[words_of_interest].sample(6)"
   ]
  },
  {
   "cell_type": "code",
   "execution_count": 3,
   "metadata": {},
   "outputs": [],
   "source": [
    "# values associated with the column 'AUTHOR' are one of the following:\n",
    "# {'HAMILTON', 'MADISON', 'JAY', 'HAMILTON OR MADISON',\n",
    "#  'HAMILTON AND MADISON'}\n",
    "# essays with the author 'HAMILTON OR MADISON' are the 12 disputed essays.\n",
    "disputed_essays = df[df['AUTHOR'] == 'HAMILTON OR MADISON'].index\n",
    "assert len(disputed_essays) == 12  # there are twelve disputed essays\n",
    "# numbers widely used to identify the essays\n",
    "assert set(disputed_essays) == {49, 50, 51, 52, 53, 54, 55, 56, 57, 58, 62, 63}"
   ]
  },
  {
   "cell_type": "code",
   "execution_count": 4,
   "metadata": {},
   "outputs": [
    {
     "name": "stdout",
     "output_type": "stream",
     "text": [
      "HAMILTON    51\n",
      "MADISON     36\n",
      "Name: AUTHOR, dtype: int64\n"
     ]
    }
   ],
   "source": [
    "# gather essays with known authorship: the undisputed essays of\n",
    "# Madison and Hamilton\n",
    "df_known = df.loc[df['AUTHOR'].isin(('HAMILTON', 'MADISON'))]\n",
    "print(df_known['AUTHOR'].value_counts())"
   ]
  },
  {
   "cell_type": "code",
   "execution_count": 5,
   "metadata": {},
   "outputs": [
    {
     "data": {
      "image/png": "[encoded data removed]",
      "text/plain": [
       "<Figure size 432x288 with 1 Axes>"
      ]
     },
     "metadata": {
      "needs_background": "light"
     },
     "output_type": "display_data"
    }
   ],
   "source": [
    "df_known.groupby('AUTHOR')['upon'].plot.hist(\n",
    "    rwidth=0.9, alpha=0.6, range=(0, 22), legend=True);"
   ]
  },
  {
   "cell_type": "code",
   "execution_count": 6,
   "metadata": {},
   "outputs": [
    {
     "data": {
      "text/html": [
       "<div>\n",
       "<style scoped>\n",
       "    .dataframe tbody tr th:only-of-type {\n",
       "        vertical-align: middle;\n",
       "    }\n",
       "\n",
       "    .dataframe tbody tr th {\n",
       "        vertical-align: top;\n",
       "    }\n",
       "\n",
       "    .dataframe thead th {\n",
       "        text-align: right;\n",
       "    }\n",
       "</style>\n",
       "<table border=\"1\" class=\"dataframe\">\n",
       "  <thead>\n",
       "    <tr style=\"text-align: right;\">\n",
       "      <th></th>\n",
       "      <th>count</th>\n",
       "      <th>mean</th>\n",
       "      <th>std</th>\n",
       "      <th>min</th>\n",
       "      <th>25%</th>\n",
       "      <th>50%</th>\n",
       "      <th>75%</th>\n",
       "      <th>max</th>\n",
       "    </tr>\n",
       "    <tr>\n",
       "      <th>AUTHOR</th>\n",
       "      <th></th>\n",
       "      <th></th>\n",
       "      <th></th>\n",
       "      <th></th>\n",
       "      <th></th>\n",
       "      <th></th>\n",
       "      <th></th>\n",
       "      <th></th>\n",
       "    </tr>\n",
       "  </thead>\n",
       "  <tbody>\n",
       "    <tr>\n",
       "      <th>HAMILTON</th>\n",
       "      <td>51.0</td>\n",
       "      <td>7.333333</td>\n",
       "      <td>4.008325</td>\n",
       "      <td>2.0</td>\n",
       "      <td>4.0</td>\n",
       "      <td>6.0</td>\n",
       "      <td>10.00</td>\n",
       "      <td>20.0</td>\n",
       "    </tr>\n",
       "    <tr>\n",
       "      <th>MADISON</th>\n",
       "      <td>36.0</td>\n",
       "      <td>1.250000</td>\n",
       "      <td>1.574348</td>\n",
       "      <td>0.0</td>\n",
       "      <td>0.0</td>\n",
       "      <td>0.5</td>\n",
       "      <td>2.25</td>\n",
       "      <td>5.0</td>\n",
       "    </tr>\n",
       "  </tbody>\n",
       "</table>\n",
       "</div>"
      ],
      "text/plain": [
       "          count      mean       std  min  25%  50%    75%   max\n",
       "AUTHOR                                                         \n",
       "HAMILTON   51.0  7.333333  4.008325  2.0  4.0  6.0  10.00  20.0\n",
       "MADISON    36.0  1.250000  1.574348  0.0  0.0  0.5   2.25   5.0"
      ]
     },
     "execution_count": 6,
     "metadata": {},
     "output_type": "execute_result"
    }
   ],
   "source": [
    "df_known.groupby('AUTHOR')['upon'].describe()"
   ]
  },
  {
   "cell_type": "code",
   "execution_count": 8,
   "metadata": {},
   "outputs": [
    {
     "name": "stdout",
     "output_type": "stream",
     "text": [
      "AUTHOR\n",
      "HAMILTON    1.0\n",
      "MADISON     0.5\n",
      "Name: upon, dtype: float64\n"
     ]
    },
    {
     "data": {
      "image/png": "[encoded data removed]",
      "text/plain": [
       "<Figure size 432x288 with 1 Axes>"
      ]
     },
     "metadata": {
      "needs_background": "light"
     },
     "output_type": "display_data"
    }
   ],
   "source": [
    "# The expression below applies `mean` to a sequence of binary observations\n",
    "# to get a proportion. For example,\n",
    "# np.mean([False, False, True]) == np.mean([0, 0, 1]) == 1/3\n",
    "proportions = df_known.groupby('AUTHOR')['upon'].apply(\n",
    "    lambda upon_counts: (upon_counts > 0).mean())\n",
    "print(proportions)\n",
    "\n",
    "proportions.plot.bar(rot=0);"
   ]
  },
  {
   "cell_type": "code",
   "execution_count": 10,
   "metadata": {},
   "outputs": [
    {
     "data": {
      "text/html": [
       "<div>\n",
       "<style scoped>\n",
       "    .dataframe tbody tr th:only-of-type {\n",
       "        vertical-align: middle;\n",
       "    }\n",
       "\n",
       "    .dataframe tbody tr th {\n",
       "        vertical-align: top;\n",
       "    }\n",
       "\n",
       "    .dataframe thead th {\n",
       "        text-align: right;\n",
       "    }\n",
       "</style>\n",
       "<table border=\"1\" class=\"dataframe\">\n",
       "  <thead>\n",
       "    <tr style=\"text-align: right;\">\n",
       "      <th></th>\n",
       "      <th>count</th>\n",
       "      <th>mean</th>\n",
       "      <th>std</th>\n",
       "      <th>min</th>\n",
       "      <th>25%</th>\n",
       "      <th>50%</th>\n",
       "      <th>75%</th>\n",
       "      <th>max</th>\n",
       "    </tr>\n",
       "    <tr>\n",
       "      <th>AUTHOR</th>\n",
       "      <th></th>\n",
       "      <th></th>\n",
       "      <th></th>\n",
       "      <th></th>\n",
       "      <th></th>\n",
       "      <th></th>\n",
       "      <th></th>\n",
       "      <th></th>\n",
       "    </tr>\n",
       "  </thead>\n",
       "  <tbody>\n",
       "    <tr>\n",
       "      <th>HAMILTON</th>\n",
       "      <td>51.0</td>\n",
       "      <td>11.921569</td>\n",
       "      <td>15.883127</td>\n",
       "      <td>0.0</td>\n",
       "      <td>0.0</td>\n",
       "      <td>10.0</td>\n",
       "      <td>20.0</td>\n",
       "      <td>59.0</td>\n",
       "    </tr>\n",
       "    <tr>\n",
       "      <th>MADISON</th>\n",
       "      <td>36.0</td>\n",
       "      <td>6.666667</td>\n",
       "      <td>10.141851</td>\n",
       "      <td>0.0</td>\n",
       "      <td>0.0</td>\n",
       "      <td>0.0</td>\n",
       "      <td>10.0</td>\n",
       "      <td>40.0</td>\n",
       "    </tr>\n",
       "  </tbody>\n",
       "</table>\n",
       "</div>"
      ],
      "text/plain": [
       "          count       mean        std  min  25%   50%   75%   max\n",
       "AUTHOR                                                           \n",
       "HAMILTON   51.0  11.921569  15.883127  0.0  0.0  10.0  20.0  59.0\n",
       "MADISON    36.0   6.666667  10.141851  0.0  0.0   0.0  10.0  40.0"
      ]
     },
     "execution_count": 10,
     "metadata": {},
     "output_type": "execute_result"
    }
   ],
   "source": [
    "author = df['AUTHOR']  # save a copy of the author column\n",
    "df = df.drop('AUTHOR', axis=1)  # remove the author column\n",
    "df = df.divide(df.sum(axis=0))  # rate per 1 word\n",
    "df *= 1000  # transform from rate per 1 word to rate per 1,000 words\n",
    "df = df.round()  # round to nearest integer\n",
    "df['AUTHOR'] = author  # put author column back\n",
    "df_known = df[df['AUTHOR'].isin({'HAMILTON', 'MADISON'})]\n",
    "\n",
    "df_known.groupby('AUTHOR')['objection'].describe()"
   ]
  },
  {
   "cell_type": "code",
   "execution_count": 13,
   "metadata": {},
   "outputs": [
    {
     "data": {
      "image/png": "[encoded data removed]",
      "text/plain": [
       "<Figure size 432x288 with 1 Axes>"
      ]
     },
     "metadata": {
      "needs_background": "light"
     },
     "output_type": "display_data"
    }
   ],
   "source": [
    "df_known.groupby('AUTHOR')['objection'].plot.hist(\n",
    "    alpha=0.6, range=(0, 35), rwidth=0.9, legend=True);"
   ]
  },
  {
   "cell_type": "code",
   "execution_count": 14,
   "metadata": {},
   "outputs": [
    {
     "name": "stdout",
     "output_type": "stream",
     "text": [
      "Pr(X = 6): 0.1025390625\n",
      "Pr(X = 14): 0.00583648681640625\n"
     ]
    }
   ],
   "source": [
    "import scipy.special\n",
    "\n",
    "def negbinom_pmf(x, alpha, beta):\n",
    "    \"\"\"Negative binomial probability mass function.\"\"\"\n",
    "    # In practice this calculation should be performed on the log\n",
    "    # scale to reduce the risk of numeric underflow.\n",
    "    return (\n",
    "        scipy.special.binom(x + alpha - 1, alpha - 1)\n",
    "        * (beta / (beta + 1)) ** alpha\n",
    "        * (1 / (beta + 1)) ** x\n",
    "    )\n",
    "\n",
    "print('Pr(X = 6):', negbinom_pmf(6, alpha=5, beta=1))\n",
    "print('Pr(X = 14):', negbinom_pmf(14, alpha=5, beta=1))"
   ]
  },
  {
   "cell_type": "code",
   "execution_count": 18,
   "metadata": {},
   "outputs": [
    {
     "data": {
      "text/plain": [
       "count    51.000000\n",
       "mean      7.019608\n",
       "std       4.925404\n",
       "min       1.000000\n",
       "25%       5.000000\n",
       "50%       6.000000\n",
       "75%       9.000000\n",
       "max      34.000000\n",
       "Name: by, dtype: float64"
      ]
     },
     "execution_count": 18,
     "metadata": {},
     "output_type": "execute_result"
    },
    {
     "data": {
      "image/png": "[encoded data removed]",
      "text/plain": [
       "<Figure size 432x288 with 1 Axes>"
      ]
     },
     "metadata": {
      "needs_background": "light"
     },
     "output_type": "display_data"
    }
   ],
   "source": [
    "df_known[df_known['AUTHOR'] == 'HAMILTON']['by'].plot.hist(\n",
    "    range=(0, 35), density=True, rwidth=0.9);\n",
    "df_known[df_known['AUTHOR'] == 'HAMILTON']['by'].describe()"
   ]
  },
  {
   "cell_type": "code",
   "execution_count": 17,
   "metadata": {},
   "outputs": [
    {
     "data": {
      "image/png": "[encoded data removed]",
      "text/plain": [
       "<Figure size 720x576 with 12 Axes>"
      ]
     },
     "metadata": {
      "needs_background": "light"
     },
     "output_type": "display_data"
    }
   ],
   "source": [
    "import itertools\n",
    "import matplotlib.pyplot as plt\n",
    "\n",
    "x = np.arange(60)\n",
    "alphas, betas = [5, 6.5, 12, 16], [1.5, 0.5, 0.7]\n",
    "params = list(itertools.product(alphas, betas))\n",
    "pmfs = [negbinom_pmf(x, alpha, beta) for alpha, beta in params]\n",
    "\n",
    "fig, axes = plt.subplots(4, 3, sharey=True, figsize=(10, 8))\n",
    "axes = axes.flatten()\n",
    "\n",
    "for ax, pmf, (alpha, beta) in zip(axes, pmfs, params):\n",
    "    ax.bar(x, pmf)\n",
    "    ax.set_title(fr'$\\alpha$ = {alpha}, $\\beta$ = {beta}')\n",
    "plt.tight_layout();"
   ]
  },
  {
   "cell_type": "code",
   "execution_count": null,
   "metadata": {},
   "outputs": [],
   "source": []
  },
  {
   "cell_type": "code",
   "execution_count": 19,
   "metadata": {},
   "outputs": [
    {
     "data": {
      "text/plain": [
       "count    10000.00000\n",
       "mean         7.07620\n",
       "std          4.11972\n",
       "min          0.00000\n",
       "25%          4.00000\n",
       "50%          6.00000\n",
       "75%          9.00000\n",
       "max         29.00000\n",
       "dtype: float64"
      ]
     },
     "execution_count": 19,
     "metadata": {},
     "output_type": "execute_result"
    }
   ],
   "source": [
    "def negbinom(alpha, beta, size=None):\n",
    "    \"\"\"Sample from a negative binomial distribution.\n",
    "\n",
    "    Uses `np.random.negative_binomial`, which makes use of a\n",
    "    different parameterization than the one used in the text.\n",
    "    \"\"\"\n",
    "    n = alpha\n",
    "    p = beta / (beta + 1)\n",
    "    return np.random.negative_binomial(n, p, size)\n",
    "\n",
    "samples = negbinom(5, 0.7, 10000)\n",
    "# put samples in a pandas Series in order to calculate summary statistics\n",
    "pd.Series(samples).describe()"
   ]
  },
  {
   "cell_type": "code",
   "execution_count": 20,
   "metadata": {},
   "outputs": [
    {
     "data": {
      "image/png": "[encoded data removed]",
      "text/plain": [
       "<Figure size 432x288 with 1 Axes>"
      ]
     },
     "metadata": {
      "needs_background": "light"
     },
     "output_type": "display_data"
    }
   ],
   "source": [
    "df_known[df_known['AUTHOR'] == 'MADISON']['by'].plot.hist(\n",
    "    density=True, rwidth=0.9, range=(0, 35)  # same scale as with Hamilton\n",
    ");"
   ]
  },
  {
   "cell_type": "code",
   "execution_count": 21,
   "metadata": {},
   "outputs": [
    {
     "data": {
      "image/png": "[encoded data removed]",
      "text/plain": [
       "<Figure size 720x576 with 12 Axes>"
      ]
     },
     "metadata": {
      "needs_background": "light"
     },
     "output_type": "display_data"
    }
   ],
   "source": [
    "x = np.arange(60)\n",
    "alphas, betas = [100, 50, 28, 10], [23, 4, 1.3]\n",
    "params = list(itertools.product(alphas, betas))\n",
    "pmfs = [negbinom_pmf(x, alpha, beta) for alpha, beta in params]\n",
    "\n",
    "fig, axes = plt.subplots(4, 3, sharey=True, figsize=(10, 8))\n",
    "axes = axes.flatten()\n",
    "\n",
    "for ax, pmf, (alpha, beta) in zip(axes, pmfs, params):\n",
    "    ax.bar(x, pmf)\n",
    "    ax.set_title(fr'$\\alpha$ = {alpha}, $\\beta$ = {beta}')\n",
    "plt.tight_layout()"
   ]
  },
  {
   "cell_type": "code",
   "execution_count": 22,
   "metadata": {},
   "outputs": [],
   "source": [
    "authors = ('HAMILTON', 'MADISON')\n",
    "alpha_hamilton, beta_hamilton = 5, 0.7\n",
    "alpha_madison, beta_madison = 50, 4"
   ]
  },
  {
   "cell_type": "code",
   "execution_count": 24,
   "metadata": {},
   "outputs": [
    {
     "data": {
      "image/png": "[encoded data removed]",
      "text/plain": [
       "<Figure size 432x288 with 2 Axes>"
      ]
     },
     "metadata": {
      "needs_background": "light"
     },
     "output_type": "display_data"
    }
   ],
   "source": [
    "# observed\n",
    "fig, axes = plt.subplots(2, 1, sharex=True, sharey=True)\n",
    "df_known.groupby('AUTHOR')['by'].plot.hist(\n",
    "    ax=axes[0], density=True, range=(0, 35), rwidth=0.9, alpha=0.6,\n",
    "    title='Hamilton v. Madison (observed)', legend=True)\n",
    "\n",
    "# model\n",
    "simulations = 10000\n",
    "for author, (alpha, beta) in zip(authors, [(alpha_hamilton, beta_hamilton),\n",
    "                                           (alpha_madison, beta_madison)]):\n",
    "    pd.Series(negbinom(alpha, beta, size=simulations)).plot.hist(\n",
    "        label=author, density=True, rwidth=0.9, alpha=0.6, range=(0, 35), ax=axes[1])\n",
    "axes[1].set_xlim((0, 40))\n",
    "axes[1].set_title('Hamilton v. Madison (model)')\n",
    "axes[1].legend()\n",
    "plt.tight_layout();"
   ]
  },
  {
   "cell_type": "code",
   "execution_count": 25,
   "metadata": {},
   "outputs": [
    {
     "name": "stdout",
     "output_type": "stream",
     "text": [
      "0.021512065936254765\n"
     ]
    }
   ],
   "source": [
    "likelihood_hamilton = negbinom_pmf(14, alpha_hamilton, beta_hamilton)\n",
    "print(likelihood_hamilton)"
   ]
  },
  {
   "cell_type": "code",
   "execution_count": 26,
   "metadata": {},
   "outputs": [
    {
     "name": "stdout",
     "output_type": "stream",
     "text": [
      "0.08742647980678281\n"
     ]
    }
   ],
   "source": [
    "likelihood_madison = negbinom_pmf(14, alpha_madison, beta_madison)\n",
    "print(likelihood_madison)"
   ]
  }
 ],
 "metadata": {
  "interpreter": {
   "hash": "1e5a1de8262f0e9d1487335168cc67bdb3373dee2cd3d5c339b458468358fbed"
  },
  "kernelspec": {
   "display_name": "Python 3.8.6 64-bit ('py38': conda)",
   "name": "python3"
  },
  "language_info": {
   "codemirror_mode": {
    "name": "ipython",
    "version": 3
   },
   "file_extension": ".py",
   "mimetype": "text/x-python",
   "name": "python",
   "nbconvert_exporter": "python",
   "pygments_lexer": "ipython3",
   "version": "3.8.6"
  },
  "orig_nbformat": 4
 },
 "nbformat": 4,
 "nbformat_minor": 2
}
