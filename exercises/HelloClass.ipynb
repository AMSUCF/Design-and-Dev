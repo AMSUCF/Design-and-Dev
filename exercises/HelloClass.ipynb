{
 "cells": [
  {
   "source": [
    "print(\"Hello, World!\")"
   ],
   "cell_type": "code",
   "metadata": {},
   "execution_count": null,
   "outputs": []
  },
  {
   "cell_type": "code",
   "execution_count": 3,
   "metadata": {},
   "outputs": [
    {
     "name": "stdout",
     "output_type": "stream",
     "text": [
      "What do you notice about Python?\n"
     ]
    }
   ],
   "source": [
    "print(\"What do you notice about Python?\")"
   ]
  },
  {
   "cell_type": "code",
   "execution_count": 1,
   "metadata": {},
   "outputs": [
    {
     "output_type": "stream",
     "name": "stdout",
     "text": [
      "Hello, World!\nWhat should I do?\n"
     ]
    }
   ],
   "source": [
    "print(\"Hello, World!\\nWhat should I do?\")"
   ]
  },
  {
   "cell_type": "code",
   "execution_count": 2,
   "metadata": {},
   "outputs": [
    {
     "output_type": "stream",
     "name": "stdout",
     "text": [
      "2 + 2 is 4\n3 * 4 is 12\n100 - 1 is 99\n(33 + 2) / 5 + 11.5 is 18.5\n"
     ]
    }
   ],
   "source": [
    "print(\"2 + 2 is\", 2 + 2)\n",
    "print(\"3 * 4 is\", 3 * 4)\n",
    "print(\"100 - 1 is\", 100 - 1)\n",
    "print(\"(33 + 2) / 5 + 11.5 is\", (33 + 2) / 5 + 11.5)"
   ]
  },
  {
   "cell_type": "code",
   "execution_count": null,
   "metadata": {},
   "outputs": [],
   "source": []
  }
 ],
 "metadata": {
  "kernelspec": {
   "name": "python3",
   "display_name": "Python 3.7.8 64-bit ('base': conda)"
  },
  "language_info": {
   "codemirror_mode": {
    "name": "ipython",
    "version": 3
   },
   "file_extension": ".py",
   "mimetype": "text/x-python",
   "name": "python",
   "nbconvert_exporter": "python",
   "pygments_lexer": "ipython3",
   "version": "3.7.8"
  },
  "interpreter": {
   "hash": "b3ba2566441a7c06988d0923437866b63cedc61552a5af99d1f4fb67d367b25f"
  }
 },
 "nbformat": 4,
 "nbformat_minor": 4
}