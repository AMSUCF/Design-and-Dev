{
 "cells": [
  {
   "cell_type": "code",
   "execution_count": 58,
   "metadata": {},
   "outputs": [],
   "source": [
    "# You'll need to run conda install markovify first\n",
    "# Inspired by: https://colab.research.google.com/drive/1szxfgCr-71Qudoh_erKEESSLOhU9Fhh7?usp=sharing\n",
    "\n",
    "import markovify\n",
    "import random"
   ]
  },
  {
   "cell_type": "code",
   "execution_count": 59,
   "metadata": {},
   "outputs": [
    {
     "name": "stdout",
     "output_type": "stream",
     "text": [
      "alice.txt\n",
      "anne.txt\n",
      "oz.txt\n"
     ]
    }
   ],
   "source": [
    "text = \"\"\n",
    "import os\n",
    "path = 'texts/'\n",
    "with os.scandir(path) as entries:\n",
    "    for entry in entries:\n",
    "        print(entry.name)\n",
    "        f = open(f'{path}\\{entry.name}',encoding='utf-8-sig')\n",
    "        text += f.read()"
   ]
  },
  {
   "cell_type": "code",
   "execution_count": 60,
   "metadata": {},
   "outputs": [
    {
     "name": "stdout",
     "output_type": "stream",
     "text": [
      "I always have a skill and presence of mind perfectly wonderful in a voice outside, and stopped to listen.\n"
     ]
    }
   ],
   "source": [
    "text_model = markovify.Text(text)\n",
    "print( text_model.make_sentence() )"
   ]
  },
  {
   "cell_type": "code",
   "execution_count": 67,
   "metadata": {},
   "outputs": [],
   "source": [
    "def makeChapter(chapter):\n",
    "  chapterText = \"<h2>Chapter \" + str(chapter) + \": \"\n",
    "  chapterText += text_model.make_sentence().title() + \"</h2>\"\n",
    "  chapterText += \"<p>\"\n",
    "  while (len(chapterText.split(\" \")) < 5000):\n",
    "    chapterText += \"<p>\"\n",
    "    for i in range(random.randrange(3,9)):\n",
    "      chapterText += text_model.make_sentence() + \" \"\n",
    "    chapterText += \"<br>\"\n",
    "  chapterText += \"</p><p></p>\"\n",
    "  return chapterText\n"
   ]
  },
  {
   "cell_type": "code",
   "execution_count": 68,
   "metadata": {},
   "outputs": [],
   "source": [
    "with open(\"novel.html\", \"w\", encoding=\"utf-8\", errors=\"ignore\") as f: \n",
    "    f.write(\"<h1>Adventures in Markov</h1>\")\n",
    "f.close()\n",
    "\n",
    "with open (\"novel.html\", \"a\") as f:\n",
    "    for chapter in range(1, 11):\n",
    "        text = \"\"\n",
    "        text = makeChapter(chapter)\n",
    "        f.write(text)\n",
    "f.close()"
   ]
  }
 ],
 "metadata": {
  "interpreter": {
   "hash": "af29365a973779c9560d56e09334d0c9d23342aad144db3e18bca9328584f409"
  },
  "kernelspec": {
   "display_name": "Python 3.8.8 64-bit ('base': conda)",
   "name": "python3"
  },
  "language_info": {
   "codemirror_mode": {
    "name": "ipython",
    "version": 3
   },
   "file_extension": ".py",
   "mimetype": "text/x-python",
   "name": "python",
   "nbconvert_exporter": "python",
   "pygments_lexer": "ipython3",
   "version": "3.8.8"
  },
  "orig_nbformat": 4
 },
 "nbformat": 4,
 "nbformat_minor": 2
}
