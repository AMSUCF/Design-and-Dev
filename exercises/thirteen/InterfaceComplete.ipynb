{
 "cells": [
  {
   "cell_type": "markdown",
   "metadata": {},
   "source": [
    "# Exercise Thirteen: Interface\n",
    "\n",
    "This week, you'll be revisiting a database (such as our example, gathered from Tweepy) and exploring methods for visualizing the data to others. Your exercise should:\n",
    "\n",
    "- Import or collect your data as appropriate, using OS or an API\n",
    "- Make and structure your data in a Pandas dataframe\n",
    "- Use NLTK to tokenize the data, and chart a word cloud\n",
    "- Create a \"wordcloud of interest\" by playing with the visualization methods from the class demo, or others documented in the API\n",
    "- Import Bokeh and chart some aspect of the text: this could be the wordcount, topics, or sentiment analysis as demoed\n",
    "\n",
    "Consider exploring other visualization types in the Bokeh API documentation, and play with the color options and scale of your visualization.\n",
    "\n"
   ]
  }
 ],
 "metadata": {
  "language_info": {
   "name": "python"
  },
  "orig_nbformat": 4
 },
 "nbformat": 4,
 "nbformat_minor": 2
}
