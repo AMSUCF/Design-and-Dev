{
 "cells": [
  {
   "cell_type": "code",
   "execution_count": 9,
   "source": [
    "V = {1, 2, 3, 4, 5}\r\n",
    "E = {(1, 2), (1, 4), (2, 5), (3, 4), (4, 5)}\r\n",
    "\r\n",
    "import networkx as nx\r\n",
    "\r\n",
    "G = nx.Graph()\r\n",
    "G.add_nodes_from(V)\r\n",
    "G.add_edges_from(E)\r\n",
    "\r\n",
    "import matplotlib.pyplot as plt\r\n",
    "\r\n",
    "nx.draw_networkx(G, font_color=\"white\")\r\n",
    "plt.axis('off')"
   ],
   "outputs": [
    {
     "output_type": "execute_result",
     "data": {
      "text/plain": [
       "(-1.0876749487389872,\n",
       " 0.8411739235187325,\n",
       " -0.35529250895243,\n",
       " 0.46481506757941937)"
      ]
     },
     "metadata": {},
     "execution_count": 9
    },
    {
     "output_type": "display_data",
     "data": {
      "image/png": "[encoded data removed]",
      "text/plain": [
       "<Figure size 432x288 with 1 Axes>"
      ]
     },
     "metadata": {}
    }
   ],
   "metadata": {}
  },
  {
   "cell_type": "code",
   "execution_count": null,
   "source": [
    "G_symmetric = nx.Graph()\r\n",
    "G_symmetric.add_edge('Elizabeth Bennet','Fitzwilliam Darcy')\r\n",
    "G_symmetric.add_edge('Elizabeth Bennet','Jane Bennet')\r\n",
    "G_symmetric.add_edge('Elizabeth Bennet','Georgiana Darcy')\r\n",
    "G_symmetric.add_edge('Elizabeth Bennet','Charles Bingley')\r\n",
    "G_symmetric.add_edge('Fitzwilliam Darcy','Jane Bennet')\r\n",
    "G_symmetric.add_edge('Fitzwilliam Darcy','Georgiana Darcy')\r\n",
    "G_symmetric.add_edge('Fitzwilliam Darcy','Charles Bingley')\r\n",
    "G_symmetric.add_edge('Charles Bingley','Jane Bennet')\r\n",
    "\r\n",
    "nx.draw_networkx(G_symmetric)"
   ],
   "outputs": [],
   "metadata": {}
  }
 ],
 "metadata": {
  "orig_nbformat": 4,
  "language_info": {
   "name": "python",
   "version": "3.8.6",
   "mimetype": "text/x-python",
   "codemirror_mode": {
    "name": "ipython",
    "version": 3
   },
   "pygments_lexer": "ipython3",
   "nbconvert_exporter": "python",
   "file_extension": ".py"
  },
  "kernelspec": {
   "name": "python3",
   "display_name": "Python 3.8.6 64-bit ('py38': conda)"
  },
  "interpreter": {
   "hash": "1e5a1de8262f0e9d1487335168cc67bdb3373dee2cd3d5c339b458468358fbed"
  }
 },
 "nbformat": 4,
 "nbformat_minor": 2
}