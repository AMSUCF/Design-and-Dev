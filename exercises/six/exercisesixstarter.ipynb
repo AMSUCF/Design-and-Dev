{
 "cells": [
  {
   "cell_type": "markdown",
   "source": [
    "# Exercise Six: Structured Data with Beautiful Soup and Pandas\r\n",
    "\r\n",
    "This week, you'll be revisiting some of the exercises we started this semester, but with more powerful tools. Instead of pulling raw HTML from a website, you'll use the structured data scraping methods to draw a dictionary of data from the web using Beautiful Soup, then parse and display it using Pandas. \r\n",
    "\r\n",
    "As with last week, fill in the documentation as you go through each stage. Make sure to pick a site with a clear data structure for your analysis."
   ],
   "metadata": {}
  },
  {
   "cell_type": "markdown",
   "source": [
    "## Stage One: Import the libraries and Scrape your Page"
   ],
   "metadata": {}
  },
  {
   "cell_type": "markdown",
   "source": [
    "## Stage Two: Define an Empty Dictionary Reflecting the Data Categories"
   ],
   "metadata": {}
  },
  {
   "cell_type": "markdown",
   "source": [
    "## Stage Three: Loop through and Store Structured Data"
   ],
   "metadata": {}
  },
  {
   "cell_type": "markdown",
   "source": [
    "## Stage Four: Convert from Dictionary to DataFrame and Display"
   ],
   "metadata": {}
  },
  {
   "cell_type": "markdown",
   "source": [
    "## Stage Five: Plot some Aspect of the Data"
   ],
   "metadata": {}
  },
  {
   "cell_type": "markdown",
   "source": [
    "## Bonus Stage: Add On\r\n",
    "\r\n",
    "Try:\r\n",
    "- Iterating through multiple pages (all the pages of a database, for instance)\r\n",
    "- Visualizing using another method from our discussion or readings\r\n",
    "- Storing your data and / or visualization for external analysis"
   ],
   "metadata": {}
  }
 ],
 "metadata": {
  "orig_nbformat": 4,
  "language_info": {
   "name": "python"
  }
 },
 "nbformat": 4,
 "nbformat_minor": 2
}