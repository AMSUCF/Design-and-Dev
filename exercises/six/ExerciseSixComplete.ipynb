{
 "cells": [
  {
   "cell_type": "markdown",
   "source": [
    "# Exercise Six: Structured Data with Beautiful Soup and Pandas\r\n",
    "\r\n",
    "For this example of the completed exercise, I implemented the bonus stage to iterate through multiple pages. Note that this is not the \"final form\" solution - ideally, we would first scrape all the names from the main page in the journalg, and use that to construct all of the URLs to pull a more robust dataset for analysis. Consider trying that expansion on your own. \r\n",
    "\r\n",
    "This example will:\r\n",
    "- Grab the content from several articles in Digital Humanities Quarterly\r\n",
    "- Demonstrate some ways of visualizing this type of data\r\n",
    "- Save a visualization of an interesting element"
   ],
   "metadata": {}
  },
  {
   "cell_type": "markdown",
   "source": [
    "## Stage One - Three: Import the libraries and Scrape Structured Data from Multiple Pages\r\n",
    "\r\n",
    "For the bonus exercise, I've combined stage one with the original stage two and three. This allows for more easily scraping the structured data from each page, and gives us content to visualize and compare. Unlike the reviews, where each page contained multiple elements, this structure treats every page (article) as an entity. "
   ],
   "metadata": {}
  },
  {
   "cell_type": "code",
   "execution_count": 3,
   "source": [
    "#import libraries and set up the scraping target\r\n",
    "import requests\r\n",
    "from bs4 import BeautifulSoup\r\n",
    "import pandas as pd\r\n",
    "\r\n",
    "urls = ['http://digitalhumanities.org/dhq/vol/15/2/000556/000556.html','http://digitalhumanities.org/dhq/vol/15/2/000558/000558.html','http://digitalhumanities.org/dhq/vol/15/2/000547/000547.html','http://digitalhumanities.org/dhq/vol/15/2/000548/000548.html','http://digitalhumanities.org/dhq/vol/15/2/000552/000552.html']\r\n",
    "\r\n",
    "user_agent = {'User-agent': 'Mozilla/5.0'}\r\n",
    "\r\n",
    "# define the empty dictionary based on properties usually included in an article\r\n",
    "\r\n",
    "article_dict = {'title':[], 'first_author':[], 'issue':[], 'abstract':[]}\r\n",
    "\r\n",
    "#scrape the structured content and add to the articles dictionary, looping through each url\r\n",
    "for url in urls:\r\n",
    "    response = requests.get(url, headers = user_agent)\r\n",
    "    article = BeautifulSoup(response.text, 'html.parser')\r\n",
    "\r\n",
    "    article_dict['title'].append(article.find('h1', class_='articleTitle lang en').text)\r\n",
    "    article_dict['first_author'].append(article.find('div', class_='author').find('a').text)\r\n",
    "    article_dict['issue'].append(article.find('div', class_='toolbar').find('a').text)\r\n",
    "    article_dict['abstract'].append(article.find('div', id='abstract').find('p').text)\r\n",
    "print(article_dict['title'])\r\n",
    "print(article_dict['first_author'])\r\n",
    "print(article_dict['issue'])\r\n",
    "print(article_dict['abstract'])"
   ],
   "outputs": [
    {
     "output_type": "stream",
     "name": "stdout",
     "text": [
      "['Why Digital Humanists Should Emphasize Situated Data\\n               over Capta', 'Hands-On Reading: An Experiment in Slow Digital\\n               Reading', 'Towards Hermeneutic Visualization in Digital\\n                    Literary Studies', 'Imagining the Continuously Present Past:\\n                    Visualizing William Faulknerâ\\x80\\x99s Narratives and Digital\\n                        Yoknapatawpha', 'Going Digital: Teaching Crevecoeur in the\\n                    Twenty-First Century']\n",
      "['Matthew Lavin\\n               ', 'Aditi Nafde\\n               ', 'Rabea Kleymann', 'Johannes Burgers', 'Mary Mcaleer Balkun']\n",
      "['2021 15.2', '2021 15.2', '2021 15.2', '2021 15.2', '2021 15.2']\n",
      "[\"This essay looks back on Johanna Druckerâ\\x80\\x99s â\\x80\\x9cHumanities Approaches to Graphical Displayâ\\x80\\x9d (2011) ten years after its initial publication in Digital Humanities Quarterly, in particular Drucker's call to â\\x80\\x9creconceive all data as capta.â\\x80\\x9d Drucker makes several crucial points about humanistic inquiry, but this essay argues against her embrace of capta as a replacement term for data in two ways: (1) furnishing a revised and expanded etymology for the terms data and (2) exploring the benefits of embracing concepts such as situated data rather than capta.\", 'This paper offers a case study of the development of Hands-On Reading (https://hands-on-reading.atnu.ncl.ac.uk/login), a web app that explores the\\n               interconnections between digital reading and writing. The app was created as part of\\n               the AHRC-funded project â\\x80\\x9cManuscripts after Print c.1450-1550:\\n                  Producing and Reading Books during Technological Change,â\\x80\\x9d which ran at\\n               Newcastle University between February 2019 and July 2020. It was initially designed\\n               to enable the project to ask two crucial questions: why does handwriting have an\\n               enduring relevance in a digital age; can a more hands-on approach to reading lead to\\n               a deeper engagement with a digital text? However, as this paper will show, the\\n               creation and testing of this app also raised a number of conceptual issues and\\n               technical challenges of broader relevance to the DH community, relating in particular\\n               to the question of whether reading and writing practices can be translated to the\\n               digital world.Â\\xa0', 'In this article, we present our reflections on hermeneutic data visualizations\\n                    for digital literary studies. Hermeneutic approaches in the digital humanities\\n                    have been rather agnostic about the epistemological premises of hermeneutic\\n                    theory. These can be summarized as (1) differentiation author/text, (2)\\n                    hermeneutic circle and (3) dependency text/recipient. In this article, we\\n                    present the concept of hermeneutic visualization as a means of bridging the gap\\n                    between â\\x80\\x9cclassicâ\\x80\\x9d literary hermeneutics and the emerging\\n                    practice of digital literary hermeneutics. Since data visualization is based on\\n                    epistemological premises stemming from the natural or social sciences, it is not\\n                    well-equipped to meet hermeneutic demands. In this article, we argue that the\\n                    digital humanities can meet hermeneutic demands through a critical interface and\\n                    visualization concept. We discuss four postulates that can be used as guidelines\\n                    and help transform â\\x80\\x9cmore traditionalâ\\x80\\x9d data visualization into\\n                    hermeneutic visualization, while respecting the epistemological foundations of\\n                    hermeneutic theory. We demonstrate the usefulness of the postulates with an\\n                    interactive prototype Stereoscope designed to\\n                    support them.[1]', 'Hosted out of the University of Virginia and funded by the National Endowment for\\n                    the Humanities, Digital Yoknapatawpha is an\\n                    international and collaborative project composed of William Faulkner scholars\\n                    and technologists. Its goal is to create a comprehensive database of all the\\n                    locations, characters, and events in Faulknerâ\\x80\\x99s Yoknapatawpha fictions with the\\n                    aim of visualizing the data through a series of â\\x80\\x9cdeep\\n                        atlasesâ\\x80\\x9d and other displays. This paper traces the development\\n                    cycle of a supplementary narrative structure analysis dashboard that allows\\n                    users to explore the chronology, narrative status, and date range of all of the\\n                    texts set in his mythic county. In doing so, it bridges some of the significant\\n                    gaps between narratological theory and computational methods, opens up a\\n                    conversation about representing narrative data, and suggests some possible\\n                    avenues for research with the dashboard.', 'In this essay, we trace our early and ongoing development in creating a digital\\n                    critical edition of J. Hector St. Jean de CrÃ¨vecoeurâ\\x80\\x99s Letters from an American Farmer. We discuss our shift from print to\\n                    digital publishing technologies and outline the challenges and lessons learned\\n                    as two senior faculty members starting out in the digital humanities. The essay\\n                    not only addresses our process in developing the digital edition but also our\\n                    various experiences piloting the edition with our students. In several brief\\n                    case studies, we analyze the value of integrating print vs. digital mediums into\\n                    the classroom as well as our efforts to transfer editorial control over to our\\n                    students, using the digital to teach them how to become curators of text.']\n"
     ]
    }
   ],
   "metadata": {}
  },
  {
   "cell_type": "markdown",
   "source": [
    "## Stage Four: Convert from Dictionary to DataFrame and Display"
   ],
   "metadata": {}
  },
  {
   "cell_type": "code",
   "execution_count": 10,
   "source": [
    "\r\n",
    "articles = pd.DataFrame(article_dict)\r\n",
    "pd.set_option(\"display.max_colwidth\", None)\r\n",
    "\r\n",
    "articles"
   ],
   "outputs": [
    {
     "output_type": "execute_result",
     "data": {
      "text/html": [
       "<div>\n",
       "<style scoped>\n",
       "    .dataframe tbody tr th:only-of-type {\n",
       "        vertical-align: middle;\n",
       "    }\n",
       "\n",
       "    .dataframe tbody tr th {\n",
       "        vertical-align: top;\n",
       "    }\n",
       "\n",
       "    .dataframe thead th {\n",
       "        text-align: right;\n",
       "    }\n",
       "</style>\n",
       "<table border=\"1\" class=\"dataframe\">\n",
       "  <thead>\n",
       "    <tr style=\"text-align: right;\">\n",
       "      <th></th>\n",
       "      <th>title</th>\n",
       "      <th>first_author</th>\n",
       "      <th>issue</th>\n",
       "      <th>abstract</th>\n",
       "    </tr>\n",
       "  </thead>\n",
       "  <tbody>\n",
       "    <tr>\n",
       "      <th>0</th>\n",
       "      <td>Why Digital Humanists Should Emphasize Situated Data\\n               over Capta</td>\n",
       "      <td>Matthew Lavin\\n</td>\n",
       "      <td>2021 15.2</td>\n",
       "      <td>This essay looks back on Johanna Druckerâs âHumanities Approaches to Graphical Displayâ (2011) ten years after its initial publication in Digital Humanities Quarterly, in particular Drucker's call to âreconceive all data as capta.â Drucker makes several crucial points about humanistic inquiry, but this essay argues against her embrace of capta as a replacement term for data in two ways: (1) furnishing a revised and expanded etymology for the terms data and (2) exploring the benefits of embracing concepts such as situated data rather than capta.</td>\n",
       "    </tr>\n",
       "    <tr>\n",
       "      <th>1</th>\n",
       "      <td>Hands-On Reading: An Experiment in Slow Digital\\n               Reading</td>\n",
       "      <td>Aditi Nafde\\n</td>\n",
       "      <td>2021 15.2</td>\n",
       "      <td>This paper offers a case study of the development of Hands-On Reading (https://hands-on-reading.atnu.ncl.ac.uk/login), a web app that explores the\\n               interconnections between digital reading and writing. The app was created as part of\\n               the AHRC-funded project âManuscripts after Print c.1450-1550:\\n                  Producing and Reading Books during Technological Change,â which ran at\\n               Newcastle University between February 2019 and July 2020. It was initially designed\\n               to enable the project to ask two crucial questions: why does handwriting have an\\n               enduring relevance in a digital age; can a more hands-on approach to reading lead to\\n               a deeper engagement with a digital text? However, as this paper will show, the\\n               creation and testing of this app also raised a number of conceptual issues and\\n               technical challenges of broader relevance to the DH community, relating in particular\\n               to the question of whether reading and writing practices can be translated to the\\n               digital world.Â</td>\n",
       "    </tr>\n",
       "    <tr>\n",
       "      <th>2</th>\n",
       "      <td>Towards Hermeneutic Visualization in Digital\\n                    Literary Studies</td>\n",
       "      <td>Rabea Kleymann</td>\n",
       "      <td>2021 15.2</td>\n",
       "      <td>In this article, we present our reflections on hermeneutic data visualizations\\n                    for digital literary studies. Hermeneutic approaches in the digital humanities\\n                    have been rather agnostic about the epistemological premises of hermeneutic\\n                    theory. These can be summarized as (1) differentiation author/text, (2)\\n                    hermeneutic circle and (3) dependency text/recipient. In this article, we\\n                    present the concept of hermeneutic visualization as a means of bridging the gap\\n                    between âclassicâ literary hermeneutics and the emerging\\n                    practice of digital literary hermeneutics. Since data visualization is based on\\n                    epistemological premises stemming from the natural or social sciences, it is not\\n                    well-equipped to meet hermeneutic demands. In this article, we argue that the\\n                    digital humanities can meet hermeneutic demands through a critical interface and\\n                    visualization concept. We discuss four postulates that can be used as guidelines\\n                    and help transform âmore traditionalâ data visualization into\\n                    hermeneutic visualization, while respecting the epistemological foundations of\\n                    hermeneutic theory. We demonstrate the usefulness of the postulates with an\\n                    interactive prototype Stereoscope designed to\\n                    support them.[1]</td>\n",
       "    </tr>\n",
       "    <tr>\n",
       "      <th>3</th>\n",
       "      <td>Imagining the Continuously Present Past:\\n                    Visualizing William Faulknerâs Narratives and Digital\\n                        Yoknapatawpha</td>\n",
       "      <td>Johannes Burgers</td>\n",
       "      <td>2021 15.2</td>\n",
       "      <td>Hosted out of the University of Virginia and funded by the National Endowment for\\n                    the Humanities, Digital Yoknapatawpha is an\\n                    international and collaborative project composed of William Faulkner scholars\\n                    and technologists. Its goal is to create a comprehensive database of all the\\n                    locations, characters, and events in Faulknerâs Yoknapatawpha fictions with the\\n                    aim of visualizing the data through a series of âdeep\\n                        atlasesâ and other displays. This paper traces the development\\n                    cycle of a supplementary narrative structure analysis dashboard that allows\\n                    users to explore the chronology, narrative status, and date range of all of the\\n                    texts set in his mythic county. In doing so, it bridges some of the significant\\n                    gaps between narratological theory and computational methods, opens up a\\n                    conversation about representing narrative data, and suggests some possible\\n                    avenues for research with the dashboard.</td>\n",
       "    </tr>\n",
       "    <tr>\n",
       "      <th>4</th>\n",
       "      <td>Going Digital: Teaching Crevecoeur in the\\n                    Twenty-First Century</td>\n",
       "      <td>Mary Mcaleer Balkun</td>\n",
       "      <td>2021 15.2</td>\n",
       "      <td>In this essay, we trace our early and ongoing development in creating a digital\\n                    critical edition of J. Hector St. Jean de CrÃ¨vecoeurâs Letters from an American Farmer. We discuss our shift from print to\\n                    digital publishing technologies and outline the challenges and lessons learned\\n                    as two senior faculty members starting out in the digital humanities. The essay\\n                    not only addresses our process in developing the digital edition but also our\\n                    various experiences piloting the edition with our students. In several brief\\n                    case studies, we analyze the value of integrating print vs. digital mediums into\\n                    the classroom as well as our efforts to transfer editorial control over to our\\n                    students, using the digital to teach them how to become curators of text.</td>\n",
       "    </tr>\n",
       "  </tbody>\n",
       "</table>\n",
       "</div>"
      ],
      "text/plain": [
       "                                                                                                                                                          title  \\\n",
       "0                                                                               Why Digital Humanists Should Emphasize Situated Data\\n               over Capta   \n",
       "1                                                                                       Hands-On Reading: An Experiment in Slow Digital\\n               Reading   \n",
       "2                                                                            Towards Hermeneutic Visualization in Digital\\n                    Literary Studies   \n",
       "3  Imagining the Continuously Present Past:\\n                    Visualizing William Faulknerâs Narratives and Digital\\n                        Yoknapatawpha   \n",
       "4                                                                           Going Digital: Teaching Crevecoeur in the\\n                    Twenty-First Century   \n",
       "\n",
       "                     first_author      issue  \\\n",
       "0  Matthew Lavin\\n                 2021 15.2   \n",
       "1    Aditi Nafde\\n                 2021 15.2   \n",
       "2                  Rabea Kleymann  2021 15.2   \n",
       "3                Johannes Burgers  2021 15.2   \n",
       "4             Mary Mcaleer Balkun  2021 15.2   \n",
       "\n",
       "                                                                                                                                                                                                                                                                                                                                                                                                                                                                                                                                                                                                                                                                                                                                                                                                                                                                                                                                                                                                                                                                                                                                                                                                                                                                                                                                                                                                                                                                                                                                                                                                abstract  \n",
       "0                                                                                                                                                                                                                                                                                                                                                                                                                                                                                                                                                                                                                                                                                                                                                                                                                                                                                                                                                                                                                       This essay looks back on Johanna Druckerâs âHumanities Approaches to Graphical Displayâ (2011) ten years after its initial publication in Digital Humanities Quarterly, in particular Drucker's call to âreconceive all data as capta.â Drucker makes several crucial points about humanistic inquiry, but this essay argues against her embrace of capta as a replacement term for data in two ways: (1) furnishing a revised and expanded etymology for the terms data and (2) exploring the benefits of embracing concepts such as situated data rather than capta.  \n",
       "1                                                                                                                                                                                                                                                                                                                                                                                                                   This paper offers a case study of the development of Hands-On Reading (https://hands-on-reading.atnu.ncl.ac.uk/login), a web app that explores the\\n               interconnections between digital reading and writing. The app was created as part of\\n               the AHRC-funded project âManuscripts after Print c.1450-1550:\\n                  Producing and Reading Books during Technological Change,â which ran at\\n               Newcastle University between February 2019 and July 2020. It was initially designed\\n               to enable the project to ask two crucial questions: why does handwriting have an\\n               enduring relevance in a digital age; can a more hands-on approach to reading lead to\\n               a deeper engagement with a digital text? However, as this paper will show, the\\n               creation and testing of this app also raised a number of conceptual issues and\\n               technical challenges of broader relevance to the DH community, relating in particular\\n               to the question of whether reading and writing practices can be translated to the\\n               digital world.Â   \n",
       "2  In this article, we present our reflections on hermeneutic data visualizations\\n                    for digital literary studies. Hermeneutic approaches in the digital humanities\\n                    have been rather agnostic about the epistemological premises of hermeneutic\\n                    theory. These can be summarized as (1) differentiation author/text, (2)\\n                    hermeneutic circle and (3) dependency text/recipient. In this article, we\\n                    present the concept of hermeneutic visualization as a means of bridging the gap\\n                    between âclassicâ literary hermeneutics and the emerging\\n                    practice of digital literary hermeneutics. Since data visualization is based on\\n                    epistemological premises stemming from the natural or social sciences, it is not\\n                    well-equipped to meet hermeneutic demands. In this article, we argue that the\\n                    digital humanities can meet hermeneutic demands through a critical interface and\\n                    visualization concept. We discuss four postulates that can be used as guidelines\\n                    and help transform âmore traditionalâ data visualization into\\n                    hermeneutic visualization, while respecting the epistemological foundations of\\n                    hermeneutic theory. We demonstrate the usefulness of the postulates with an\\n                    interactive prototype Stereoscope designed to\\n                    support them.[1]  \n",
       "3                                                                                                                                                                                                                                                                                                                                                                                           Hosted out of the University of Virginia and funded by the National Endowment for\\n                    the Humanities, Digital Yoknapatawpha is an\\n                    international and collaborative project composed of William Faulkner scholars\\n                    and technologists. Its goal is to create a comprehensive database of all the\\n                    locations, characters, and events in Faulknerâs Yoknapatawpha fictions with the\\n                    aim of visualizing the data through a series of âdeep\\n                        atlasesâ and other displays. This paper traces the development\\n                    cycle of a supplementary narrative structure analysis dashboard that allows\\n                    users to explore the chronology, narrative status, and date range of all of the\\n                    texts set in his mythic county. In doing so, it bridges some of the significant\\n                    gaps between narratological theory and computational methods, opens up a\\n                    conversation about representing narrative data, and suggests some possible\\n                    avenues for research with the dashboard.  \n",
       "4                                                                                                                                                                                                                                                                                                                                                                                                                                                                                                                                                                                                                                              In this essay, we trace our early and ongoing development in creating a digital\\n                    critical edition of J. Hector St. Jean de CrÃ¨vecoeurâs Letters from an American Farmer. We discuss our shift from print to\\n                    digital publishing technologies and outline the challenges and lessons learned\\n                    as two senior faculty members starting out in the digital humanities. The essay\\n                    not only addresses our process in developing the digital edition but also our\\n                    various experiences piloting the edition with our students. In several brief\\n                    case studies, we analyze the value of integrating print vs. digital mediums into\\n                    the classroom as well as our efforts to transfer editorial control over to our\\n                    students, using the digital to teach them how to become curators of text.  "
      ]
     },
     "metadata": {},
     "execution_count": 10
    }
   ],
   "metadata": {}
  },
  {
   "cell_type": "markdown",
   "source": [
    "## Stage Five: Plot some Aspect of the Data"
   ],
   "metadata": {}
  },
  {
   "cell_type": "code",
   "execution_count": 25,
   "source": [
    "from collections import Counter\r\n",
    "\r\n",
    "word_bag = Counter()\r\n",
    "articles['abstract'].str.lower().str.split().apply(word_bag.update)\r\n",
    "print(word_bag)\r\n"
   ],
   "outputs": [
    {
     "output_type": "stream",
     "name": "stdout",
     "text": [
      "Counter({'the': 40, 'of': 28, 'and': 23, 'to': 18, 'in': 17, 'digital': 16, 'a': 16, 'as': 11, 'this': 10, 'hermeneutic': 9, 'data': 8, 'we': 8, 'our': 8, 'for': 5, 'reading': 5, 'can': 5, 'with': 5, 'that': 4, 'between': 4, 'an': 4, 'visualization': 4, 'is': 4, 'essay': 3, 'on': 3, 'humanities': 3, 'all': 3, 'about': 3, 'two': 3, 'paper': 3, 'development': 3, 'app': 3, 'project': 3, 'print': 3, 'it': 3, 'be': 3, 'article,': 3, 'literary': 3, 'epistemological': 3, 'from': 3, 'narrative': 3, 'edition': 3, 'approaches': 2, 'after': 2, 'its': 2, 'particular': 2, 'several': 2, 'crucial': 2, 'but': 2, '(1)': 2, '(2)': 2, 'rather': 2, 'case': 2, 'hands-on': 2, 'was': 2, 'university': 2, 'designed': 2, 'have': 2, 'relevance': 2, 'also': 2, 'challenges': 2, 'present': 2, 'premises': 2, 'theory.': 2, 'not': 2, 'meet': 2, 'through': 2, 'critical': 2, 'discuss': 2, 'postulates': 2, 'into': 2, 'out': 2, 'yoknapatawpha': 2, 'some': 2, 'looks': 1, 'back': 1, 'johanna': 1, 'druckerâ\\x80\\x99s': 1, 'â\\x80\\x9chumanities': 1, 'graphical': 1, 'displayâ\\x80\\x9d': 1, '(2011)': 1, 'ten': 1, 'years': 1, 'initial': 1, 'publication': 1, 'quarterly,': 1, \"drucker's\": 1, 'call': 1, 'â\\x80\\x9creconceive': 1, 'capta.â\\x80\\x9d': 1, 'drucker': 1, 'makes': 1, 'points': 1, 'humanistic': 1, 'inquiry,': 1, 'argues': 1, 'against': 1, 'her': 1, 'embrace': 1, 'capta': 1, 'replacement': 1, 'term': 1, 'ways:': 1, 'furnishing': 1, 'revised': 1, 'expanded': 1, 'etymology': 1, 'terms': 1, 'exploring': 1, 'benefits': 1, 'embracing': 1, 'concepts': 1, 'such': 1, 'situated': 1, 'than': 1, 'capta.': 1, 'offers': 1, 'study': 1, '(https://hands-on-reading.atnu.ncl.ac.uk/login),': 1, 'web': 1, 'explores': 1, 'interconnections': 1, 'writing.': 1, 'created': 1, 'part': 1, 'ahrc-funded': 1, 'â\\x80\\x9cmanuscripts': 1, 'c.1450-1550:': 1, 'producing': 1, 'books': 1, 'during': 1, 'technological': 1, 'change,â\\x80\\x9d': 1, 'which': 1, 'ran': 1, 'at': 1, 'newcastle': 1, 'february': 1, '2019': 1, 'july': 1, '2020.': 1, 'initially': 1, 'enable': 1, 'ask': 1, 'questions:': 1, 'why': 1, 'does': 1, 'handwriting': 1, 'enduring': 1, 'age;': 1, 'more': 1, 'approach': 1, 'lead': 1, 'deeper': 1, 'engagement': 1, 'text?': 1, 'however,': 1, 'will': 1, 'show,': 1, 'creation': 1, 'testing': 1, 'raised': 1, 'number': 1, 'conceptual': 1, 'issues': 1, 'technical': 1, 'broader': 1, 'dh': 1, 'community,': 1, 'relating': 1, 'question': 1, 'whether': 1, 'writing': 1, 'practices': 1, 'translated': 1, 'world.â': 1, 'reflections': 1, 'visualizations': 1, 'studies.': 1, 'been': 1, 'agnostic': 1, 'these': 1, 'summarized': 1, 'differentiation': 1, 'author/text,': 1, 'circle': 1, '(3)': 1, 'dependency': 1, 'text/recipient.': 1, 'concept': 1, 'means': 1, 'bridging': 1, 'gap': 1, 'â\\x80\\x9cclassicâ\\x80\\x9d': 1, 'hermeneutics': 1, 'emerging': 1, 'practice': 1, 'hermeneutics.': 1, 'since': 1, 'based': 1, 'stemming': 1, 'natural': 1, 'or': 1, 'social': 1, 'sciences,': 1, 'well-equipped': 1, 'demands.': 1, 'argue': 1, 'demands': 1, 'interface': 1, 'concept.': 1, 'four': 1, 'used': 1, 'guidelines': 1, 'help': 1, 'transform': 1, 'â\\x80\\x9cmore': 1, 'traditionalâ\\x80\\x9d': 1, 'visualization,': 1, 'while': 1, 'respecting': 1, 'foundations': 1, 'demonstrate': 1, 'usefulness': 1, 'interactive': 1, 'prototype': 1, 'stereoscope': 1, 'support': 1, 'them.[1]': 1, 'hosted': 1, 'virginia': 1, 'funded': 1, 'by': 1, 'national': 1, 'endowment': 1, 'humanities,': 1, 'international': 1, 'collaborative': 1, 'composed': 1, 'william': 1, 'faulkner': 1, 'scholars': 1, 'technologists.': 1, 'goal': 1, 'create': 1, 'comprehensive': 1, 'database': 1, 'locations,': 1, 'characters,': 1, 'events': 1, 'faulknerâ\\x80\\x99s': 1, 'fictions': 1, 'aim': 1, 'visualizing': 1, 'series': 1, 'â\\x80\\x9cdeep': 1, 'atlasesâ\\x80\\x9d': 1, 'other': 1, 'displays.': 1, 'traces': 1, 'cycle': 1, 'supplementary': 1, 'structure': 1, 'analysis': 1, 'dashboard': 1, 'allows': 1, 'users': 1, 'explore': 1, 'chronology,': 1, 'status,': 1, 'date': 1, 'range': 1, 'texts': 1, 'set': 1, 'his': 1, 'mythic': 1, 'county.': 1, 'doing': 1, 'so,': 1, 'bridges': 1, 'significant': 1, 'gaps': 1, 'narratological': 1, 'theory': 1, 'computational': 1, 'methods,': 1, 'opens': 1, 'up': 1, 'conversation': 1, 'representing': 1, 'data,': 1, 'suggests': 1, 'possible': 1, 'avenues': 1, 'research': 1, 'dashboard.': 1, 'essay,': 1, 'trace': 1, 'early': 1, 'ongoing': 1, 'creating': 1, 'j.': 1, 'hector': 1, 'st.': 1, 'jean': 1, 'de': 1, 'crã¨vecoeurâ\\x80\\x99s': 1, 'letters': 1, 'american': 1, 'farmer.': 1, 'shift': 1, 'publishing': 1, 'technologies': 1, 'outline': 1, 'lessons': 1, 'learned': 1, 'senior': 1, 'faculty': 1, 'members': 1, 'starting': 1, 'humanities.': 1, 'only': 1, 'addresses': 1, 'process': 1, 'developing': 1, 'various': 1, 'experiences': 1, 'piloting': 1, 'students.': 1, 'brief': 1, 'studies,': 1, 'analyze': 1, 'value': 1, 'integrating': 1, 'vs.': 1, 'mediums': 1, 'classroom': 1, 'well': 1, 'efforts': 1, 'transfer': 1, 'editorial': 1, 'control': 1, 'over': 1, 'students,': 1, 'using': 1, 'teach': 1, 'them': 1, 'how': 1, 'become': 1, 'curators': 1, 'text.': 1})\n"
     ]
    }
   ],
   "metadata": {}
  },
  {
   "cell_type": "code",
   "execution_count": 33,
   "source": [
    "dh_words, dh_counts = zip(*word_bag.most_common(15))\r\n",
    "\r\n",
    "import matplotlib.pyplot as plt\r\n",
    "plt.barh(dh_words, dh_counts)"
   ],
   "outputs": [
    {
     "output_type": "execute_result",
     "data": {
      "text/plain": [
       "<BarContainer object of 15 artists>"
      ]
     },
     "metadata": {},
     "execution_count": 33
    },
    {
     "output_type": "display_data",
     "data": {
      "image/png": "[encoded data removed]",
      "text/plain": [
       "<Figure size 432x288 with 1 Axes>"
      ]
     },
     "metadata": {
      "needs_background": "light"
     }
    }
   ],
   "metadata": {}
  },
  {
   "cell_type": "markdown",
   "source": [
    "## Bonus Stage: Add On\r\n",
    "\r\n",
    "Try:\r\n",
    "- Iterating through multiple pages (all the pages of a database, for instance)\r\n",
    "- Visualizing using another method from our discussion or readings\r\n",
    "- Storing your data and / or visualization for external analysis"
   ],
   "metadata": {}
  }
 ],
 "metadata": {
  "orig_nbformat": 4,
  "language_info": {
   "name": "python",
   "version": "3.8.6",
   "mimetype": "text/x-python",
   "codemirror_mode": {
    "name": "ipython",
    "version": 3
   },
   "pygments_lexer": "ipython3",
   "nbconvert_exporter": "python",
   "file_extension": ".py"
  },
  "kernelspec": {
   "name": "python3",
   "display_name": "Python 3.8.6 64-bit ('py38': conda)"
  },
  "interpreter": {
   "hash": "1e5a1de8262f0e9d1487335168cc67bdb3373dee2cd3d5c339b458468358fbed"
  }
 },
 "nbformat": 4,
 "nbformat_minor": 2
}