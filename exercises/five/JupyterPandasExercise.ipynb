{
 "cells": [
  {
   "cell_type": "markdown",
   "source": [
    "# Pandas Jupyter Experiment\r\n",
    "\r\n",
    "For this exercise, you will be choosing a dataset that is already available in CSV, using either the links suggested in the module or an external source. Note that the completeness and organization of the CSV will impact your success, so you might want to investigate it using our initial methods before you commit to it and your object of analysis.\r\n",
    "\r\n",
    "I have provided the headings for each section: you can modify them to reflect your final workflow. Here's what you need to accomplish and document:\r\n",
    "\r\n",
    "- Complete the five sequential stages of importing, analyzing, and visualizing your CSV data using the Pandas library. The headers are provided, but you will need to plan out and structure what happens in the code using a combination of our class exercise and the textbook for guidance.\r\n",
    "\r\n",
    "- Create a well-structured, readable documentation for every cell of your Python code. Use Markdown (as demonstrated in this example) and preview the results on GitHub to confirm it works as intended.\r\n",
    "\r\n",
    "- As a bonus exercise, output and save a meaningful, formatted visualization, following the examples in the textbook."
   ],
   "metadata": {}
  },
  {
   "cell_type": "code",
   "execution_count": null,
   "source": [
    "# Stage One: Import Libraries  / Data\r\n",
    "\r\n",
    "(Describe your code briefly here)"
   ],
   "outputs": [],
   "metadata": {}
  },
  {
   "cell_type": "code",
   "execution_count": null,
   "source": [
    "# Stage Two: Display a Summary and Sub-sections of the Data\r\n",
    "\r\n",
    "(Show at least three different views using filtering or value sorting, and describe your choices)"
   ],
   "outputs": [],
   "metadata": {}
  },
  {
   "cell_type": "code",
   "execution_count": null,
   "source": [
    "# Stage Three: Clean Your Data\r\n",
    "\r\n",
    "(Varies by dataset: you might replace missing values with a filler, replace shorthand from the dataset with readable language, and/or delete duplicates)"
   ],
   "outputs": [],
   "metadata": {}
  },
  {
   "cell_type": "code",
   "execution_count": null,
   "source": [
    "# Stage Four: Plot Your Data\r\n",
    "\r\n",
    "(Try at least three different plots - bar, hist, box, area, scatter, hexbin, and pie are all worth viewing - and describe your choices)"
   ],
   "outputs": [],
   "metadata": {}
  },
  {
   "cell_type": "code",
   "execution_count": null,
   "source": [
    "# Stage Five: Draw Comparisons and Make Claims\r\n",
    "\r\n",
    "(Think of all the methods we've used so far - what might you analyze about this dataset? This section can mostly be commentary drawing on what you've found so far)"
   ],
   "outputs": [],
   "metadata": {}
  },
  {
   "cell_type": "code",
   "execution_count": null,
   "source": [
    "# Bonus: Export a Meaningful Visualization\r\n",
    "\r\n",
    "(Use the guidance in the book to get started!)"
   ],
   "outputs": [],
   "metadata": {}
  }
 ],
 "metadata": {
  "orig_nbformat": 4,
  "language_info": {
   "name": "python"
  }
 },
 "nbformat": 4,
 "nbformat_minor": 2
}