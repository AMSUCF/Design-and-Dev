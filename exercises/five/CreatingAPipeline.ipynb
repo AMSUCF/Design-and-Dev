{
 "cells": [
  {
   "cell_type": "code",
   "execution_count": 1,
   "source": [
    "my_urls = [\"https://www.eurogamer.net/articles/2021-09-10-in-defence-of-god-of-wars-thor\",\"https://playcrazygame.com/2021/09/13/ragnarok-explain-the-god-thors-look/\",\"https://codelist.biz/2021/09/13/thor-is-just-as-thick-as-in-avengers-endgame/\"]\r\n",
    "\r\n",
    "starts = [\"Last \", \"The revelation\",\"The secret\"]\r\n",
    "stops = [\"bad joke.\", \"without a defined date.\", \"but also new allies.\"]"
   ],
   "outputs": [],
   "metadata": {}
  },
  {
   "cell_type": "code",
   "execution_count": 2,
   "source": [
    "def collect_reviews(my_urls):\r\n",
    "    contents = \"\"\r\n",
    "    loc = 0\r\n",
    "\r\n",
    "    from urllib.request import urlopen, Request\r\n",
    " \r\n",
    "    for url in my_urls:\r\n",
    "        req = Request(url)\r\n",
    "        req.add_header('User-Agent', 'Mozilla/5.0 (X11; Ubuntu; Linux x86_64; rv:82.0) Gecko/20100101 Firefox/82.0')\r\n",
    "        webContents = urlopen(req).read().decode(\"latin-1\")\r\n",
    "        webContents = str(webContents)\r\n",
    "        \r\n",
    "        cleaned = clean_reviews(webContents, starts[loc], stops[loc])\r\n",
    "        contents += str(cleaned)\r\n",
    "        loc += 1\r\n",
    "\r\n",
    "        contents = contents.replace(\"\\\\n\",\"\")\r\n",
    "        contents = contents.replace(\"\\\\r\",\"\")\r\n",
    "        contents = contents.replace(\"\\\\t\",\"\")\r\n",
    "        \r\n",
    "        \r\n",
    "    return contents\r\n",
    "        "
   ],
   "outputs": [],
   "metadata": {}
  },
  {
   "cell_type": "code",
   "execution_count": 3,
   "source": [
    "def clean_reviews(contents, start, end):\r\n",
    "    startLoc = contents.find(start)\r\n",
    "    endLoc = contents.find(end)\r\n",
    "    contents = contents[startLoc: endLoc]\r\n",
    "\r\n",
    "    inside = 0\r\n",
    "    text = ''\r\n",
    "\r\n",
    "    for char in contents:\r\n",
    "        if char == '<' or char == '{':\r\n",
    "            inside = 1\r\n",
    "        elif (inside == 1 and char == '>' or char == '}'):\r\n",
    "            inside = 0\r\n",
    "        elif inside== 1:\r\n",
    "            continue\r\n",
    "        else: \r\n",
    "            text += char\r\n",
    "\r\n",
    "    return[text]"
   ],
   "outputs": [],
   "metadata": {}
  },
  {
   "cell_type": "code",
   "execution_count": 4,
   "source": [
    "def normalize_text(text):\r\n",
    "    text = text.lower()\r\n",
    "    import re\r\n",
    "    word_bag = re.compile(r'\\W+', re.UNICODE).split(text)\r\n",
    "    return(word_bag)"
   ],
   "outputs": [],
   "metadata": {}
  },
  {
   "cell_type": "code",
   "execution_count": 5,
   "source": [
    "def wordsToDictionary(word_bag):\r\n",
    "    word_freq = [word_bag.count(word) for word in word_bag]\r\n",
    "    return dict(list(zip(word_bag,word_freq)))"
   ],
   "outputs": [],
   "metadata": {}
  },
  {
   "cell_type": "code",
   "execution_count": 16,
   "source": [
    "def sortDictionary(counted_words):\r\n",
    "    aux = [(counted_words[key], key) for key in counted_words]\r\n",
    "    aux.sort()\r\n",
    "    aux.reverse()\r\n",
    "    return aux"
   ],
   "outputs": [],
   "metadata": {}
  },
  {
   "cell_type": "code",
   "execution_count": 10,
   "source": [
    "stopwords = ['a','n','the','my','for','with','login','facebook','functionalityfunction','src','id','parentnode','if','is','was','navigation','main','ul','menu','nav']\r\n",
    "def removeStopWords(word_bag):\r\n",
    "    return [w for w in word_bag if w not in stopwords]"
   ],
   "outputs": [],
   "metadata": {}
  },
  {
   "cell_type": "code",
   "execution_count": 17,
   "source": [
    "collected_text = collect_reviews(my_urls)\r\n",
    "collected_words = normalize_text(collected_text)\r\n",
    "collected_words = removeStopWords(collected_words)\r\n",
    "dict_words = sortDictionary(wordsToDictionary(collected_words))\r\n",
    "\r\n",
    "print(dict_words)\r\n"
   ],
   "outputs": [
    {
     "output_type": "stream",
     "name": "stdout",
     "text": [
      "[(70, 'navigation'), (67, 'main'), (48, 'ul'), (45, 'of'), (41, 'nav'), (40, 'menu'), (29, 'secondary'), (28, 'li'), (27, 'type'), (25, 'input'), (24, 'hover'), (24, 'focus'), (20, 't'), (20, 'has'), (19, 'god'), (18, 'toggle'), (18, 'thor'), (18, 's'), (16, 'war'), (16, 'not'), (16, 'function'), (14, 'to'), (14, 'site'), (14, 'bar'), (13, 'inside'), (13, 'current'), (13, 'class'), (12, 'container'), (12, 'and'), (11, 'var'), (11, 'supports'), (11, 'search'), (11, 'mobile'), (11, 'button'), (10, 'window'), (10, 'sfhover'), (10, 'header'), (10, 'content'), (9, 'wp'), (9, 'look'), (9, 'item'), (9, 'it'), (9, 'in'), (9, 'entry'), (9, '1'), (8, 'widget'), (8, 'block'), (8, '__gatracker'), (7, 'sidebar'), (7, 'inline'), (7, 'fat'), (7, 'by'), (7, '__gtagtracker'), (6, 'width'), (6, 'we'), (6, 'typeof'), (6, 'top'), (6, 'this'), (6, 'r'), (6, 'one'), (6, 'game'), (6, 'dynamic'), (5, 'you'), (5, 'separate'), (5, 'ragnarok'), (5, 'p'), (5, 'on'), (5, 'o'), (5, 'media'), (5, 'max'), (5, 'marvel'), (5, 'last'), (5, 'i'), (5, 'he'), (5, 'footer'), (5, 'first'), (5, 'containers'), (5, 'arguments'), (5, 'active'), (5, '8221'), (5, '8220'), (5, '768px'), (4, 'wrapper'), (4, 'widgets'), (4, 'ua'), (4, 'trailer'), (4, 'title'), (4, 'thunder'), (4, 'sony'), (4, 'see'), (4, 'santa'), (4, 'new'), (4, 'monica'), (4, 'kratos'), (4, 'items'), (4, 'grid'), (4, 'grassetti'), (4, 'from'), (4, 'f'), (4, 'everythingexceptflag'), (4, 'e'), (4, 'control'), (4, 'child'), (4, 'c'), (4, 'button__link'), (4, 'background'), (4, 'area'), (3, 'who'), (3, 'ulul'), (3, 'toggled'), (3, 'that'), (3, 'text'), (3, 'submit'), (3, 'studio'), (3, 'some'), (3, 'reset'), (3, 'raf'), (3, 'played'), (3, 'picture'), (3, 'paging'), (3, 'object'), (3, 'noopfn'), (3, 'newtracker'), (3, 'more'), (3, 'lia'), (3, 'info'), (3, 'img'), (3, 'image'), (3, 'html'), (3, 'group__inner'), (3, 'got'), (3, 'generate'), (3, 'flag'), (3, 'evil'), (3, 'everything'), (3, 'endgame'), (3, 'because'), (3, 'back'), (3, 'avengers'), (3, 'at'), (3, 'align'), (3, 'adsbygoogle'), (3, 'addeventlistener'), (3, '3'), (3, '126226290'), (2, 'â'), (2, 'x80'), (2, 'wpemoji'), (2, 'without'), (2, 'will'), (2, 'which'), (2, 'warrior'), (2, 'village'), (2, 'version'), (2, 'url'), (2, 'unveiled'), (2, 'undefined'), (2, 'twemoji'), (2, 'tweet'), (2, 'true'), (2, 'tracker'), (2, 'too'), (2, 'they'), (2, 'textarea'), (2, 'template'), (2, 'tel'), (2, 'strongman'), (2, 'sort'), (2, 'so'), (2, 'showcase'), (2, 'set'), (2, 'select'), (2, 'seen'), (2, 'say'), (2, 'ryan'), (2, 'rtl'), (2, 'right'), (2, 'reveal'), (2, 'return'), (2, 'resident'), (2, 'real'), (2, 'quads'), (2, 'purchase'), (2, 'point'), (2, 'playstation'), (2, 'password'), (2, 'page'), (2, 'out'), (2, 'other'), (2, 'number'), (2, 'norse'), (2, 'no'), (2, 'much'), (2, 'me'), (2, 'm'), (2, 'looks'), (2, 'like'), (2, 'left'), (2, 'know'), (2, 'just'), (2, 'hurst'), (2, 'hemsworth'), (2, 'have'), (2, 'gtag'), (2, 'get'), (2, 'gameplay'), (2, 'finally'), (2, 'false'), (2, 'even'), (2, 'emoji'), (2, 'email'), (2, 'em_track_user'), (2, 'duke'), (2, 'dropdown'), (2, 'document'), (2, 'did'), (2, 'developer'), (2, 'debate'), (2, 'datalayer'), (2, 'cookies'), (2, 'cookie'), (2, 'concatemoji'), (2, 'com'), (2, 'chris'), (2, 'children'), (2, 'but'), (2, 'boy'), (2, 'body'), (2, 'below'), (2, 'be'), (2, 'author'), (2, 'attachevent'), (2, 'as'), (2, 'args'), (2, 'an'), (2, 'all'), (2, 'alignwide'), (2, 'alignfull'), (2, 'after'), (2, 'above'), (2, '_wpemojisettings'), (2, '__gtagtrackerisoptedout'), (2, '8217'), (2, '0'), (2, ''), (1, 'youtubegod'), (1, 'your'), (1, 'ydr'), (1, 'x9d'), (1, 'x9cgod'), (1, 'wpstats'), (1, 'won'), (1, 'willing'), (1, 'wielding'), (1, 'widget_nav_menu'), (1, 'whim'), (1, 'whether'), (1, 'what'), (1, 'went'), (1, 'watch'), (1, 'wasn'), (1, 'voiced'), (1, 'viral'), (1, 'view'), (1, 'video'), (1, 'very'), (1, 've'), (1, 'v4_id'), (1, 'us'), (1, 'universe'), (1, 'uacute'), (1, 'twitter'), (1, 'tweeted'), (1, 'trycatch'), (1, 'trope'), (1, 'trending'), (1, 'trailerin'), (1, 'trackers'), (1, 'topa'), (1, 'titlea'), (1, 'tired'), (1, 'time'), (1, 'through'), (1, 'thrones'), (1, 'thorwe'), (1, 'thorn'), (1, 'thanos'), (1, 'thank'), (1, 'than'), (1, 'textareabody'), (1, 'targeting'), (1, 'taking'), (1, 'super'), (1, 'strong'), (1, 'squeezed'), (1, 'speaking'), (1, 'space'), (1, 'source'), (1, 'somewhat'), (1, 'smiley'), (1, 'slideout'), (1, 'skull'), (1, 'since'), (1, 'similar'), (1, 'sight'), (1, 'shouldn'), (1, 'shopkeeper'), (1, 'shipping'), (1, 'shaming'), (1, 'settingswhy'), (1, 'september'), (1, 'send'), (1, 'selectinput'), (1, 'secret'), (1, 'screen'), (1, 'scene'), (1, 'saw'), (1, 'savickas'), (1, 'same'), (1, 'sad'), (1, 'rreturn'), (1, 'rounded'), (1, 'rnsson'), (1, 'revelation'), (1, 'responsible'), (1, 'resemblance'), (1, 'replies'), (1, 'remove'), (1, 'red'), (1, 'recent'), (1, 'realism'), (1, 'readycallback'), (1, 'reader'), (1, 'read'), (1, 're'), (1, 'ragnarã'), (1, 'ragnarokâ'), (1, 'rafagrassetti'), (1, 'ra'), (1, 'quads_browser_width'), (1, 'push'), (1, 'published'), (1, 'publication'), (1, 'prototype'), (1, 'profile'), (1, 'professional'), (1, 'products'), (1, 'possesses'), (1, 'portray'), (1, 'popularised'), (1, 'pointed'), (1, 'please'), (1, 'playcrazygame'), (1, 'platform'), (1, 'piss'), (1, 'piercing'), (1, 'pic'), (1, 'people'), (1, 'particularly'), (1, 'parameters'), (1, 'palm'), (1, 'pageview'), (1, 'over'), (1, 'our'), (1, 'ouml'), (1, 'onreadystatechange'), (1, 'only'), (1, 'onload'), (1, 'often'), (1, 'officially'), (1, 'oacute'), (1, 'null'), (1, 'now'), (1, 'noticeable'), (1, 'nordic'), (1, 'night'), (1, 'neglected'), (1, 'negative'), (1, 'nas'), (1, 'name'), (1, 'mythology'), (1, 'muscles'), (1, 'mountain'), (1, 'money'), (1, 'mockery'), (1, 'middle'), (1, 'meta'), (1, 'meant'), (1, 'mead'), (1, 'mdash'), (1, 'mass'), (1, 'marked'), (1, 'mapargs'), (1, 'manage'), (1, 'man'), (1, 'makes'), (1, 'make'), (1, 'made'), (1, 'lot'), (1, 'losing'), (1, 'locationins'), (1, 'loaded'), (1, 'load'), (1, 'likes'), (1, 'life'), (1, 'let'), (1, 'len'), (1, 'laugh'), (1, 'label'), (1, 'l'), (1, 'keeping'), (1, 'k'), (1, 'justifybodyaa'), (1, 'js'), (1, 'j'), (1, 'itemsbutton'), (1, 'itemainput'), (1, 'isn'), (1, 'into'), (1, 'interesting'), (1, 'interested'), (1, 'interactive'), (1, 'instantly'), (1, 'instagram'), (1, 'infoa'), (1, 'immediately'), (1, 'imagine'), (1, 'images'), (1, 'iacute'), (1, 'huge'), (1, 'https'), (1, 'how'), (1, 'hovera'), (1, 'hosted'), (1, 'home_url'), (1, 'hittype'), (1, 'hitobject'), (1, 'hitcallback'), (1, 'hit'), (1, 'high'), (1, 'herring'), (1, 'here'), (1, 'hash_tracking'), (1, 'happy'), (1, 'hand'), (1, 'hammer'), (1, 'hall'), (1, 'hair'), (1, 'haf'), (1, 'h2h3h4h5'), (1, 'guilty'), (1, 'guarantee'), (1, 'greed'), (1, 'grabbing'), (1, 'gone'), (1, 'gods'), (1, 'gluttony'), (1, 'getbyname'), (1, 'getall'), (1, 'gen'), (1, 'gaoptout'), (1, 'games'), (1, 'gamap'), (1, 'gag'), (1, 'ga'), (1, 'fully'), (1, 'free'), (1, 'found'), (1, 'fortnite'), (1, 'focusbutton'), (1, 'float'), (1, 'fit'), (1, 'felt'), (1, 'featured'), (1, 'fatness'), (1, 'far'), (1, 'fantastic'), (1, 'fans'), (1, 'familiar'), (1, 'eyes'), (1, 'external'), (1, 'excerpt'), (1, 'example'), (1, 'exactmetricsdualtracker'), (1, 'exactmetrics_frontend'), (1, 'exact'), (1, 'ex'), (1, 'event'), (1, 'especially'), (1, 'entertainmentthe'), (1, 'enable'), (1, 'em_version'), (1, 'em_no_track_reason'), (1, 'elsewindow'), (1, 'elsereturn'), (1, 'else__gtagtracker'), (1, 'einerd'), (1, 'eddie'), (1, 'during'), (1, 'drunk'), (1, 'drink'), (1, 'domready'), (1, 'domcontentloaded'), (1, 'doing'), (1, 'doesn'), (1, 'does'), (1, 'divine'), (1, 'display'), (1, 'discount'), (1, 'disappointingly'), (1, 'disablestrs'), (1, 'disable'), (1, 'director'), (1, 'difference'), (1, 'description'), (1, 'depressed'), (1, 'delighted'), (1, 'debut'), (1, 'date'), (1, 'dangers'), (1, 'crush'), (1, 'creating'), (1, 'create'), (1, 'could'), (1, 'cool'), (1, 'controversy'), (1, 'containerbody'), (1, 'config'), (1, 'comments'), (1, 'comics'), (1, 'clicking'), (1, 'cinematic'), (1, 'chubby'), (1, 'characters'), (1, 'center'), (1, 'buy'), (1, 'busy'), (1, 'build'), (1, 'books'), (1, 'blue'), (1, 'blonde'), (1, 'blog'), (1, 'bj'), (1, 'big'), (1, 'beside'), (1, 'before'), (1, 'beautiful'), (1, 'bara'), (1, 'awful'), (1, 'atreus'), (1, 'associated'), (1, 'artist'), (1, 'article'), (1, 'art'), (1, 'array'), (1, 'around'), (1, 'arg'), (1, 'are'), (1, 'archive'), (1, 'another'), (1, 'along'), (1, 'adventure'), (1, 'addicted'), (1, 'ad'), (1, 'accompanying'), (1, 'accept'), (1, 'abutton'), (1, 'about'), (1, '__gtagtrackeroptout'), (1, '9'), (1, '75'), (1, '7'), (1, '5hpoctewbj'), (1, '5'), (1, '381'), (1, '363'), (1, '2021'), (1, '2'), (1, '000')]\n"
     ]
    }
   ],
   "metadata": {}
  }
 ],
 "metadata": {
  "orig_nbformat": 4,
  "language_info": {
   "name": "python",
   "version": "3.8.6",
   "mimetype": "text/x-python",
   "codemirror_mode": {
    "name": "ipython",
    "version": 3
   },
   "pygments_lexer": "ipython3",
   "nbconvert_exporter": "python",
   "file_extension": ".py"
  },
  "kernelspec": {
   "name": "python3",
   "display_name": "Python 3.8.6 64-bit ('py38': conda)"
  },
  "interpreter": {
   "hash": "1e5a1de8262f0e9d1487335168cc67bdb3373dee2cd3d5c339b458468358fbed"
  }
 },
 "nbformat": 4,
 "nbformat_minor": 2
}