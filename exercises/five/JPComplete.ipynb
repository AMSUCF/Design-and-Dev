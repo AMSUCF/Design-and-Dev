{
 "cells": [
  {
   "cell_type": "markdown",
   "source": [
    "# Pandas Jupyter: Twitter Analysis Workflow\r\n",
    "\r\n",
    "This example uses our Pandas - Jupyter exercise to set up a Twitter workflow. The workflow modeled assumes that you have exported data first as a CSV after collecting it using TAGS, which is an excellent choice for rapid \"in the moment\" scraping. This demo will use these methods to visualize and analyze the #ReleaseTheSnyderCut hashtag, but it can be converted to any other Twitter collection using the same methods as indicated throughout."
   ],
   "metadata": {}
  },
  {
   "cell_type": "markdown",
   "source": [
    "## Stage One: Import Libraries  / Data\r\n",
    "\r\n",
    "First, we import all necessary libraries. To adjust this workflow, change the contents of the variable file_name below to the name of your CSV file. Make sure the file is co-located (stored in the same folder) with your notebook to use the formatting as written."
   ],
   "metadata": {}
  },
  {
   "cell_type": "code",
   "execution_count": 28,
   "source": [
    "file_name = 'snyder_cut.csv'\r\n",
    "import pandas as pd\r\n",
    "\r\n",
    "df = pd.read_csv(file_name, delimiter=\",\")"
   ],
   "outputs": [
    {
     "output_type": "stream",
     "name": "stderr",
     "text": [
      "C:\\ProgramData\\Anaconda3\\envs\\py38\\lib\\site-packages\\IPython\\core\\interactiveshell.py:3146: DtypeWarning: Columns (5) have mixed types.Specify dtype option on import or set low_memory=False.\n",
      "  has_raised = await self.run_ast_nodes(code_ast.body, cell_name,\n"
     ]
    }
   ],
   "metadata": {}
  },
  {
   "cell_type": "markdown",
   "source": [
    "## Stage Two: Display a Summary and Sub-sections of the Data\r\n",
    "\r\n",
    "Note that your dataset may have errors on importing depending on contents / scale.\r\n",
    "\r\n",
    "This stage displays some summary information, a random sample, and the ten most common usernames in the dataset so we can get a sense of the contents."
   ],
   "metadata": {}
  },
  {
   "cell_type": "code",
   "execution_count": 29,
   "source": [
    "print(df.describe(include='all'))\r\n",
    "\r\n",
    "print(df.sample(10))\r\n",
    "\r\n",
    "print(df['from_user'].value_counts()[:10])"
   ],
   "outputs": [
    {
     "output_type": "stream",
     "name": "stdout",
     "text": [
      "              id_str  from_user  \\\n",
      "count   1.333640e+05     133364   \n",
      "unique           NaN      62302   \n",
      "top              NaN  Josh62488   \n",
      "freq             NaN        819   \n",
      "mean    1.263391e+18        NaN   \n",
      "std     1.756599e+14        NaN   \n",
      "min     1.263200e+18        NaN   \n",
      "25%     1.263238e+18        NaN   \n",
      "50%     1.263324e+18        NaN   \n",
      "75%     1.263516e+18        NaN   \n",
      "max     1.263900e+18        NaN   \n",
      "\n",
      "                                                     text  \\\n",
      "count                                              133364   \n",
      "unique                                              19162   \n",
      "top     RT @ZackSnyder: This is real. #releasethesnyde...   \n",
      "freq                                                22644   \n",
      "mean                                                  NaN   \n",
      "std                                                   NaN   \n",
      "min                                                   NaN   \n",
      "25%                                                   NaN   \n",
      "50%                                                   NaN   \n",
      "75%                                                   NaN   \n",
      "max                                                   NaN   \n",
      "\n",
      "                            created_at                 time  \\\n",
      "count                           133364               133364   \n",
      "unique                           70395                70395   \n",
      "top     Thu May 21 15:31:24 +0000 2020  21/05/2020 01:21:13   \n",
      "freq                                13                   13   \n",
      "mean                               NaN                  NaN   \n",
      "std                                NaN                  NaN   \n",
      "min                                NaN                  NaN   \n",
      "25%                                NaN                  NaN   \n",
      "50%                                NaN                  NaN   \n",
      "75%                                NaN                  NaN   \n",
      "max                                NaN                  NaN   \n",
      "\n",
      "               geo_coordinates  user_lang  in_reply_to_user_id_str  \\\n",
      "count                       26        0.0             3.222000e+03   \n",
      "unique                      21        NaN                      NaN   \n",
      "top     loc: -19.9191,-43.9387        NaN                      NaN   \n",
      "freq                         3        NaN                      NaN   \n",
      "mean                       NaN        NaN             2.230382e+17   \n",
      "std                        NaN        NaN             4.259215e+17   \n",
      "min                        NaN        NaN             7.846000e+03   \n",
      "25%                        NaN        NaN             2.063280e+07   \n",
      "50%                        NaN        NaN             2.612160e+08   \n",
      "75%                        NaN        NaN             3.590900e+09   \n",
      "max                        NaN        NaN             1.263541e+18   \n",
      "\n",
      "       in_reply_to_screen_name  from_user_id_str  in_reply_to_status_id_str  \\\n",
      "count                     3222      1.333640e+05               2.739000e+03   \n",
      "unique                     992               NaN                        NaN   \n",
      "top                     hbomax               NaN                        NaN   \n",
      "freq                       315               NaN                        NaN   \n",
      "mean                       NaN      3.959913e+17               1.262039e+18   \n",
      "std                        NaN      5.057827e+17               1.901166e+16   \n",
      "min                        NaN      2.900000e+03               6.199406e+17   \n",
      "25%                        NaN      3.525013e+08               1.263193e+18   \n",
      "50%                        NaN      2.730349e+09               1.263288e+18   \n",
      "75%                        NaN      9.480896e+17               1.263504e+18   \n",
      "max                        NaN      1.263874e+18               1.263898e+18   \n",
      "\n",
      "                                                   source  \\\n",
      "count                                              133364   \n",
      "unique                                                181   \n",
      "top     <a href=\"http://twitter.com/download/android\" ...   \n",
      "freq                                                63505   \n",
      "mean                                                  NaN   \n",
      "std                                                   NaN   \n",
      "min                                                   NaN   \n",
      "25%                                                   NaN   \n",
      "50%                                                   NaN   \n",
      "75%                                                   NaN   \n",
      "max                                                   NaN   \n",
      "\n",
      "                                        profile_image_url  \\\n",
      "count                                              133364   \n",
      "unique                                              61914   \n",
      "top     http://abs.twimg.com/sticky/default_profile_im...   \n",
      "freq                                                 1756   \n",
      "mean                                                  NaN   \n",
      "std                                                   NaN   \n",
      "min                                                   NaN   \n",
      "25%                                                   NaN   \n",
      "50%                                                   NaN   \n",
      "75%                                                   NaN   \n",
      "max                                                   NaN   \n",
      "\n",
      "        user_followers_count  user_friends_count user_location  \\\n",
      "count           1.323350e+05       133081.000000         83900   \n",
      "unique                   NaN                 NaN         20649   \n",
      "top                      NaN                 NaN   Gotham City   \n",
      "freq                     NaN                 NaN          1140   \n",
      "mean            1.621087e+03          719.921131           NaN   \n",
      "std             4.759492e+04         2059.235007           NaN   \n",
      "min             1.000000e+00            1.000000           NaN   \n",
      "25%             5.800000e+01          148.000000           NaN   \n",
      "50%             1.750000e+02          340.000000           NaN   \n",
      "75%             4.530000e+02          744.000000           NaN   \n",
      "max             6.976399e+06       258073.000000           NaN   \n",
      "\n",
      "                                               status_url  \\\n",
      "count                                              133364   \n",
      "unique                                             133296   \n",
      "top     http://twitter.com/Superfan2016/statuses/12635...   \n",
      "freq                                                    2   \n",
      "mean                                                  NaN   \n",
      "std                                                   NaN   \n",
      "min                                                   NaN   \n",
      "25%                                                   NaN   \n",
      "50%                                                   NaN   \n",
      "75%                                                   NaN   \n",
      "max                                                   NaN   \n",
      "\n",
      "                                             entities_str  \n",
      "count                                              133364  \n",
      "unique                                              18001  \n",
      "top     {\"hashtags\":[{\"text\":\"releasethesnydercut\",\"in...  \n",
      "freq                                                22644  \n",
      "mean                                                  NaN  \n",
      "std                                                   NaN  \n",
      "min                                                   NaN  \n",
      "25%                                                   NaN  \n",
      "50%                                                   NaN  \n",
      "75%                                                   NaN  \n",
      "max                                                   NaN  \n",
      "                     id_str       from_user  \\\n",
      "95352   1263246268525998081   gawdfather007   \n",
      "66876   1263323300081676289   Emiliobonnell   \n",
      "41948   1263498790322962439  computerkind91   \n",
      "92239   1263252461013348359    arcangel1804   \n",
      "5667    1263770511852687360     bnbuniverse   \n",
      "89712   1263257565305208833     Dough_boy91   \n",
      "16329   1263601082434850818          bimski   \n",
      "57140   1263376254658506754    andrewfarago   \n",
      "19069   1263579654402670599    Gabrielcorey   \n",
      "122488  1263209423218114561      _DiasFabio   \n",
      "\n",
      "                                                     text  \\\n",
      "95352   RT @justiceleaguewb: The Snyder Cut is coming ...   \n",
      "66876   RT @ZackSnyder: This is real. #releasethesnyde...   \n",
      "41948   RT @johnmelmoth2: I think your chances are goo...   \n",
      "92239   RT @BatmanvSuperman: The Snyder Cut is coming ...   \n",
      "5667    RT @CinemaBlend: How cool is this?! #ReleaseTh...   \n",
      "89712   RT @robertliefeld: YES!! We did it! #releaseth...   \n",
      "16329   RT @hbomax: The moment we were all waiting for...   \n",
      "57140   RT @getFANDOM: #ReleasetheSnyderCut actually w...   \n",
      "19069   RT @BenAffleck: 2021. @ZackSnyder. @HBOMax. #R...   \n",
      "122488  RT @ZackSnyder: This is real. #releasethesnyde...   \n",
      "\n",
      "                            created_at                 time geo_coordinates  \\\n",
      "95352   Wed May 20 23:12:35 +0000 2020  21/05/2020 00:12:35             NaN   \n",
      "66876   Thu May 21 04:18:40 +0000 2020  21/05/2020 05:18:40             NaN   \n",
      "41948   Thu May 21 15:56:00 +0000 2020  21/05/2020 16:56:00             NaN   \n",
      "92239   Wed May 20 23:37:11 +0000 2020  21/05/2020 00:37:11             NaN   \n",
      "5667    Fri May 22 09:55:44 +0000 2020  22/05/2020 10:55:44             NaN   \n",
      "89712   Wed May 20 23:57:28 +0000 2020  21/05/2020 00:57:28             NaN   \n",
      "16329   Thu May 21 22:42:29 +0000 2020  21/05/2020 23:42:29             NaN   \n",
      "57140   Thu May 21 07:49:06 +0000 2020  21/05/2020 08:49:06             NaN   \n",
      "19069   Thu May 21 21:17:20 +0000 2020  21/05/2020 22:17:20             NaN   \n",
      "122488  Wed May 20 20:46:10 +0000 2020  20/05/2020 21:46:10             NaN   \n",
      "\n",
      "        user_lang  in_reply_to_user_id_str in_reply_to_screen_name  \\\n",
      "95352         NaN                      NaN                     NaN   \n",
      "66876         NaN                      NaN                     NaN   \n",
      "41948         NaN                      NaN                     NaN   \n",
      "92239         NaN                      NaN                     NaN   \n",
      "5667          NaN                      NaN                     NaN   \n",
      "89712         NaN                      NaN                     NaN   \n",
      "16329         NaN                      NaN                     NaN   \n",
      "57140         NaN                      NaN                     NaN   \n",
      "19069         NaN                      NaN                     NaN   \n",
      "122488        NaN                      NaN                     NaN   \n",
      "\n",
      "           from_user_id_str  in_reply_to_status_id_str  \\\n",
      "95352            1225707230                        NaN   \n",
      "66876             299925841                        NaN   \n",
      "41948    973166845128822785                        NaN   \n",
      "92239              70058448                        NaN   \n",
      "5667             2730078987                        NaN   \n",
      "89712             963149484                        NaN   \n",
      "16329              21996866                        NaN   \n",
      "57140             183430677                        NaN   \n",
      "19069   1221392085854670849                        NaN   \n",
      "122488           1644166380                        NaN   \n",
      "\n",
      "                                                   source  \\\n",
      "95352   <a href=\"http://twitter.com/download/android\" ...   \n",
      "66876   <a href=\"http://twitter.com/download/iphone\" r...   \n",
      "41948   <a href=\"https://mobile.twitter.com\" rel=\"nofo...   \n",
      "92239   <a href=\"http://twitter.com/download/android\" ...   \n",
      "5667    <a href=\"https://mobile.twitter.com\" rel=\"nofo...   \n",
      "89712   <a href=\"http://twitter.com/download/iphone\" r...   \n",
      "16329   <a href=\"http://twitter.com/download/android\" ...   \n",
      "57140   <a href=\"https://mobile.twitter.com\" rel=\"nofo...   \n",
      "19069   <a href=\"http://twitter.com/download/android\" ...   \n",
      "122488  <a href=\"http://twitter.com/download/android\" ...   \n",
      "\n",
      "                                        profile_image_url  \\\n",
      "95352   http://pbs.twimg.com/profile_images/1058644897...   \n",
      "66876   http://pbs.twimg.com/profile_images/1163635922...   \n",
      "41948   http://pbs.twimg.com/profile_images/1010176415...   \n",
      "92239   http://pbs.twimg.com/profile_images/1180952803...   \n",
      "5667    http://pbs.twimg.com/profile_images/9187032606...   \n",
      "89712   http://pbs.twimg.com/profile_images/1101948161...   \n",
      "16329   http://pbs.twimg.com/profile_images/1252189180...   \n",
      "57140   http://pbs.twimg.com/profile_images/1218426954...   \n",
      "19069   http://pbs.twimg.com/profile_images/1261356813...   \n",
      "122488  http://pbs.twimg.com/profile_images/1183536898...   \n",
      "\n",
      "        user_followers_count  user_friends_count                user_location  \\\n",
      "95352                   48.0               369.0        Living in Cloud Space   \n",
      "66876                  331.0               485.0  Fredericton, New Brunswick.   \n",
      "41948                  382.0               290.0                          NaN   \n",
      "92239                  164.0               116.0                        Earth   \n",
      "5667                   144.0               342.0                      chicago   \n",
      "89712                  214.0               398.0                          NaN   \n",
      "16329                 1205.0              1050.0           Jakarta, Indonesia   \n",
      "57140                 2510.0              2296.0              California, USA   \n",
      "19069                    NaN               101.0             Blumenau, Brasil   \n",
      "122488                1758.0              4910.0       Rio de Janeiro, Brazil   \n",
      "\n",
      "                                               status_url  \\\n",
      "95352   http://twitter.com/gawdfather007/statuses/1263...   \n",
      "66876   http://twitter.com/Emiliobonnell/statuses/1263...   \n",
      "41948   http://twitter.com/computerkind91/statuses/126...   \n",
      "92239   http://twitter.com/arcangel1804/statuses/12632...   \n",
      "5667    http://twitter.com/bnbuniverse/statuses/126377...   \n",
      "89712   http://twitter.com/Dough_boy91/statuses/126325...   \n",
      "16329   http://twitter.com/bimski/statuses/12636010824...   \n",
      "57140   http://twitter.com/andrewfarago/statuses/12633...   \n",
      "19069   http://twitter.com/Gabrielcorey/statuses/12635...   \n",
      "122488  http://twitter.com/_DiasFabio/statuses/1263209...   \n",
      "\n",
      "                                             entities_str  \n",
      "95352   {\"hashtags\":[{\"text\":\"ReleaseTheSnyderCut\",\"in...  \n",
      "66876   {\"hashtags\":[{\"text\":\"releasethesnydercut\",\"in...  \n",
      "41948   {\"hashtags\":[{\"text\":\"ReleaseTheSnyderCut\",\"in...  \n",
      "92239   {\"hashtags\":[{\"text\":\"ReleaseTheSnyderCut\",\"in...  \n",
      "5667    {\"hashtags\":[{\"text\":\"ReleaseTheSnyderCut\",\"in...  \n",
      "89712   {\"hashtags\":[{\"text\":\"releasethesnydercut\",\"in...  \n",
      "16329   {\"hashtags\":[{\"text\":\"ReleaseTheSnyderCut\",\"in...  \n",
      "57140   {\"hashtags\":[{\"text\":\"ReleasetheSnyderCut\",\"in...  \n",
      "19069   {\"hashtags\":[{\"text\":\"ReleaseTheSnyderCut\",\"in...  \n",
      "122488  {\"hashtags\":[{\"text\":\"releasethesnydercut\",\"in...  \n",
      "Josh62488         819\n",
      "computerkind91    366\n",
      "Dre11202418       361\n",
      "HashStarTweets    358\n",
      "Kayne_Martin      304\n",
      "deadite101        289\n",
      "RetweetDc         287\n",
      "thomas214rtsc     258\n",
      "S1ddhantKumar     254\n",
      "JokerFleck2       253\n",
      "Name: from_user, dtype: int64\n"
     ]
    }
   ],
   "metadata": {}
  },
  {
   "cell_type": "markdown",
   "source": [
    "## Stage Three: Clean Your Data\r\n",
    "\r\n",
    "Cleaning Twitter data is dependent upon your goals: for this example, we first remove all duplicates by text (to avoid the excessive retweets). We then delete several columns that aren't useful for our analysis - this might vary by project, so to edit this, comment out any deletions below that don't apply. "
   ],
   "metadata": {}
  },
  {
   "cell_type": "code",
   "execution_count": 30,
   "source": [
    "# The first section deletes the unwanted columns\r\n",
    "del df['geo_coordinates']\r\n",
    "del df['user_lang']\r\n",
    "del df['in_reply_to_screen_name']\r\n",
    "del df['in_reply_to_status_id_str']\r\n",
    "del df['in_reply_to_user_id_str']\r\n",
    "del df['from_user_id_str']\r\n",
    "del df['source']\r\n",
    "del df['profile_image_url']\r\n",
    "del df['status_url']\r\n",
    "del df['entities_str']\r\n",
    "del df['id_str']"
   ],
   "outputs": [],
   "metadata": {}
  },
  {
   "cell_type": "code",
   "execution_count": 31,
   "source": [
    "# The second section drops duplicates and replaces empty text\r\n",
    "\r\n",
    "df = df.drop_duplicates('text')\r\n",
    "df.fillna('Not available')"
   ],
   "outputs": [
    {
     "output_type": "execute_result",
     "data": {
      "text/html": [
       "<div>\n",
       "<style scoped>\n",
       "    .dataframe tbody tr th:only-of-type {\n",
       "        vertical-align: middle;\n",
       "    }\n",
       "\n",
       "    .dataframe tbody tr th {\n",
       "        vertical-align: top;\n",
       "    }\n",
       "\n",
       "    .dataframe thead th {\n",
       "        text-align: right;\n",
       "    }\n",
       "</style>\n",
       "<table border=\"1\" class=\"dataframe\">\n",
       "  <thead>\n",
       "    <tr style=\"text-align: right;\">\n",
       "      <th></th>\n",
       "      <th>from_user</th>\n",
       "      <th>text</th>\n",
       "      <th>created_at</th>\n",
       "      <th>time</th>\n",
       "      <th>user_followers_count</th>\n",
       "      <th>user_friends_count</th>\n",
       "      <th>user_location</th>\n",
       "    </tr>\n",
       "  </thead>\n",
       "  <tbody>\n",
       "    <tr>\n",
       "      <th>0</th>\n",
       "      <td>jOsUeNaTa</td>\n",
       "      <td>RT @justiceleaguewb: The Snyder Cut is coming ...</td>\n",
       "      <td>Fri May 22 18:30:39 +0000 2020</td>\n",
       "      <td>22/05/2020 19:30:39</td>\n",
       "      <td>267</td>\n",
       "      <td>844</td>\n",
       "      <td>Guatemala</td>\n",
       "    </tr>\n",
       "    <tr>\n",
       "      <th>1</th>\n",
       "      <td>RetweetDc</td>\n",
       "      <td>RT @MnMJax98: #ReleaseTheSnyderCut fam, I have...</td>\n",
       "      <td>Fri May 22 18:30:19 +0000 2020</td>\n",
       "      <td>22/05/2020 19:30:19</td>\n",
       "      <td>1527</td>\n",
       "      <td>39</td>\n",
       "      <td>Gotham City</td>\n",
       "    </tr>\n",
       "    <tr>\n",
       "      <th>2</th>\n",
       "      <td>MnMJax98</td>\n",
       "      <td>#ReleaseTheSnyderCut fam, I have an idea and i...</td>\n",
       "      <td>Fri May 22 18:30:15 +0000 2020</td>\n",
       "      <td>22/05/2020 19:30:15</td>\n",
       "      <td>397</td>\n",
       "      <td>811</td>\n",
       "      <td>British Columbia, Canada</td>\n",
       "    </tr>\n",
       "    <tr>\n",
       "      <th>3</th>\n",
       "      <td>Turykun</td>\n",
       "      <td>RT @ZackSnyder: This is real. #releasethesnyde...</td>\n",
       "      <td>Fri May 22 18:30:04 +0000 2020</td>\n",
       "      <td>22/05/2020 19:30:04</td>\n",
       "      <td>142</td>\n",
       "      <td>227</td>\n",
       "      <td>Not available</td>\n",
       "    </tr>\n",
       "    <tr>\n",
       "      <th>4</th>\n",
       "      <td>Andi_H3ld</td>\n",
       "      <td>RT @87anoopmenon: For all to know how the #Rel...</td>\n",
       "      <td>Fri May 22 18:30:00 +0000 2020</td>\n",
       "      <td>22/05/2020 19:30:00</td>\n",
       "      <td>478</td>\n",
       "      <td>1276</td>\n",
       "      <td>Frankfurt am Main, Deutschland</td>\n",
       "    </tr>\n",
       "    <tr>\n",
       "      <th>...</th>\n",
       "      <td>...</td>\n",
       "      <td>...</td>\n",
       "      <td>...</td>\n",
       "      <td>...</td>\n",
       "      <td>...</td>\n",
       "      <td>...</td>\n",
       "      <td>...</td>\n",
       "    </tr>\n",
       "    <tr>\n",
       "      <th>133309</th>\n",
       "      <td>deadite101</td>\n",
       "      <td>RT @GeoffSheeran: @ZackSnyder @hbomax I’m read...</td>\n",
       "      <td>Wed May 20 20:08:14 +0000 2020</td>\n",
       "      <td>20/05/2020 21:08:14</td>\n",
       "      <td>384</td>\n",
       "      <td>442</td>\n",
       "      <td>ÜT: 36.75323,-108.21687</td>\n",
       "    </tr>\n",
       "    <tr>\n",
       "      <th>133339</th>\n",
       "      <td>CK61938</td>\n",
       "      <td>I went and made a video:\\n\\nhttps://t.co/FsRRV...</td>\n",
       "      <td>Wed May 20 20:08:08 +0000 2020</td>\n",
       "      <td>20/05/2020 21:08:08</td>\n",
       "      <td>1034</td>\n",
       "      <td>280</td>\n",
       "      <td>Newcastle Upon Tyne, England</td>\n",
       "    </tr>\n",
       "    <tr>\n",
       "      <th>133340</th>\n",
       "      <td>gameinfinite10</td>\n",
       "      <td>*breaking* The Snyder Cut is HAPPENING! It is ...</td>\n",
       "      <td>Wed May 20 20:08:08 +0000 2020</td>\n",
       "      <td>20/05/2020 21:08:08</td>\n",
       "      <td>841</td>\n",
       "      <td>2978</td>\n",
       "      <td>Milwaukee, WI</td>\n",
       "    </tr>\n",
       "    <tr>\n",
       "      <th>133343</th>\n",
       "      <td>affleck_bruce</td>\n",
       "      <td>Can't believe I'm gonna see this badass Batman...</td>\n",
       "      <td>Wed May 20 20:08:06 +0000 2020</td>\n",
       "      <td>20/05/2020 21:08:06</td>\n",
       "      <td>156</td>\n",
       "      <td>234</td>\n",
       "      <td>Karachi, Pakistan</td>\n",
       "    </tr>\n",
       "    <tr>\n",
       "      <th>133362</th>\n",
       "      <td>Santa_Evita</td>\n",
       "      <td>2020 o ano da justiça e não é a toa #ReleaseTh...</td>\n",
       "      <td>Wed May 20 20:08:03 +0000 2020</td>\n",
       "      <td>20/05/2020 21:08:03</td>\n",
       "      <td>603</td>\n",
       "      <td>1939</td>\n",
       "      <td>Beach City</td>\n",
       "    </tr>\n",
       "  </tbody>\n",
       "</table>\n",
       "<p>19162 rows × 7 columns</p>\n",
       "</div>"
      ],
      "text/plain": [
       "             from_user                                               text  \\\n",
       "0            jOsUeNaTa  RT @justiceleaguewb: The Snyder Cut is coming ...   \n",
       "1            RetweetDc  RT @MnMJax98: #ReleaseTheSnyderCut fam, I have...   \n",
       "2             MnMJax98  #ReleaseTheSnyderCut fam, I have an idea and i...   \n",
       "3              Turykun  RT @ZackSnyder: This is real. #releasethesnyde...   \n",
       "4            Andi_H3ld  RT @87anoopmenon: For all to know how the #Rel...   \n",
       "...                ...                                                ...   \n",
       "133309      deadite101  RT @GeoffSheeran: @ZackSnyder @hbomax I’m read...   \n",
       "133339         CK61938  I went and made a video:\\n\\nhttps://t.co/FsRRV...   \n",
       "133340  gameinfinite10  *breaking* The Snyder Cut is HAPPENING! It is ...   \n",
       "133343   affleck_bruce  Can't believe I'm gonna see this badass Batman...   \n",
       "133362     Santa_Evita  2020 o ano da justiça e não é a toa #ReleaseTh...   \n",
       "\n",
       "                            created_at                 time  \\\n",
       "0       Fri May 22 18:30:39 +0000 2020  22/05/2020 19:30:39   \n",
       "1       Fri May 22 18:30:19 +0000 2020  22/05/2020 19:30:19   \n",
       "2       Fri May 22 18:30:15 +0000 2020  22/05/2020 19:30:15   \n",
       "3       Fri May 22 18:30:04 +0000 2020  22/05/2020 19:30:04   \n",
       "4       Fri May 22 18:30:00 +0000 2020  22/05/2020 19:30:00   \n",
       "...                                ...                  ...   \n",
       "133309  Wed May 20 20:08:14 +0000 2020  20/05/2020 21:08:14   \n",
       "133339  Wed May 20 20:08:08 +0000 2020  20/05/2020 21:08:08   \n",
       "133340  Wed May 20 20:08:08 +0000 2020  20/05/2020 21:08:08   \n",
       "133343  Wed May 20 20:08:06 +0000 2020  20/05/2020 21:08:06   \n",
       "133362  Wed May 20 20:08:03 +0000 2020  20/05/2020 21:08:03   \n",
       "\n",
       "       user_followers_count user_friends_count                   user_location  \n",
       "0                       267                844                       Guatemala  \n",
       "1                      1527                 39                     Gotham City  \n",
       "2                       397                811        British Columbia, Canada  \n",
       "3                       142                227                   Not available  \n",
       "4                       478               1276  Frankfurt am Main, Deutschland  \n",
       "...                     ...                ...                             ...  \n",
       "133309                  384                442         ÜT: 36.75323,-108.21687  \n",
       "133339                 1034                280    Newcastle Upon Tyne, England  \n",
       "133340                  841               2978                   Milwaukee, WI  \n",
       "133343                  156                234               Karachi, Pakistan  \n",
       "133362                  603               1939                      Beach City  \n",
       "\n",
       "[19162 rows x 7 columns]"
      ]
     },
     "metadata": {},
     "execution_count": 31
    }
   ],
   "metadata": {}
  },
  {
   "cell_type": "markdown",
   "source": [
    "## Stage Four: Plot Your Data\r\n",
    "\r\n",
    "This notebook includes three visualizations that should work with any dataset.\r\n",
    "\r\n",
    "To handle larger datasets with multiple days of date, the first example plots over time, but first truncates each timestamp to remove minutes and seconds. \r\n",
    "\r\n",
    "The second example uses extraction to draw any element with the structure \"#text\" out of our text. We can then plot the values of common hashtags: excluding the hashtag at 0 is an easy way to remove the original search query.\r\n",
    "\r\n",
    "The final example uses a pie chart (which is rarely as useful) to demonstrate relative activity of users. This is a good quick way to see how much a particular conversation relies upon a few participants or amplifiers."
   ],
   "metadata": {}
  },
  {
   "cell_type": "code",
   "execution_count": 42,
   "source": [
    "# First Visualization: Data Over Time (Simplified to Hour)\r\n",
    " \r\n",
    "df['tweet_hour'] = df['time']\r\n",
    "df['tweet_hour'] = df['tweet_hour'].str.slice(0, 13)\r\n",
    "\r\n",
    "print(df['tweet_hour'][:5])\r\n",
    "\r\n",
    "df['tweet_hour'].value_counts().plot(kind='line', title = 'Tweet Volume by Hour')"
   ],
   "outputs": [
    {
     "output_type": "stream",
     "name": "stdout",
     "text": [
      "0    22/05/2020 19\n",
      "1    22/05/2020 19\n",
      "2    22/05/2020 19\n",
      "3    22/05/2020 19\n",
      "4    22/05/2020 19\n",
      "Name: tweet_hour, dtype: object\n"
     ]
    },
    {
     "output_type": "execute_result",
     "data": {
      "text/plain": [
       "<AxesSubplot:title={'center':'Tweet Volume by Hour'}>"
      ]
     },
     "metadata": {},
     "execution_count": 42
    },
    {
     "output_type": "display_data",
     "data": {
      "image/png": "[encoded data removed]",
      "text/plain": [
       "<Figure size 432x288 with 1 Axes>"
      ]
     },
     "metadata": {
      "needs_background": "light"
     }
    }
   ],
   "metadata": {}
  },
  {
   "cell_type": "code",
   "execution_count": 45,
   "source": [
    "# Second Visualization : Hashtags in the Data\r\n",
    "\r\n",
    "hashtags = df['text'].str.extractall(r'(\\#\\w+)')[0].value_counts()\r\n",
    "\r\n",
    "hashtags[1:10].plot(kind='barh', title='Top Hashtags')\r\n"
   ],
   "outputs": [
    {
     "output_type": "execute_result",
     "data": {
      "text/plain": [
       "<AxesSubplot:title={'center':'Top Hashtags'}>"
      ]
     },
     "metadata": {},
     "execution_count": 45
    },
    {
     "output_type": "display_data",
     "data": {
      "image/png": "[encoded data removed]",
      "text/plain": [
       "<Figure size 432x288 with 1 Axes>"
      ]
     },
     "metadata": {
      "needs_background": "light"
     }
    }
   ],
   "metadata": {}
  },
  {
   "cell_type": "code",
   "execution_count": 46,
   "source": [
    "# Third Visualization: Users\r\n",
    "\r\n",
    "df['from_user'][0:30].value_counts().plot(kind='pie', title='Top Users')"
   ],
   "outputs": [
    {
     "output_type": "execute_result",
     "data": {
      "text/plain": [
       "<AxesSubplot:title={'center':'Top Users'}, ylabel='from_user'>"
      ]
     },
     "metadata": {},
     "execution_count": 46
    },
    {
     "output_type": "display_data",
     "data": {
      "image/png": "[encoded data removed]",
      "text/plain": [
       "<Figure size 432x288 with 1 Axes>"
      ]
     },
     "metadata": {}
    }
   ],
   "metadata": {}
  },
  {
   "cell_type": "markdown",
   "source": [
    "## Stage Five: Draw Comparisons and Make Claims\r\n",
    "\r\n",
    "While I won't analyze this dataset here, try borrowing these methods and playing with the parameters to see what you can find!"
   ],
   "metadata": {}
  },
  {
   "cell_type": "markdown",
   "source": [
    "# Bonus: Export a Meaningful Visualization\r\n",
    "\r\n",
    "This requires two tools: first, we have to grab the figure itself using get_figure from whichever visualization has been most successful.\r\n",
    "\r\n",
    "Next, we can use savefig for a range of filetypes: note that long text will get cut off without using the parameters below."
   ],
   "metadata": {}
  },
  {
   "cell_type": "code",
   "execution_count": 49,
   "source": [
    "fig = hashtags[1:10].plot(kind='barh', title='Top Hashtags').get_figure()\r\n",
    "fig.savefig('hashtags.png', dpi=300, bbox_inches='tight')"
   ],
   "outputs": [
    {
     "output_type": "display_data",
     "data": {
      "image/png": "[encoded data removed]",
      "text/plain": [
       "<Figure size 432x288 with 1 Axes>"
      ]
     },
     "metadata": {
      "needs_background": "light"
     }
    }
   ],
   "metadata": {}
  }
 ],
 "metadata": {
  "orig_nbformat": 4,
  "language_info": {
   "name": "python",
   "version": "3.8.6",
   "mimetype": "text/x-python",
   "codemirror_mode": {
    "name": "ipython",
    "version": 3
   },
   "pygments_lexer": "ipython3",
   "nbconvert_exporter": "python",
   "file_extension": ".py"
  },
  "kernelspec": {
   "name": "python3",
   "display_name": "Python 3.8.6 64-bit ('py38': conda)"
  },
  "interpreter": {
   "hash": "1e5a1de8262f0e9d1487335168cc67bdb3373dee2cd3d5c339b458468358fbed"
  }
 },
 "nbformat": 4,
 "nbformat_minor": 2
}