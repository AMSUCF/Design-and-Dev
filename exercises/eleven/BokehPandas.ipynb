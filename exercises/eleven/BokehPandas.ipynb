{
 "cells": [
  {
   "cell_type": "code",
   "execution_count": 1,
   "metadata": {},
   "outputs": [],
   "source": [
    "from bokeh.plotting import figure, show, output_file, save\n",
    "from bokeh.io import output_notebook\n",
    "\n",
    "#file for output\n",
    "output_file(filename=\"amazon.html\", title=\"Amazon CSV Visualization\")"
   ]
  },
  {
   "cell_type": "code",
   "execution_count": 2,
   "metadata": {},
   "outputs": [
    {
     "name": "stdout",
     "output_type": "stream",
     "text": [
      "Name            object\n",
      "Author          object\n",
      "User Rating    float64\n",
      "Reviews          int64\n",
      "Price            int64\n",
      "Year             int64\n",
      "Genre           object\n",
      "dtype: object\n"
     ]
    }
   ],
   "source": [
    "import pandas as pd\n",
    "df = pd.read_csv('amazon.csv')\n",
    "print(df.dtypes)"
   ]
  },
  {
   "cell_type": "code",
   "execution_count": 16,
   "metadata": {},
   "outputs": [],
   "source": [
    "from bokeh.models import ColumnDataSource\n",
    "from bokeh.models.tools import HoverTool\n",
    "from bokeh.io import output_notebook"
   ]
  },
  {
   "cell_type": "code",
   "execution_count": 17,
   "metadata": {},
   "outputs": [],
   "source": [
    "sample = df.sample(100)\n",
    "source = ColumnDataSource(sample)\n",
    "\n",
    "p = figure()\n",
    "p.circle(x='Price', y='User Rating',\n",
    "         source=source,\n",
    "         size=10, color='green')\n",
    "\n",
    "p.title.text = 'Amazon Bestsellers'\n",
    "p.xaxis.axis_label = 'Price'\n",
    "p.yaxis.axis_label = 'User Rating'"
   ]
  },
  {
   "cell_type": "code",
   "execution_count": 19,
   "metadata": {},
   "outputs": [
    {
     "data": {
      "text/html": [
       "\n",
       "    <div class=\"bk-root\">\n",
       "        <a href=\"https://bokeh.org\" target=\"_blank\" class=\"bk-logo bk-logo-small bk-logo-notebook\"></a>\n",
       "        <span id=\"1776\">Loading BokehJS ...</span>\n",
       "    </div>"
      ]
     },
     "metadata": {},
     "output_type": "display_data"
    },
    {
     "data": {
      "application/javascript": "\n(function(root) {\n  function now() {\n    return new Date();\n  }\n\n  var force = true;\n\n  if (typeof root._bokeh_onload_callbacks === \"undefined\" || force === true) {\n    root._bokeh_onload_callbacks = [];\n    root._bokeh_is_loading = undefined;\n  }\n\n  var JS_MIME_TYPE = 'application/javascript';\n  var HTML_MIME_TYPE = 'text/html';\n  var EXEC_MIME_TYPE = 'application/vnd.bokehjs_exec.v0+json';\n  var CLASS_NAME = 'output_bokeh rendered_html';\n\n  /**\n   * Render data to the DOM node\n   */\n  function render(props, node) {\n    var script = document.createElement(\"script\");\n    node.appendChild(script);\n  }\n\n  /**\n   * Handle when an output is cleared or removed\n   */\n  function handleClearOutput(event, handle) {\n    var cell = handle.cell;\n\n    var id = cell.output_area._bokeh_element_id;\n    var server_id = cell.output_area._bokeh_server_id;\n    // Clean up Bokeh references\n    if (id != null && id in Bokeh.index) {\n      Bokeh.index[id].model.document.clear();\n      delete Bokeh.index[id];\n    }\n\n    if (server_id !== undefined) {\n      // Clean up Bokeh references\n      var cmd = \"from bokeh.io.state import curstate; print(curstate().uuid_to_server['\" + server_id + \"'].get_sessions()[0].document.roots[0]._id)\";\n      cell.notebook.kernel.execute(cmd, {\n        iopub: {\n          output: function(msg) {\n            var id = msg.content.text.trim();\n            if (id in Bokeh.index) {\n              Bokeh.index[id].model.document.clear();\n              delete Bokeh.index[id];\n            }\n          }\n        }\n      });\n      // Destroy server and session\n      var cmd = \"import bokeh.io.notebook as ion; ion.destroy_server('\" + server_id + \"')\";\n      cell.notebook.kernel.execute(cmd);\n    }\n  }\n\n  /**\n   * Handle when a new output is added\n   */\n  function handleAddOutput(event, handle) {\n    var output_area = handle.output_area;\n    var output = handle.output;\n\n    // limit handleAddOutput to display_data with EXEC_MIME_TYPE content only\n    if ((output.output_type != \"display_data\") || (!Object.prototype.hasOwnProperty.call(output.data, EXEC_MIME_TYPE))) {\n      return\n    }\n\n    var toinsert = output_area.element.find(\".\" + CLASS_NAME.split(' ')[0]);\n\n    if (output.metadata[EXEC_MIME_TYPE][\"id\"] !== undefined) {\n      toinsert[toinsert.length - 1].firstChild.textContent = output.data[JS_MIME_TYPE];\n      // store reference to embed id on output_area\n      output_area._bokeh_element_id = output.metadata[EXEC_MIME_TYPE][\"id\"];\n    }\n    if (output.metadata[EXEC_MIME_TYPE][\"server_id\"] !== undefined) {\n      var bk_div = document.createElement(\"div\");\n      bk_div.innerHTML = output.data[HTML_MIME_TYPE];\n      var script_attrs = bk_div.children[0].attributes;\n      for (var i = 0; i < script_attrs.length; i++) {\n        toinsert[toinsert.length - 1].firstChild.setAttribute(script_attrs[i].name, script_attrs[i].value);\n        toinsert[toinsert.length - 1].firstChild.textContent = bk_div.children[0].textContent\n      }\n      // store reference to server id on output_area\n      output_area._bokeh_server_id = output.metadata[EXEC_MIME_TYPE][\"server_id\"];\n    }\n  }\n\n  function register_renderer(events, OutputArea) {\n\n    function append_mime(data, metadata, element) {\n      // create a DOM node to render to\n      var toinsert = this.create_output_subarea(\n        metadata,\n        CLASS_NAME,\n        EXEC_MIME_TYPE\n      );\n      this.keyboard_manager.register_events(toinsert);\n      // Render to node\n      var props = {data: data, metadata: metadata[EXEC_MIME_TYPE]};\n      render(props, toinsert[toinsert.length - 1]);\n      element.append(toinsert);\n      return toinsert\n    }\n\n    /* Handle when an output is cleared or removed */\n    events.on('clear_output.CodeCell', handleClearOutput);\n    events.on('delete.Cell', handleClearOutput);\n\n    /* Handle when a new output is added */\n    events.on('output_added.OutputArea', handleAddOutput);\n\n    /**\n     * Register the mime type and append_mime function with output_area\n     */\n    OutputArea.prototype.register_mime_type(EXEC_MIME_TYPE, append_mime, {\n      /* Is output safe? */\n      safe: true,\n      /* Index of renderer in `output_area.display_order` */\n      index: 0\n    });\n  }\n\n  // register the mime type if in Jupyter Notebook environment and previously unregistered\n  if (root.Jupyter !== undefined) {\n    var events = require('base/js/events');\n    var OutputArea = require('notebook/js/outputarea').OutputArea;\n\n    if (OutputArea.prototype.mime_types().indexOf(EXEC_MIME_TYPE) == -1) {\n      register_renderer(events, OutputArea);\n    }\n  }\n\n  \n  if (typeof (root._bokeh_timeout) === \"undefined\" || force === true) {\n    root._bokeh_timeout = Date.now() + 5000;\n    root._bokeh_failed_load = false;\n  }\n\n  var NB_LOAD_WARNING = {'data': {'text/html':\n     \"<div style='background-color: #fdd'>\\n\"+\n     \"<p>\\n\"+\n     \"BokehJS does not appear to have successfully loaded. If loading BokehJS from CDN, this \\n\"+\n     \"may be due to a slow or bad network connection. Possible fixes:\\n\"+\n     \"</p>\\n\"+\n     \"<ul>\\n\"+\n     \"<li>re-rerun `output_notebook()` to attempt to load from CDN again, or</li>\\n\"+\n     \"<li>use INLINE resources instead, as so:</li>\\n\"+\n     \"</ul>\\n\"+\n     \"<code>\\n\"+\n     \"from bokeh.resources import INLINE\\n\"+\n     \"output_notebook(resources=INLINE)\\n\"+\n     \"</code>\\n\"+\n     \"</div>\"}};\n\n  function display_loaded() {\n    var el = document.getElementById(\"1776\");\n    if (el != null) {\n      el.textContent = \"BokehJS is loading...\";\n    }\n    if (root.Bokeh !== undefined) {\n      if (el != null) {\n        el.textContent = \"BokehJS \" + root.Bokeh.version + \" successfully loaded.\";\n      }\n    } else if (Date.now() < root._bokeh_timeout) {\n      setTimeout(display_loaded, 100)\n    }\n  }\n\n\n  function run_callbacks() {\n    try {\n      root._bokeh_onload_callbacks.forEach(function(callback) {\n        if (callback != null)\n          callback();\n      });\n    } finally {\n      delete root._bokeh_onload_callbacks\n    }\n    console.debug(\"Bokeh: all callbacks have finished\");\n  }\n\n  function load_libs(css_urls, js_urls, callback) {\n    if (css_urls == null) css_urls = [];\n    if (js_urls == null) js_urls = [];\n\n    root._bokeh_onload_callbacks.push(callback);\n    if (root._bokeh_is_loading > 0) {\n      console.debug(\"Bokeh: BokehJS is being loaded, scheduling callback at\", now());\n      return null;\n    }\n    if (js_urls == null || js_urls.length === 0) {\n      run_callbacks();\n      return null;\n    }\n    console.debug(\"Bokeh: BokehJS not loaded, scheduling load and callback at\", now());\n    root._bokeh_is_loading = css_urls.length + js_urls.length;\n\n    function on_load() {\n      root._bokeh_is_loading--;\n      if (root._bokeh_is_loading === 0) {\n        console.debug(\"Bokeh: all BokehJS libraries/stylesheets loaded\");\n        run_callbacks()\n      }\n    }\n\n    function on_error(url) {\n      console.error(\"failed to load \" + url);\n    }\n\n    for (let i = 0; i < css_urls.length; i++) {\n      const url = css_urls[i];\n      const element = document.createElement(\"link\");\n      element.onload = on_load;\n      element.onerror = on_error.bind(null, url);\n      element.rel = \"stylesheet\";\n      element.type = \"text/css\";\n      element.href = url;\n      console.debug(\"Bokeh: injecting link tag for BokehJS stylesheet: \", url);\n      document.body.appendChild(element);\n    }\n\n    const hashes = {\"https://cdn.bokeh.org/bokeh/release/bokeh-2.3.2.min.js\": \"XypntL49z55iwGVUW4qsEu83zKL3XEcz0MjuGOQ9SlaaQ68X/g+k1FcioZi7oQAc\", \"https://cdn.bokeh.org/bokeh/release/bokeh-tables-2.3.2.min.js\": \"bEsM86IHGDTLCS0Zod8a8WM6Y4+lafAL/eSiyQcuPzinmWNgNO2/olUF0Z2Dkn5i\", \"https://cdn.bokeh.org/bokeh/release/bokeh-widgets-2.3.2.min.js\": \"TX0gSQTdXTTeScqxj6PVQxTiRW8DOoGVwinyi1D3kxv7wuxQ02XkOxv0xwiypcAH\"};\n\n    for (let i = 0; i < js_urls.length; i++) {\n      const url = js_urls[i];\n      const element = document.createElement('script');\n      element.onload = on_load;\n      element.onerror = on_error.bind(null, url);\n      element.async = false;\n      element.src = url;\n      if (url in hashes) {\n        element.crossOrigin = \"anonymous\";\n        element.integrity = \"sha384-\" + hashes[url];\n      }\n      console.debug(\"Bokeh: injecting script tag for BokehJS library: \", url);\n      document.head.appendChild(element);\n    }\n  };\n\n  function inject_raw_css(css) {\n    const element = document.createElement(\"style\");\n    element.appendChild(document.createTextNode(css));\n    document.body.appendChild(element);\n  }\n\n  \n  var js_urls = [\"https://cdn.bokeh.org/bokeh/release/bokeh-2.3.2.min.js\", \"https://cdn.bokeh.org/bokeh/release/bokeh-widgets-2.3.2.min.js\", \"https://cdn.bokeh.org/bokeh/release/bokeh-tables-2.3.2.min.js\"];\n  var css_urls = [];\n  \n\n  var inline_js = [\n    function(Bokeh) {\n      Bokeh.set_log_level(\"info\");\n    },\n    function(Bokeh) {\n    \n    \n    }\n  ];\n\n  function run_inline_js() {\n    \n    if (root.Bokeh !== undefined || force === true) {\n      \n    for (var i = 0; i < inline_js.length; i++) {\n      inline_js[i].call(root, root.Bokeh);\n    }\n    if (force === true) {\n        display_loaded();\n      }} else if (Date.now() < root._bokeh_timeout) {\n      setTimeout(run_inline_js, 100);\n    } else if (!root._bokeh_failed_load) {\n      console.log(\"Bokeh: BokehJS failed to load within specified timeout.\");\n      root._bokeh_failed_load = true;\n    } else if (force !== true) {\n      var cell = $(document.getElementById(\"1776\")).parents('.cell').data().cell;\n      cell.output_area.append_execute_result(NB_LOAD_WARNING)\n    }\n\n  }\n\n  if (root._bokeh_is_loading === 0) {\n    console.debug(\"Bokeh: BokehJS loaded, going straight to plotting\");\n    run_inline_js();\n  } else {\n    load_libs(css_urls, js_urls, function() {\n      console.debug(\"Bokeh: BokehJS plotting callback run at\", now());\n      run_inline_js();\n    });\n  }\n}(window));",
      "application/vnd.bokehjs_load.v0+json": ""
     },
     "metadata": {},
     "output_type": "display_data"
    }
   ],
   "source": [
    "hover = HoverTool()\n",
    "hover.tooltips=[\n",
    "    ('Title', '@Name'),\n",
    "    ('Author', '@Author'),\n",
    "    ('Year', '@Year'),\n",
    "    ('Reviews', '@Reviews')\n",
    "]\n",
    "\n",
    "p.add_tools(hover)\n",
    "\n",
    "output_notebook()"
   ]
  },
  {
   "cell_type": "code",
   "execution_count": 20,
   "metadata": {},
   "outputs": [
    {
     "data": {
      "text/html": [
       "\n",
       "\n",
       "\n",
       "\n",
       "\n",
       "\n",
       "  <div class=\"bk-root\" id=\"4f05a9a8-4118-492d-8b30-ee642726e7f5\" data-root-id=\"1735\"></div>\n"
      ]
     },
     "metadata": {},
     "output_type": "display_data"
    },
    {
     "data": {
      "application/javascript": "(function(root) {\n  function embed_document(root) {\n    \n  var docs_json = {\"53cc7472-3ffe-4a0a-b3d6-e58d4a746273\":{\"defs\":[],\"roots\":{\"references\":[{\"attributes\":{\"below\":[{\"id\":\"1744\"}],\"center\":[{\"id\":\"1747\"},{\"id\":\"1751\"}],\"left\":[{\"id\":\"1748\"}],\"renderers\":[{\"id\":\"1769\"}],\"title\":{\"id\":\"1771\"},\"toolbar\":{\"id\":\"1759\"},\"x_range\":{\"id\":\"1736\"},\"x_scale\":{\"id\":\"1740\"},\"y_range\":{\"id\":\"1738\"},\"y_scale\":{\"id\":\"1742\"}},\"id\":\"1735\",\"subtype\":\"Figure\",\"type\":\"Plot\"},{\"attributes\":{},\"id\":\"1755\",\"type\":\"SaveTool\"},{\"attributes\":{},\"id\":\"1787\",\"type\":\"Selection\"},{\"attributes\":{},\"id\":\"1757\",\"type\":\"HelpTool\"},{\"attributes\":{},\"id\":\"1749\",\"type\":\"BasicTicker\"},{\"attributes\":{},\"id\":\"1752\",\"type\":\"PanTool\"},{\"attributes\":{},\"id\":\"1736\",\"type\":\"DataRange1d\"},{\"attributes\":{\"data\":{\"Author\":[\"Don Miguel Ruiz\",\"Pretty Simple Press\",\"Rick Riordan\",\"Don Miguel Ruiz\",\"Wizards RPG Team\",\"Zhi Gang Sha\",\"Amy Ramos\",\"Ann Voskamp\",\"Edward Klein\",\"Gallup\",\"Julia Child\",\"Dav Pilkey\",\"Sarah Palin\",\"William P. Young\",\"Melissa Hartwig Urban\",\"Dr. Seuss\",\"Bill Martin Jr.\",\"Michael Pollan\",\"The College Board\",\"Steve Harvey\",\"Thug Kitchen\",\"Mark Twain\",\"George R.R. Martin\",\"Emily Winfield Martin\",\"Tucker Carlson\",\"Don Miguel Ruiz\",\"Marie Kond\\u014d\",\"RH Disney\",\"Jaycee Dugard\",\"Stephenie Meyer\",\"Mark R. Levin\",\"F. Scott Fitzgerald\",\"Crispin Boyer\",\"William P. Young\",\"Atul Gawande\",\"Robert Munsch\",\"Gary Chapman\",\"Stieg Larsson\",\"E L James\",\"Stephenie Meyer\",\"Daniel Lipkowitz\",\"Charlaine Harris\",\"Paula Hawkins\",\"Dave Ramsey\",\"JJ Smith\",\"Bill O'Reilly\",\"F. A. Hayek\",\"Jay Asher\",\"Muriel Barbery\",\"Madeleine L'Engle\",\"Todd Burpo\",\"J.K. Rowling\",\"Malcolm Gladwell\",\"Kevin Kwan\",\"Stephen R. Covey\",\"Ron Chernow\",\"John Grisham\",\"Jim Collins\",\"Ann Whitford Paul\",\"Craig Smith\",\"Pierre Dukan\",\"R. J. Palacio\",\"Jonathan Cahn\",\"Blue Star Coloring\",\"Rod Campbell\",\"Emily Winfield Martin\",\"Mark Hyman M.D.\",\"Dr. Seuss\",\"J.K. Rowling\",\"Rachel Hollis\",\"Admiral William H. McRaven\",\"Scholastic\",\"Stieg Larsson\",\"Adam Mansbach\",\"Greg Mortenson\",\"Thug Kitchen\",\"William Davis\",\"James Patterson\",\"Thomas Piketty\",\"Bill O'Reilly\",\"Sarah Young\",\"Angie Thomas\",\"The College Board\",\"Jim Collins\",\"Mark Manson\",\"Rob Bell\",\"Drew Daywalt\",\"Stieg Larsson\",\"Cheryl Strayed\",\"Abraham Verghese\",\"David Platt\",\"George R. R. Martin\",\"School Zone\",\"Don Miguel Ruiz\",\"Angie Grace\",\"Stephenie Meyer\",\"Jeff Kinney\",\"Peter A. Lillback\",\"Jeff Kinney\",\"Ian K. Smith M.D.\"],\"Genre\":[\"Non Fiction\",\"Non Fiction\",\"Fiction\",\"Non Fiction\",\"Fiction\",\"Non Fiction\",\"Non Fiction\",\"Non Fiction\",\"Non Fiction\",\"Non Fiction\",\"Non Fiction\",\"Fiction\",\"Non Fiction\",\"Fiction\",\"Non Fiction\",\"Fiction\",\"Fiction\",\"Non Fiction\",\"Non Fiction\",\"Non Fiction\",\"Non Fiction\",\"Non Fiction\",\"Fiction\",\"Fiction\",\"Non Fiction\",\"Non Fiction\",\"Non Fiction\",\"Fiction\",\"Non Fiction\",\"Fiction\",\"Non Fiction\",\"Fiction\",\"Non Fiction\",\"Fiction\",\"Non Fiction\",\"Fiction\",\"Non Fiction\",\"Fiction\",\"Fiction\",\"Fiction\",\"Non Fiction\",\"Fiction\",\"Fiction\",\"Non Fiction\",\"Non Fiction\",\"Non Fiction\",\"Non Fiction\",\"Fiction\",\"Fiction\",\"Fiction\",\"Non Fiction\",\"Fiction\",\"Non Fiction\",\"Fiction\",\"Non Fiction\",\"Non Fiction\",\"Fiction\",\"Non Fiction\",\"Fiction\",\"Fiction\",\"Non Fiction\",\"Fiction\",\"Fiction\",\"Non Fiction\",\"Fiction\",\"Fiction\",\"Non Fiction\",\"Fiction\",\"Fiction\",\"Non Fiction\",\"Non Fiction\",\"Non Fiction\",\"Fiction\",\"Fiction\",\"Non Fiction\",\"Non Fiction\",\"Non Fiction\",\"Fiction\",\"Non Fiction\",\"Non Fiction\",\"Non Fiction\",\"Fiction\",\"Non Fiction\",\"Non Fiction\",\"Non Fiction\",\"Non Fiction\",\"Fiction\",\"Fiction\",\"Non Fiction\",\"Fiction\",\"Non Fiction\",\"Fiction\",\"Non Fiction\",\"Non Fiction\",\"Non Fiction\",\"Fiction\",\"Fiction\",\"Non Fiction\",\"Fiction\",\"Non Fiction\"],\"Name\":[\"The Four Agreements: A Practical Guide to Personal Freedom (A Toltec Wisdom Book)\",\"Good Days Start With Gratitude: A 52 Week Guide To Cultivate An Attitude Of Gratitude: Gratitude Journal\",\"The Son of Neptune (Heroes of Olympus, Book 2)\",\"The Four Agreements: A Practical Guide to Personal Freedom (A Toltec Wisdom Book)\",\"Player's Handbook (Dungeons & Dragons)\",\"Soul Healing Miracles: Ancient and New Sacred Wisdom, Knowledge, and Practical Techniques for Healing the Spiritual\\u2026\",\"The Complete Ketogenic Diet for Beginners: Your Essential Guide to Living the Keto Lifestyle\",\"One Thousand Gifts: A Dare to Live Fully Right Where You Are\",\"The Amateur\",\"StrengthsFinder 2.0\",\"Mastering the Art of French Cooking, Vol. 2\",\"Dog Man: For Whom the Ball Rolls: From the Creator of Captain Underpants (Dog Man #7)\",\"Going Rogue: An American Life\",\"The Shack: Where Tragedy Confronts Eternity\",\"The Whole30: The 30-Day Guide to Total Health and Food Freedom\",\"Oh, the Places You'll Go!\",\"Brown Bear, Brown Bear, What Do You See?\",\"Food Rules: An Eater's Manual\",\"The Official SAT Study Guide\",\"Act Like a Lady, Think Like a Man: What Men Really Think About Love, Relationships, Intimacy, and Commitment\",\"Thug Kitchen: The Official Cookbook: Eat Like You Give a F*ck (Thug Kitchen Cookbooks)\",\"Autobiography of Mark Twain, Vol. 1\",\"Game of Thrones Boxed Set: A Game of Thrones/A Clash of Kings/A Storm of Swords/A Feast for Crows\",\"The Wonderful Things You Will Be\",\"Ship of Fools: How a Selfish Ruling Class Is Bringing America to the Brink of Revolution\",\"The Four Agreements: A Practical Guide to Personal Freedom (A Toltec Wisdom Book)\",\"The Life-Changing Magic of Tidying Up: The Japanese Art of Decluttering and Organizing\",\"Frozen (Little Golden Book)\",\"A Stolen Life: A Memoir\",\"New Moon (The Twilight Saga)\",\"Liberty and Tyranny: A Conservative Manifesto\",\"The Great Gatsby\",\"National Geographic Kids Why?: Over 1,111 Answers to Everything\",\"The Shack: Where Tragedy Confronts Eternity\",\"Being Mortal: Medicine and What Matters in the End\",\"Love You Forever\",\"The Five Love Languages: How to Express Heartfelt Commitment to Your Mate\",\"The Girl with the Dragon Tattoo (Millennium Series)\",\"Fifty Shades Darker\",\"Breaking Dawn (The Twilight Saga, Book 4)\",\"The Lego Ideas Book: Unlock Your Imagination\",\"Dead in the Family (Sookie Stackhouse/True Blood, Book 10)\",\"The Girl on the Train\",\"The Total Money Makeover: Classic Edition: A Proven Plan for Financial Fitness\",\"10-Day Green Smoothie Cleanse\",\"Killing Jesus (Bill O'Reilly's Killing Series)\",\"The Road to Serfdom: Text and Documents--The Definitive Edition (The Collected Works of F. A. Hayek, Volume 2)\",\"Thirteen Reasons Why\",\"The Elegance of the Hedgehog\",\"A Wrinkle in Time (Time Quintet)\",\"Heaven is for Real: A Little Boy's Astounding Story of His Trip to Heaven and Back\",\"Harry Potter and the Chamber of Secrets: The Illustrated Edition (Harry Potter, Book 2)\",\"David and Goliath: Underdogs, Misfits, and the Art of Battling Giants\",\"Crazy Rich Asians (Crazy Rich Asians Trilogy)\",\"The 7 Habits of Highly Effective People: Powerful Lessons in Personal Change\",\"Alexander Hamilton\",\"Sycamore Row (Jake Brigance)\",\"Good to Great: Why Some Companies Make the Leap and Others Don't\",\"If Animals Kissed Good Night\",\"The Wonky Donkey\",\"The Dukan Diet: 2 Steps to Lose the Weight, 2 Steps to Keep It Off Forever\",\"Wonder\",\"The Harbinger: The Ancient Mystery that Holds the Secret of America's Future\",\"Adult Coloring Book: Stress Relieving Animal Designs\",\"Dear Zoo: A Lift-the-Flap Book\",\"The Wonderful Things You Will Be\",\"The Blood Sugar Solution: The UltraHealthy Program for Losing Weight, Preventing Disease, and Feeling Great Now!\",\"Oh, the Places You'll Go!\",\"Fantastic Beasts and Where to Find Them: The Original Screenplay (Harry Potter)\",\"Girl, Wash Your Face: Stop Believing the Lies About Who You Are So You Can Become Who You Were Meant to Be\",\"Make Your Bed: Little Things That Can Change Your Life...And Maybe the World\",\"Harry Potter Coloring Book\",\"The Girl with the Dragon Tattoo (Millennium Series)\",\"Go the F**k to Sleep\",\"Three Cups of Tea: One Man's Mission to Promote Peace - One School at a Time\",\"Thug Kitchen: The Official Cookbook: Eat Like You Give a F*ck (Thug Kitchen Cookbooks)\",\"Wheat Belly: Lose the Wheat, Lose the Weight, and Find Your Path Back to Health\",\"I, Alex Cross\",\"Capital in the Twenty First Century\",\"Killing Kennedy: The End of Camelot\",\"Jesus Calling: Enjoying Peace in His Presence (with Scripture References)\",\"The Hate U Give\",\"The Official SAT Study Guide, 2016 Edition (Official Study Guide for the New Sat)\",\"Good to Great: Why Some Companies Make the Leap and Others Don't\",\"The Subtle Art of Not Giving a F*ck: A Counterintuitive Approach to Living a Good Life\",\"Love Wins: A Book About Heaven, Hell, and the Fate of Every Person Who Ever Lived\",\"The Day the Crayons Quit\",\"The Girl Who Kicked the Hornet's Nest (Millennium Trilogy)\",\"Wild: From Lost to Found on the Pacific Crest Trail\",\"Cutting for Stone\",\"Radical: Taking Back Your Faith from the American Dream\",\"A Dance with Dragons (A Song of Ice and Fire)\",\"School Zone - Big Preschool Workbook - Ages 4 and Up, Colors, Shapes, Numbers 1-10, Alphabet, Pre-Writing, Pre-Reading\\u2026\",\"The Four Agreements: A Practical Guide to Personal Freedom (A Toltec Wisdom Book)\",\"Balance (Angie's Extreme Stress Menders)\",\"Twilight (The Twilight Saga, Book 1)\",\"Cabin Fever (Diary of a Wimpy Kid, Book 6)\",\"George Washington's Sacred Fire\",\"Wrecking Ball (Diary of a Wimpy Kid Book 14)\",\"Shred: The Revolutionary Diet: 6 Weeks 4 Inches 2 Sizes\"],\"Price\":[6,6,10,6,27,17,6,13,9,17,27,8,6,8,16,8,5,9,40,17,23,14,5,10,16,6,11,0,32,10,15,7,16,8,15,5,9,2,7,13,13,8,7,10,8,12,14,9,11,5,10,30,13,8,24,13,18,14,4,4,15,9,13,6,5,10,14,8,15,12,11,9,2,9,11,23,6,7,28,25,8,11,36,14,15,13,9,14,18,11,9,11,6,6,11,9,0,20,8,6],\"Reviews\":[23308,10141,4290,23308,16990,220,13061,3163,2580,5069,2926,9089,1636,19720,7508,21834,14344,1555,1201,5013,11128,491,5594,8842,3923,23308,22641,3642,4149,5680,3828,11616,5347,19720,11113,18613,803,10559,23631,9769,4247,1924,79446,11550,17350,11391,1204,7932,1859,5153,15779,19622,4642,6143,9325,9198,23114,3457,16643,30183,2023,21625,11098,2925,10922,8842,1789,21834,4370,22288,10199,3564,10559,9568,3319,11128,7497,1320,2884,8634,19576,9947,807,3457,26490,1649,8922,7747,17044,4866,1985,12643,23047,23308,1909,11676,4505,408,9413,2272],\"User Rating\":{\"__ndarray__\":\"zczMzMzMEkBmZmZmZmYSQDMzMzMzMxNAzczMzMzMEkAzMzMzMzMTQGZmZmZmZhJAMzMzMzMzEUBmZmZmZmYSQGZmZmZmZhJAAAAAAAAAEEAzMzMzMzMTQJqZmZmZmRNAZmZmZmZmEkBmZmZmZmYSQGZmZmZmZhJAmpmZmZmZE0CamZmZmZkTQJqZmZmZmRFAmpmZmZmZEUBmZmZmZmYSQGZmZmZmZhJAzczMzMzMEEBmZmZmZmYSQJqZmZmZmRNAMzMzMzMzE0DNzMzMzMwSQAAAAAAAABJAzczMzMzMEkBmZmZmZmYSQGZmZmZmZhJAMzMzMzMzE0CamZmZmZkRQDMzMzMzMxNAZmZmZmZmEkAzMzMzMzMTQDMzMzMzMxNAZmZmZmZmEkCamZmZmZkRQJqZmZmZmRFAZmZmZmZmEkCamZmZmZkRQDMzMzMzMxFAZmZmZmZmEEDNzMzMzMwSQM3MzMzMzBJAAAAAAAAAEkBmZmZmZmYSQAAAAAAAABJAAAAAAAAAEEAAAAAAAAASQM3MzMzMzBJAmpmZmZmZE0CamZmZmZkRQDMzMzMzMxFAZmZmZmZmEkAzMzMzMzMTQAAAAAAAABJAAAAAAAAAEkAzMzMzMzMTQDMzMzMzMxNAZmZmZmZmEEAzMzMzMzMTQGZmZmZmZhJAZmZmZmZmEkAzMzMzMzMTQJqZmZmZmRNAzczMzMzMEECamZmZmZkTQM3MzMzMzBJAZmZmZmZmEkDNzMzMzMwSQM3MzMzMzBJAmpmZmZmZEUAzMzMzMzMTQDMzMzMzMxFAZmZmZmZmEkCamZmZmZkRQGZmZmZmZhJAAAAAAAAAEkBmZmZmZmYSQJqZmZmZmRNAMzMzMzMzE0AzMzMzMzMRQAAAAAAAABJAZmZmZmZmEkDNzMzMzMwQQDMzMzMzMxNAzczMzMzMEkCamZmZmZkRQGZmZmZmZhJAzczMzMzMEkCamZmZmZkRQDMzMzMzMxNAzczMzMzMEkBmZmZmZmYSQM3MzMzMzBJAMzMzMzMzE0AAAAAAAAASQJqZmZmZmRNAZmZmZmZmEEA=\",\"dtype\":\"float64\",\"order\":\"little\",\"shape\":[100]},\"Year\":[2019,2019,2011,2016,2018,2013,2018,2011,2012,2010,2009,2019,2009,2017,2016,2012,2017,2010,2014,2009,2017,2010,2012,2017,2018,2015,2017,2014,2011,2009,2009,2012,2019,2009,2015,2015,2009,2009,2012,2009,2012,2010,2016,2019,2016,2013,2010,2017,2009,2018,2011,2016,2013,2018,2013,2016,2013,2011,2017,2019,2011,2016,2012,2015,2015,2016,2012,2016,2016,2019,2017,2015,2010,2011,2009,2014,2012,2009,2014,2012,2011,2018,2016,2012,2017,2011,2013,2010,2012,2010,2010,2011,2019,2013,2015,2009,2011,2010,2019,2013],\"index\":[380,138,463,377,266,300,355,255,339,305,228,86,134,460,484,245,40,115,443,14,503,27,119,487,297,376,425,116,12,241,216,394,239,459,34,224,374,388,104,38,422,61,383,472,0,196,457,496,364,13,161,153,59,53,334,19,315,141,178,491,363,543,400,16,63,486,344,249,102,130,227,158,389,133,498,500,531,177,45,197,187,401,444,142,464,222,360,384,537,56,284,5,294,375,29,513,42,121,545,298]},\"selected\":{\"id\":\"1787\"},\"selection_policy\":{\"id\":\"1786\"}},\"id\":\"1734\",\"type\":\"ColumnDataSource\"},{\"attributes\":{\"fill_alpha\":{\"value\":0.1},\"fill_color\":{\"value\":\"green\"},\"line_alpha\":{\"value\":0.1},\"line_color\":{\"value\":\"green\"},\"size\":{\"value\":10},\"x\":{\"field\":\"Price\"},\"y\":{\"field\":\"User Rating\"}},\"id\":\"1768\",\"type\":\"Circle\"},{\"attributes\":{\"source\":{\"id\":\"1734\"}},\"id\":\"1770\",\"type\":\"CDSView\"},{\"attributes\":{\"callback\":null,\"tooltips\":[[\"Title\",\"@Name\"],[\"Author\",\"@Author\"],[\"Year\",\"@Year\"],[\"Reviews\",\"@Reviews\"]]},\"id\":\"1772\",\"type\":\"HoverTool\"},{\"attributes\":{\"text\":\"Amazon Bestsellers\"},\"id\":\"1771\",\"type\":\"Title\"},{\"attributes\":{\"callback\":null,\"tooltips\":[[\"Title\",\"@Name\"],[\"Author\",\"@Author\"],[\"Year\",\"@Year\"],[\"Reviews\",\"@Reviews\"]]},\"id\":\"1774\",\"type\":\"HoverTool\"},{\"attributes\":{\"overlay\":{\"id\":\"1758\"}},\"id\":\"1754\",\"type\":\"BoxZoomTool\"},{\"attributes\":{},\"id\":\"1782\",\"type\":\"AllLabels\"},{\"attributes\":{\"active_multi\":null,\"tools\":[{\"id\":\"1752\"},{\"id\":\"1753\"},{\"id\":\"1754\"},{\"id\":\"1755\"},{\"id\":\"1756\"},{\"id\":\"1757\"},{\"id\":\"1772\"},{\"id\":\"1774\"}]},\"id\":\"1759\",\"type\":\"Toolbar\"},{\"attributes\":{\"axis_label\":\"User Rating\",\"formatter\":{\"id\":\"1783\"},\"major_label_policy\":{\"id\":\"1782\"},\"ticker\":{\"id\":\"1749\"}},\"id\":\"1748\",\"type\":\"LinearAxis\"},{\"attributes\":{},\"id\":\"1779\",\"type\":\"AllLabels\"},{\"attributes\":{},\"id\":\"1756\",\"type\":\"ResetTool\"},{\"attributes\":{},\"id\":\"1783\",\"type\":\"BasicTickFormatter\"},{\"attributes\":{},\"id\":\"1780\",\"type\":\"BasicTickFormatter\"},{\"attributes\":{},\"id\":\"1753\",\"type\":\"WheelZoomTool\"},{\"attributes\":{\"axis\":{\"id\":\"1748\"},\"dimension\":1,\"ticker\":null},\"id\":\"1751\",\"type\":\"Grid\"},{\"attributes\":{},\"id\":\"1740\",\"type\":\"LinearScale\"},{\"attributes\":{\"fill_color\":{\"value\":\"green\"},\"line_color\":{\"value\":\"green\"},\"size\":{\"value\":10},\"x\":{\"field\":\"Price\"},\"y\":{\"field\":\"User Rating\"}},\"id\":\"1767\",\"type\":\"Circle\"},{\"attributes\":{\"bottom_units\":\"screen\",\"fill_alpha\":0.5,\"fill_color\":\"lightgrey\",\"left_units\":\"screen\",\"level\":\"overlay\",\"line_alpha\":1.0,\"line_color\":\"black\",\"line_dash\":[4,4],\"line_width\":2,\"right_units\":\"screen\",\"syncable\":false,\"top_units\":\"screen\"},\"id\":\"1758\",\"type\":\"BoxAnnotation\"},{\"attributes\":{},\"id\":\"1786\",\"type\":\"UnionRenderers\"},{\"attributes\":{},\"id\":\"1745\",\"type\":\"BasicTicker\"},{\"attributes\":{\"axis_label\":\"Price\",\"formatter\":{\"id\":\"1780\"},\"major_label_policy\":{\"id\":\"1779\"},\"ticker\":{\"id\":\"1745\"}},\"id\":\"1744\",\"type\":\"LinearAxis\"},{\"attributes\":{},\"id\":\"1742\",\"type\":\"LinearScale\"},{\"attributes\":{\"data_source\":{\"id\":\"1734\"},\"glyph\":{\"id\":\"1767\"},\"hover_glyph\":null,\"muted_glyph\":null,\"nonselection_glyph\":{\"id\":\"1768\"},\"view\":{\"id\":\"1770\"}},\"id\":\"1769\",\"type\":\"GlyphRenderer\"},{\"attributes\":{\"axis\":{\"id\":\"1744\"},\"ticker\":null},\"id\":\"1747\",\"type\":\"Grid\"},{\"attributes\":{},\"id\":\"1738\",\"type\":\"DataRange1d\"}],\"root_ids\":[\"1735\"]},\"title\":\"Bokeh Application\",\"version\":\"2.3.2\"}};\n  var render_items = [{\"docid\":\"53cc7472-3ffe-4a0a-b3d6-e58d4a746273\",\"root_ids\":[\"1735\"],\"roots\":{\"1735\":\"4f05a9a8-4118-492d-8b30-ee642726e7f5\"}}];\n  root.Bokeh.embed.embed_items_notebook(docs_json, render_items);\n\n  }\n  if (root.Bokeh !== undefined) {\n    embed_document(root);\n  } else {\n    var attempts = 0;\n    var timer = setInterval(function(root) {\n      if (root.Bokeh !== undefined) {\n        clearInterval(timer);\n        embed_document(root);\n      } else {\n        attempts++;\n        if (attempts > 100) {\n          clearInterval(timer);\n          console.log(\"Bokeh: ERROR: Unable to run BokehJS code because BokehJS library is missing\");\n        }\n      }\n    }, 10, root)\n  }\n})(window);",
      "application/vnd.bokehjs_exec.v0+json": ""
     },
     "metadata": {
      "application/vnd.bokehjs_exec.v0+json": {
       "id": "1735"
      }
     },
     "output_type": "display_data"
    },
    {
     "data": {
      "text/plain": [
       "'c:\\\\DesignDevSyllabus\\\\exercises\\\\eleven\\\\amazon.html'"
      ]
     },
     "execution_count": 20,
     "metadata": {},
     "output_type": "execute_result"
    }
   ],
   "source": [
    "show(p)\n",
    "save(p)"
   ]
  }
 ],
 "metadata": {
  "interpreter": {
   "hash": "af29365a973779c9560d56e09334d0c9d23342aad144db3e18bca9328584f409"
  },
  "kernelspec": {
   "display_name": "Python 3.8.8 64-bit ('base': conda)",
   "name": "python3"
  },
  "language_info": {
   "codemirror_mode": {
    "name": "ipython",
    "version": 3
   },
   "file_extension": ".py",
   "mimetype": "text/x-python",
   "name": "python",
   "nbconvert_exporter": "python",
   "pygments_lexer": "ipython3",
   "version": "3.8.8"
  },
  "orig_nbformat": 4
 },
 "nbformat": 4,
 "nbformat_minor": 2
}
