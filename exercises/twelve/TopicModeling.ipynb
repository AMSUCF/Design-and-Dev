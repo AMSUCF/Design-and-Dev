{
 "cells": [
  {
   "cell_type": "code",
   "execution_count": 57,
   "metadata": {},
   "outputs": [
    {
     "name": "stdout",
     "output_type": "stream",
     "text": [
      "7\n",
      "['texts/anne.txt', 'texts/carpentry.txt', 'texts/household.txt', 'texts/oz.txt', 'texts/quilts.txt', 'texts/radio.txt', 'texts/soap.txt']\n"
     ]
    }
   ],
   "source": [
    "import pandas as pd\n",
    "import os\n",
    "import numpy as np\n",
    "\n",
    "documents = []\n",
    "path = 'texts/'\n",
    "\n",
    "filenames=sorted([os.path.join(path, fn) for fn in os.listdir(path)])\n",
    "print(len(filenames)) # count files in corpus\n",
    "print(filenames[:10]) # print names of 1st ten files in corpus\n",
    "\n"
   ]
  },
  {
   "cell_type": "code",
   "execution_count": 59,
   "metadata": {},
   "outputs": [],
   "source": [
    "import sklearn.feature_extraction.text as text\n",
    "\n",
    "vectorizer=text.CountVectorizer(input='filename', stop_words=\"english\", min_df=1)\n",
    "dtm=vectorizer.fit_transform(filenames).toarray() # defines document term matrix\n",
    "\n",
    "vocab=np.array(vectorizer.get_feature_names())\n"
   ]
  },
  {
   "cell_type": "code",
   "execution_count": 60,
   "metadata": {},
   "outputs": [
    {
     "name": "stdout",
     "output_type": "stream",
     "text": [
      "Shape of document-term matrix: (7, 28305). Number of tokens 431880\n"
     ]
    }
   ],
   "source": [
    "print(f'Shape of document-term matrix: {dtm.shape}. '\n",
    "      f'Number of tokens {dtm.sum()}')"
   ]
  },
  {
   "cell_type": "code",
   "execution_count": 61,
   "metadata": {},
   "outputs": [],
   "source": [
    "import sklearn.decomposition as decomposition\n",
    "model = decomposition.LatentDirichletAllocation(\n",
    "    n_components=100, learning_method='online', random_state=1)"
   ]
  },
  {
   "cell_type": "code",
   "execution_count": 62,
   "metadata": {},
   "outputs": [],
   "source": [
    "document_topic_distributions = model.fit_transform(dtm)"
   ]
  },
  {
   "cell_type": "code",
   "execution_count": 77,
   "metadata": {},
   "outputs": [],
   "source": [
    "vocabulary = vectorizer.get_feature_names()\n",
    "# (# topics, # vocabulary)\n",
    "assert model.components_.shape == (100, len(vocabulary))\n",
    "# (# documents, # topics)\n",
    "assert document_topic_distributions.shape == (dtm.shape[0], 100)"
   ]
  },
  {
   "cell_type": "code",
   "execution_count": 78,
   "metadata": {},
   "outputs": [
    {
     "name": "stdout",
     "output_type": "stream",
     "text": [
      "                00       000      0000     00000      0002     00022  \\\n",
      "Topic 0   0.284336  0.273106  0.193799  0.183661  0.240459  0.189414   \n",
      "Topic 1   0.282135  0.429886  0.180363  0.210924  0.176096  0.197776   \n",
      "Topic 2   0.228119  0.285528  0.232802  0.199652  0.207414  0.216283   \n",
      "Topic 3   0.391398  0.382755  0.207796  0.200194  0.200734  0.210996   \n",
      "Topic 4   0.339671  0.570121  0.206024  0.208011  0.189753  0.217001   \n",
      "...            ...       ...       ...       ...       ...       ...   \n",
      "Topic 95  0.233317  0.250611  0.212707  0.195401  0.191980  0.207354   \n",
      "Topic 96  0.255447  0.368277  0.196880  0.203562  0.187605  0.202949   \n",
      "Topic 97  0.231214  0.263657  0.198172  0.217798  0.203392  0.218453   \n",
      "Topic 98  0.205398  0.296390  0.209676  0.196070  0.220312  0.206196   \n",
      "Topic 99  0.266375  0.416276  0.193755  0.214186  0.228266  0.208181   \n",
      "\n",
      "             00025      0003     00033      0004  ...       ziz    zodiac  \\\n",
      "Topic 0   0.235559  0.166321  0.227120  0.183532  ...  0.190216  0.180445   \n",
      "Topic 1   0.211283  0.184078  0.197404  0.212879  ...  0.184696  0.211050   \n",
      "Topic 2   0.182551  0.181318  0.228134  0.209640  ...  0.219690  0.219995   \n",
      "Topic 3   0.198098  0.245261  0.224670  0.217443  ...  0.220041  0.164367   \n",
      "Topic 4   0.235169  0.193676  0.260705  0.230845  ...  0.194137  0.160087   \n",
      "...            ...       ...       ...       ...  ...       ...       ...   \n",
      "Topic 95  0.215952  0.196038  0.218696  0.181383  ...  0.221986  0.210661   \n",
      "Topic 96  0.194949  0.176869  0.197641  0.218836  ...  0.182553  0.166387   \n",
      "Topic 97  0.180830  0.167378  0.233999  0.196012  ...  0.167544  0.208837   \n",
      "Topic 98  0.191906  0.221117  0.204485  0.209967  ...  0.197195  0.192343   \n",
      "Topic 99  0.196801  0.205992  0.187650  0.171029  ...  0.180223  0.206612   \n",
      "\n",
      "              zone     zones  zoological  zoophyte       ztg       zuz  \\\n",
      "Topic 0   0.220129  0.189133    0.215018  0.185991  0.195043  0.189797   \n",
      "Topic 1   0.215632  0.179083    0.203201  0.206100  0.234387  0.213244   \n",
      "Topic 2   0.188503  0.221687    0.202547  0.197628  0.207811  0.197407   \n",
      "Topic 3   0.213951  0.228589    0.216273  0.209023  0.210767  0.191837   \n",
      "Topic 4   0.218965  0.217519    0.202474  0.176226  0.190841  0.221917   \n",
      "...            ...       ...         ...       ...       ...       ...   \n",
      "Topic 95  0.181574  0.189348    0.216741  0.193218  0.224152  0.286908   \n",
      "Topic 96  0.171205  0.217673    0.215027  0.243682  0.227049  0.177805   \n",
      "Topic 97  0.249848  0.204413    0.207890  0.217170  0.245137  0.262709   \n",
      "Topic 98  0.206219  0.209007    0.181589  0.200872  0.205807  0.193946   \n",
      "Topic 99  0.188775  0.204740    0.191419  0.205487  0.197510  0.191432   \n",
      "\n",
      "                zy  æsthetic  \n",
      "Topic 0   0.179407  0.191623  \n",
      "Topic 1   0.218586  0.197929  \n",
      "Topic 2   0.196571  0.202839  \n",
      "Topic 3   0.207889  0.223972  \n",
      "Topic 4   0.229270  0.214658  \n",
      "...            ...       ...  \n",
      "Topic 95  0.220915  0.234706  \n",
      "Topic 96  0.237196  0.194677  \n",
      "Topic 97  0.175089  0.195807  \n",
      "Topic 98  0.192312  0.192451  \n",
      "Topic 99  0.255490  0.208338  \n",
      "\n",
      "[100 rows x 28305 columns]\n"
     ]
    }
   ],
   "source": [
    "topic_names = [f'Topic {k}' for k in range(100)]\n",
    "topic_word_distributions = pd.DataFrame(\n",
    "    model.components_, columns=vocabulary, index=topic_names)\n",
    "print(topic_word_distributions)"
   ]
  },
  {
   "cell_type": "code",
   "execution_count": 80,
   "metadata": {},
   "outputs": [
    {
     "data": {
      "text/plain": [
       "water           1.844029\n",
       "sugar           1.503968\n",
       "time            1.442739\n",
       "set             1.441557\n",
       "ingredients     1.350792\n",
       "butter          1.324085\n",
       "_mode_          1.312847\n",
       "little          1.287094\n",
       "salt            1.183906\n",
       "small           1.176158\n",
       "_time_          1.136418\n",
       "good            1.121470\n",
       "_seasonable_    1.101443\n",
       "cut             1.076260\n",
       "use             1.067398\n",
       "large           1.009735\n",
       "eggs            1.001758\n",
       "used            0.999058\n",
       "Name: Topic 9, dtype: float64"
      ]
     },
     "execution_count": 80,
     "metadata": {},
     "output_type": "execute_result"
    }
   ],
   "source": [
    "topic_word_distributions.loc['Topic 9'].sort_values(ascending=False).head(18)"
   ]
  },
  {
   "cell_type": "code",
   "execution_count": 86,
   "metadata": {},
   "outputs": [
    {
     "name": "stdout",
     "output_type": "stream",
     "text": [
      "        Topic 0       Topic 1       Topic 2       Topic 3       Topic 4  \\\n",
      "0  2.108593e-07  2.108593e-07  2.108593e-07  2.108593e-07  2.108593e-07   \n",
      "1  4.721658e-07  4.721658e-07  4.721658e-07  4.721658e-07  4.721658e-07   \n",
      "2  3.942798e-08  3.942798e-08  3.942798e-08  3.942798e-08  3.942798e-08   \n",
      "3  5.730002e-07  5.730002e-07  5.730002e-07  5.730002e-07  5.730002e-07   \n",
      "4  5.049230e-07  5.049230e-07  5.049230e-07  5.049230e-07  5.049230e-07   \n",
      "5  2.877118e-07  2.877118e-07  2.877118e-07  2.877118e-07  2.877118e-07   \n",
      "6  2.656607e-07  2.656607e-07  2.656607e-07  2.656607e-07  2.656607e-07   \n",
      "\n",
      "        Topic 5       Topic 6       Topic 7       Topic 8       Topic 9  ...  \\\n",
      "0  2.108593e-07  2.108593e-07  2.108593e-07  2.108593e-07  2.108593e-07  ...   \n",
      "1  4.721658e-07  4.721658e-07  4.721658e-07  4.721658e-07  4.721658e-07  ...   \n",
      "2  3.942798e-08  3.942798e-08  3.942798e-08  3.942798e-08  3.942798e-08  ...   \n",
      "3  5.730002e-07  5.730002e-07  5.730002e-07  5.730002e-07  5.730002e-07  ...   \n",
      "4  5.049230e-07  5.049230e-07  5.049230e-07  5.049230e-07  5.049230e-07  ...   \n",
      "5  2.877118e-07  2.877118e-07  2.877118e-07  2.877118e-07  2.877118e-07  ...   \n",
      "6  2.656607e-07  2.656607e-07  2.656607e-07  2.656607e-07  2.656607e-07  ...   \n",
      "\n",
      "       Topic 90      Topic 91      Topic 92      Topic 93      Topic 94  \\\n",
      "0  2.108593e-07  2.108593e-07  2.108593e-07  2.108593e-07  9.999791e-01   \n",
      "1  4.721658e-07  4.721658e-07  4.721658e-07  4.721658e-07  4.721658e-07   \n",
      "2  3.942798e-08  3.942798e-08  3.942798e-08  3.942798e-08  3.942798e-08   \n",
      "3  5.730002e-07  5.730002e-07  5.730002e-07  5.730002e-07  4.632328e-01   \n",
      "4  5.049230e-07  5.049230e-07  5.049230e-07  5.049230e-07  9.593505e-01   \n",
      "5  2.877118e-07  2.877118e-07  2.877118e-07  2.877118e-07  2.877118e-07   \n",
      "6  2.656607e-07  2.656607e-07  2.656607e-07  2.656607e-07  2.656607e-07   \n",
      "\n",
      "       Topic 95      Topic 96      Topic 97      Topic 98      Topic 99  \n",
      "0  2.108593e-07  2.108593e-07  2.108593e-07  2.108593e-07  2.108593e-07  \n",
      "1  4.721658e-07  4.721658e-07  4.721658e-07  4.721658e-07  4.721658e-07  \n",
      "2  3.942798e-08  3.942798e-08  3.942798e-08  3.942798e-08  3.942798e-08  \n",
      "3  5.730002e-07  5.730002e-07  5.730002e-07  5.730002e-07  5.730002e-07  \n",
      "4  5.049230e-07  5.049230e-07  5.049230e-07  5.049230e-07  5.049230e-07  \n",
      "5  2.877118e-07  2.877118e-07  2.877118e-07  2.877118e-07  2.877118e-07  \n",
      "6  2.656607e-07  2.656607e-07  2.656607e-07  2.656607e-07  2.656607e-07  \n",
      "\n",
      "[7 rows x 100 columns]\n"
     ]
    }
   ],
   "source": [
    "document_topic_distributions = pd.DataFrame(\n",
    "    document_topic_distributions, columns=topic_names)\n",
    "print(document_topic_distributions)"
   ]
  },
  {
   "cell_type": "code",
   "execution_count": 97,
   "metadata": {},
   "outputs": [
    {
     "data": {
      "text/plain": [
       "water      1.216246\n",
       "anne       1.160305\n",
       "marilla    1.048951\n",
       "said       0.964860\n",
       "soap       0.883108\n",
       "good       0.872624\n",
       "used       0.827069\n",
       "little     0.824780\n",
       "time       0.765050\n",
       "white      0.760912\n",
       "don        0.720734\n",
       "mrs        0.715693\n",
       "let        0.664526\n",
       "hour       0.662518\n",
       "oh         0.621150\n",
       "oil        0.614440\n",
       "head       0.613608\n",
       "like       0.600606\n",
       "Name: Topic 2, dtype: float64"
      ]
     },
     "execution_count": 97,
     "metadata": {},
     "output_type": "execute_result"
    }
   ],
   "source": [
    "words = topic_word_distributions.loc['Topic 2'].sort_values(ascending=False).head(18)\n",
    "words\n"
   ]
  },
  {
   "cell_type": "code",
   "execution_count": 98,
   "metadata": {},
   "outputs": [
    {
     "name": "stdout",
     "output_type": "stream",
     "text": [
      "00       0.228119\n",
      "000      0.285528\n",
      "0000     0.232802\n",
      "00000    0.199652\n",
      "0002     0.207414\n",
      "00022    0.216283\n",
      "00025    0.182551\n",
      "0003     0.181318\n",
      "00033    0.228134\n",
      "0004     0.209640\n",
      "00043    0.182390\n",
      "0005     0.233071\n",
      "00065    0.170985\n",
      "0007     0.201019\n",
      "0008     0.242039\n",
      "00087    0.208843\n",
      "000th    0.230789\n",
      "001      0.176771\n",
      "0010     0.273909\n",
      "00108    0.195224\n",
      "Name: Topic 2, dtype: float64\n"
     ]
    },
    {
     "data": {
      "image/png": "[encoded data removed]",
      "text/plain": [
       "<Figure size 432x288 with 1 Axes>"
      ]
     },
     "metadata": {
      "needs_background": "light"
     },
     "output_type": "display_data"
    }
   ],
   "source": [
    "from matplotlib import pyplot as plt\n",
    "from wordcloud import WordCloud, STOPWORDS\n",
    "import matplotlib.colors as mcolors\n",
    "\n",
    "print(topic_word_distributions.loc['Topic 2'].head(20))\n",
    "\n",
    "# Create and generate a word cloud image:\n",
    "wordcloud = WordCloud().generate_from_frequencies(words)\n",
    "\n",
    "# Display the generated image:\n",
    "plt.imshow(wordcloud, interpolation='bilinear')\n",
    "plt.axis(\"off\")\n",
    "plt.show()\n"
   ]
  }
 ],
 "metadata": {
  "interpreter": {
   "hash": "af29365a973779c9560d56e09334d0c9d23342aad144db3e18bca9328584f409"
  },
  "kernelspec": {
   "display_name": "Python 3.8.8 64-bit ('base': conda)",
   "name": "python3"
  },
  "language_info": {
   "codemirror_mode": {
    "name": "ipython",
    "version": 3
   },
   "file_extension": ".py",
   "mimetype": "text/x-python",
   "name": "python",
   "nbconvert_exporter": "python",
   "pygments_lexer": "ipython3",
   "version": "3.8.8"
  },
  "orig_nbformat": 4
 },
 "nbformat": 4,
 "nbformat_minor": 2
}
