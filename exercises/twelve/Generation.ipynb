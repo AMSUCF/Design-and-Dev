{
 "cells": [
  {
   "cell_type": "code",
   "execution_count": 3,
   "metadata": {},
   "outputs": [],
   "source": [
    "# You'll need to run conda install markovify first\n",
    "# Inspired by: https://colab.research.google.com/drive/1szxfgCr-71Qudoh_erKEESSLOhU9Fhh7?usp=sharing\n",
    "\n",
    "import markovify\n",
    "import random"
   ]
  },
  {
   "cell_type": "code",
   "execution_count": 21,
   "metadata": {},
   "outputs": [],
   "source": [
    "with open(\"alice.txt\",encoding='utf-8') as f:\n",
    "    text = f.read()"
   ]
  },
  {
   "cell_type": "code",
   "execution_count": 6,
   "metadata": {},
   "outputs": [],
   "source": [
    "text_model = markovify.Text(text)"
   ]
  },
  {
   "cell_type": "code",
   "execution_count": 11,
   "metadata": {},
   "outputs": [
    {
     "name": "stdout",
     "output_type": "stream",
     "text": [
      "First, she tried to beat them off, and she felt that this could not possibly reach it: she could have been changed in the United States, you will support the Project Gutenberg Literary Archive Foundation are tax deductible to the owner of the suppressed guinea-pigs, filled the air, and came flying down upon her: she gave a sudden leap out of the ground, Alice soon began talking again.\n"
     ]
    }
   ],
   "source": [
    "print( text_model.make_sentence() )"
   ]
  },
  {
   "cell_type": "code",
   "execution_count": 22,
   "metadata": {},
   "outputs": [
    {
     "name": "stdout",
     "output_type": "stream",
     "text": [
      "anne.txt\n",
      "carpentry.txt\n",
      "household.txt\n",
      "oz.txt\n",
      "quilts.txt\n",
      "radio.txt\n",
      "soap.txt\n"
     ]
    }
   ],
   "source": [
    "import os\n",
    "path = 'texts/'\n",
    "with os.scandir(path) as entries:\n",
    "    for entry in entries:\n",
    "        print(entry.name)\n",
    "        f = open(f'{path}\\{entry.name}',encoding='utf-8')\n",
    "        text += f.read()"
   ]
  },
  {
   "cell_type": "code",
   "execution_count": 27,
   "metadata": {},
   "outputs": [
    {
     "name": "stdout",
     "output_type": "stream",
     "text": [
      "I suppose she is to be sensible yet.\n"
     ]
    }
   ],
   "source": [
    "text_model = markovify.Text(text)\n",
    "print( text_model.make_sentence() )"
   ]
  },
  {
   "cell_type": "code",
   "execution_count": 31,
   "metadata": {},
   "outputs": [
    {
     "name": "stdout",
     "output_type": "stream",
     "text": [
      "_Don't_ do it right for a month or six seconds; and if flies have touched it, the Witch fell down and wept bitterly. The receiving apparatus separate and wash the whitings, and wipe them thoroughly, and put the bones quite clean. _Sufficient_ for 1 hour; strain the liquor, and put the saucepan before it has all been run to and break up the meat into steaks all of which carries a piece of wood or pit-coal in a warm climate, and partly by culture. The inside of the primary coil is wound up with a puff-crust, and bake for 4 or 5 persons. INGREDIENTS.--12 fine black silk dress, if very thick, and, when the glass table and down in the other, it will be of a yellowish-white colour, and are much better than horse-tongue; nevertheless, the present time. \n",
      "\n",
      "Let it simmer for another dinner and told them that they may be solved satisfactorily by the corporation, to be obtained at all afraid, although he was like low, friendly speech, and its modulator are shunted around the headphones. This liability is increased and where the agreement is complete, and the temperature of which are tied together by passing the cardboard back and forth with the dough, with a quick, queer little beat. Miss Barry met them in a fortnight or 3 tablespoonfuls of fine black-lead in powder, and stir the sauce is quite as sensitive as possible so that the Michaelmas goose is rank. When a vein or artery is divided, the rib-bones should be tied tightly round the joint, along the line 3 to 3-1/2 minutes, according to taste. I never thought I would marry, so that the decision of the posts of your aerial come too close together. EPICUREAN SAUCE FOR POULTRY. Minnie May was much grayer than usual. _Time_.--From 5 to 6, and care must be well skimmed; then add to the filament secondary coil in the preceding recipe, as a garnish. \n",
      "\n",
      "Everything that is made of these twin arts. _Time_.--1/4 hour; if liked well done, allow them to boil the syrup; put in the others, seemed to be a little cold water for 10 min. and cool down, ain’t never likely to become tainted and spoil them. Having stirred it sufficiently, pour in the hollows of trees; it never, however, like stuffings and forcemeats, are matters to be remembered, that equality of _size_, and not boil fast, or the beginning of autumn are actually courting death. This bill of exchange may nevertheless be discharged by applying leeches and a good oven from 1-1/2 to 2 hours; chop the onions, put them into the presence of organic non-fats. When some of the sugar, and then further washed and dried, they are done, or they would be quite free from them. \n",
      "\n",
      "Project Gutenberg-tm electronic works if you will depend largely on the turns of wire wound on it. _Seasonable_ in July, August, and September; but may be is friable, and shrunk within its integuments. Her face was pale and brown, and be placed on an errand, came too. It’s an extremely heavy and full of mischief at times, flying down through the turns of wire you need only to attempt the operation. There is faintness, depression, and sickness, with or without smoke. \n",
      "\n",
      "\n"
     ]
    }
   ],
   "source": [
    "novel = ''\n",
    "while (len( novel.split(\" \")) < 500):\n",
    "  for i in range(random.randrange(3,9)):\n",
    "    novel += text_model.make_sentence() + \" \"\n",
    "  novel += \"\\n\\n\"\n",
    "    # print(text_model.make_sentence()\n",
    "\n",
    "print(novel)"
   ]
  }
 ],
 "metadata": {
  "interpreter": {
   "hash": "af29365a973779c9560d56e09334d0c9d23342aad144db3e18bca9328584f409"
  },
  "kernelspec": {
   "display_name": "Python 3.8.8 64-bit ('base': conda)",
   "name": "python3"
  },
  "language_info": {
   "codemirror_mode": {
    "name": "ipython",
    "version": 3
   },
   "file_extension": ".py",
   "mimetype": "text/x-python",
   "name": "python",
   "nbconvert_exporter": "python",
   "pygments_lexer": "ipython3",
   "version": "3.8.8"
  },
  "orig_nbformat": 4
 },
 "nbformat": 4,
 "nbformat_minor": 2
}
