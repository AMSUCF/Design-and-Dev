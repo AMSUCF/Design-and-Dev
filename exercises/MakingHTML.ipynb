{
 "cells": [
  {
   "cell_type": "code",
   "execution_count": 3,
   "source": [
    "f = open('helloworld.html','w')\r\n",
    "\r\n",
    "message = \"\"\"<html>\r\n",
    "<head></head>\r\n",
    "<body><p>Hello World!</p></body>\r\n",
    "</html>\"\"\"\r\n",
    "\r\n",
    "f.write(message)\r\n",
    "\r\n",
    "f.close()\r\n"
   ],
   "outputs": [],
   "metadata": {}
  },
  {
   "cell_type": "markdown",
   "source": [
    "# Mac note\r\n",
    "\r\n",
    "The following will only work on PCs (like the lab machines) - for Mac, you'll need to specify a file path as well.\r\n",
    "\r\n",
    "filename = 'file:///Users/username/Desktop/your-user-name/' + 'helloworld.html'\r\n",
    "webbrowser.open_new_tab(filename)\r\n"
   ],
   "metadata": {}
  },
  {
   "cell_type": "code",
   "execution_count": 2,
   "source": [
    "import webbrowser\r\n",
    "\r\n",
    "webbrowser.open_new_tab('helloworld.html')\r\n"
   ],
   "outputs": [
    {
     "output_type": "execute_result",
     "data": {
      "text/plain": [
       "True"
      ]
     },
     "metadata": {},
     "execution_count": 2
    }
   ],
   "metadata": {}
  }
 ],
 "metadata": {
  "orig_nbformat": 4,
  "language_info": {
   "name": "python",
   "version": "3.7.8",
   "mimetype": "text/x-python",
   "codemirror_mode": {
    "name": "ipython",
    "version": 3
   },
   "pygments_lexer": "ipython3",
   "nbconvert_exporter": "python",
   "file_extension": ".py"
  },
  "kernelspec": {
   "name": "python3",
   "display_name": "Python 3.7.8 64-bit ('base': conda)"
  },
  "interpreter": {
   "hash": "b3ba2566441a7c06988d0923437866b63cedc61552a5af99d1f4fb67d367b25f"
  }
 },
 "nbformat": 4,
 "nbformat_minor": 2
}